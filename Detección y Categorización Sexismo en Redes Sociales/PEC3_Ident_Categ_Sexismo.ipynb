{
 "cells": [
  {
   "cell_type": "markdown",
   "metadata": {
    "id": "eW9J3i3jhShN"
   },
   "source": [
    "<div style=\"width: 100%; clear: both;\">\n",
    "<div style=\"float: left; width: 50%;\">\n",
    "<img src=\"http://www.uoc.edu/portal/_resources/common/imatges/marca_UOC/UOC_Masterbrand.jpg\", align=\"left\">\n",
    "</div>\n",
    "<div style=\"float: right; width: 50%;\">\n",
    "<p style=\"margin: 0; padding-top: 22px; text-align:right;\">M2.880 · TFM Area3 Aula 1 · PEC3</p>\n",
    "<p style=\"margin: 0; text-align:right;\">2022-2 · Máster universitario en Ciencia de datos (Data science)</p>\n",
    "<p style=\"margin: 0; text-align:right; padding-button: 100px;\">Estudios de Informática, Multimedia y Telecomunicación</p>\n",
    "</div>\n",
    "</div>\n",
    "<div style=\"width:100%;\">&nbsp;</div>\n",
    "\n",
    "\n",
    "**Estudiante: Javier Plo Moreno**\n",
    "\n",
    "# PEC 3: Diseño e implementación del trabajo. Identificación y categorización del sexismo y topic modelling.\n",
    "\n",
    "Implementaremos modelos para la identificación y la categorización del sexismo en redes sociales (Twitter y Gab post), a partir de los datos obtenidos de **EXIST: sEXism Identification in Social neTworks** http://nlp.uned.es/exist2021/ mediante el siguiente formulario: https://forms.office.com/Pages/ResponsePage.aspx?id=SHBYtXCgrUO2VCCjHpstmc1J3Gu50zdMhFmXSTrhRZJUM1FQUTlSUUNQMEZZR01SRTVMVDg3SktaSC4u\n",
    "\n",
    "Las tareas propuestas nos llevan a trabajar con los siguientes datos, que se dividen y clasifican en:\n",
    "\n",
    "- **TASK1: Sexism Identification**\n",
    "    - Sexist\n",
    "    - Non Sexist\n",
    "- **TASK2: Sexism Categorization** (Sobre datos clasificados como Sexist en la TASK1)\n",
    "    - Ideological and Inequality\n",
    "    - Stereotyping and Dominance\n",
    "    - Objectification\n",
    "    - Sexual Violence\n",
    "    - Misogyny and non-sexual violence\n",
    "    \n",
    "Para la TASK1, al tratarse de datos balanceados, se requiere en la web que se utilice Accuracy como scoring\n",
    "\n",
    "Para la TASK2 se utilizará f-macro\n",
    "\n",
    "Se ha trabajado con los datos en castellano de ambos conjuntos\n",
    "\n",
    "También implementaremos alguna técnica no supervisada de NLP como el Topic Modelling para de detectar y extraer de manera automática relaciones semánticas latentes de grandes volúmenes de información (tópicos).Utilizaremos para ello el modelo Latent Dirichlet Allocation (LDA), aplicado al conjunto de datos total, tweets y gab posts tanto de training como de test.\n",
    "\n",
    "El objetivo de estos desarrollos dentro del TFM es comprobar que disponemos de las herramientas necesarias para poder detectar el sexismo en redes sociales, y utilizarlo para poder detectar poblaciones objetivo de posibles agresores, o bien incluir esta información como atributos en el modelo de agresores.\n",
    "\n",
    "\n",
    "**Importante: La entrega debe hacerse en formato notebook y en formato html donde se vea el código y los resultados y comentarios de cada ejercicio** "
   ]
  },
  {
   "cell_type": "code",
   "execution_count": null,
   "metadata": {
    "colab": {
     "base_uri": "https://localhost:8080/"
    },
    "executionInfo": {
     "elapsed": 3123,
     "status": "ok",
     "timestamp": 1649023533900,
     "user": {
      "displayName": "Montse Cuadros Oller",
      "userId": "03990437333465779187"
     },
     "user_tz": -120
    },
    "id": "C06G6NWThShS",
    "outputId": "80c1a66a-dcb4-4642-ab42-1a90d91eaa94"
   },
   "outputs": [],
   "source": [
    "import pandas as pd\n",
    "import gensim\n",
    "import nltk\n",
    "import re\n",
    "nltk.download('punkt')\n",
    "import os\n",
    "import gzip\n",
    "import shutil\n",
    "\n",
    "from nltk import pos_tag, word_tokenize\n",
    "from nltk.corpus import stopwords\n",
    "from nltk.stem import SnowballStemmer\n",
    "from nltk.tokenize import ToktokTokenizer, word_tokenize\n",
    "\n",
    "from gensim.corpora import Dictionary\n",
    "from gensim.models import LdaModel\n",
    "\n",
    "import random\n",
    "import numpy as np\n",
    "import matplotlib.pyplot as plt\n",
    "from wordcloud import WordCloud\n",
    "from string import punctuation\n",
    "\n",
    "from sklearn.model_selection import cross_val_score\n",
    "from sklearn.svm import LinearSVC, SVC\n",
    "from sklearn.naive_bayes import GaussianNB\n",
    "from sklearn.tree import DecisionTreeClassifier\n",
    "from sklearn.linear_model import SGDClassifier\n",
    "from sklearn.linear_model import LogisticRegression\n",
    "from sklearn.pipeline import Pipeline\n",
    "from sklearn.feature_extraction.text import CountVectorizer\n",
    "from sklearn.model_selection import GridSearchCV\n",
    "from sklearn.metrics import confusion_matrix, mean_squared_error, classification_report,f1_score\n",
    "\n",
    "import seaborn as sns\n",
    "\n",
    "#%matplotlib inline\n",
    "nltk.download('averaged_perceptron_tagger')"
   ]
  },
  {
   "cell_type": "markdown",
   "metadata": {
    "id": "1aJFY7fthShR"
   },
   "source": [
    "# 1. Identificación y categorización del sexismo\n",
    "\n"
   ]
  },
  {
   "cell_type": "markdown",
   "metadata": {},
   "source": [
    "**EXIST2021-TASK1. IDENTIFICACIÓN DEL SEXISMO. CLASIFICADORES BINARIOS**"
   ]
  },
  {
   "cell_type": "markdown",
   "metadata": {},
   "source": [
    "**Lectura de ficheros de training y test**"
   ]
  },
  {
   "cell_type": "code",
   "execution_count": 131,
   "metadata": {},
   "outputs": [
    {
     "data": {
      "text/html": [
       "<div>\n",
       "<style scoped>\n",
       "    .dataframe tbody tr th:only-of-type {\n",
       "        vertical-align: middle;\n",
       "    }\n",
       "\n",
       "    .dataframe tbody tr th {\n",
       "        vertical-align: top;\n",
       "    }\n",
       "\n",
       "    .dataframe thead th {\n",
       "        text-align: right;\n",
       "    }\n",
       "</style>\n",
       "<table border=\"1\" class=\"dataframe\">\n",
       "  <thead>\n",
       "    <tr style=\"text-align: right;\">\n",
       "      <th></th>\n",
       "      <th>id</th>\n",
       "      <th>source</th>\n",
       "      <th>text</th>\n",
       "      <th>task1</th>\n",
       "      <th>task2</th>\n",
       "    </tr>\n",
       "  </thead>\n",
       "  <tbody>\n",
       "    <tr>\n",
       "      <th>0</th>\n",
       "      <td>3437</td>\n",
       "      <td>twitter</td>\n",
       "      <td>Nadie te va a tratar tan bien como un hombre q...</td>\n",
       "      <td>sexist</td>\n",
       "      <td>sexual-violence</td>\n",
       "    </tr>\n",
       "    <tr>\n",
       "      <th>1</th>\n",
       "      <td>3438</td>\n",
       "      <td>twitter</td>\n",
       "      <td>@lindagisela74 Que rica putita obediente, afor...</td>\n",
       "      <td>sexist</td>\n",
       "      <td>stereotyping-dominance</td>\n",
       "    </tr>\n",
       "    <tr>\n",
       "      <th>2</th>\n",
       "      <td>3439</td>\n",
       "      <td>twitter</td>\n",
       "      <td>@BicireporteraDF Yo lo hice a los 18 años por ...</td>\n",
       "      <td>non-sexist</td>\n",
       "      <td>non-sexist</td>\n",
       "    </tr>\n",
       "    <tr>\n",
       "      <th>3</th>\n",
       "      <td>3440</td>\n",
       "      <td>twitter</td>\n",
       "      <td>las cosas q sueño son indicios de que yo enrea...</td>\n",
       "      <td>non-sexist</td>\n",
       "      <td>non-sexist</td>\n",
       "    </tr>\n",
       "    <tr>\n",
       "      <th>4</th>\n",
       "      <td>3441</td>\n",
       "      <td>twitter</td>\n",
       "      <td>Pero a la niña le gustó desde que lo vió, así ...</td>\n",
       "      <td>non-sexist</td>\n",
       "      <td>non-sexist</td>\n",
       "    </tr>\n",
       "  </tbody>\n",
       "</table>\n",
       "</div>"
      ],
      "text/plain": [
       "     id   source                                               text  \\\n",
       "0  3437  twitter  Nadie te va a tratar tan bien como un hombre q...   \n",
       "1  3438  twitter  @lindagisela74 Que rica putita obediente, afor...   \n",
       "2  3439  twitter  @BicireporteraDF Yo lo hice a los 18 años por ...   \n",
       "3  3440  twitter  las cosas q sueño son indicios de que yo enrea...   \n",
       "4  3441  twitter  Pero a la niña le gustó desde que lo vió, así ...   \n",
       "\n",
       "        task1                   task2  \n",
       "0      sexist         sexual-violence  \n",
       "1      sexist  stereotyping-dominance  \n",
       "2  non-sexist              non-sexist  \n",
       "3  non-sexist              non-sexist  \n",
       "4  non-sexist              non-sexist  "
      ]
     },
     "execution_count": 131,
     "metadata": {},
     "output_type": "execute_result"
    }
   ],
   "source": [
    "EXIST2021_training_data =  pd.read_csv('EXIST2021_training_es.csv',sep=';')\n",
    "EXIST2021_training_data.head()"
   ]
  },
  {
   "cell_type": "code",
   "execution_count": 132,
   "metadata": {},
   "outputs": [
    {
     "data": {
      "text/html": [
       "<div>\n",
       "<style scoped>\n",
       "    .dataframe tbody tr th:only-of-type {\n",
       "        vertical-align: middle;\n",
       "    }\n",
       "\n",
       "    .dataframe tbody tr th {\n",
       "        vertical-align: top;\n",
       "    }\n",
       "\n",
       "    .dataframe thead th {\n",
       "        text-align: right;\n",
       "    }\n",
       "</style>\n",
       "<table border=\"1\" class=\"dataframe\">\n",
       "  <thead>\n",
       "    <tr style=\"text-align: right;\">\n",
       "      <th></th>\n",
       "      <th>id</th>\n",
       "      <th>source</th>\n",
       "      <th>text</th>\n",
       "      <th>task1</th>\n",
       "      <th>task2</th>\n",
       "    </tr>\n",
       "  </thead>\n",
       "  <tbody>\n",
       "    <tr>\n",
       "      <th>0</th>\n",
       "      <td>9186</td>\n",
       "      <td>gab</td>\n",
       "      <td>Y te golpeo más fuerte perra.</td>\n",
       "      <td>sexist</td>\n",
       "      <td>misogyny-non-sexual-violence</td>\n",
       "    </tr>\n",
       "    <tr>\n",
       "      <th>1</th>\n",
       "      <td>9187</td>\n",
       "      <td>twitter</td>\n",
       "      <td>@wthxtme @GOLDENMXM Castigado tres meses sin s...</td>\n",
       "      <td>non-sexist</td>\n",
       "      <td>non-sexist</td>\n",
       "    </tr>\n",
       "    <tr>\n",
       "      <th>2</th>\n",
       "      <td>9188</td>\n",
       "      <td>twitter</td>\n",
       "      <td>@MaricaIndomito jajajaj el me he topado con ta...</td>\n",
       "      <td>sexist</td>\n",
       "      <td>stereotyping-dominance</td>\n",
       "    </tr>\n",
       "    <tr>\n",
       "      <th>3</th>\n",
       "      <td>9189</td>\n",
       "      <td>twitter</td>\n",
       "      <td>Resulta que hoy es el día de la juventud y no ...</td>\n",
       "      <td>non-sexist</td>\n",
       "      <td>non-sexist</td>\n",
       "    </tr>\n",
       "    <tr>\n",
       "      <th>4</th>\n",
       "      <td>9190</td>\n",
       "      <td>twitter</td>\n",
       "      <td>@EstefMolina_ Los que dicen que creen en la ig...</td>\n",
       "      <td>sexist</td>\n",
       "      <td>ideological-inequality</td>\n",
       "    </tr>\n",
       "  </tbody>\n",
       "</table>\n",
       "</div>"
      ],
      "text/plain": [
       "     id   source                                               text  \\\n",
       "0  9186      gab                      Y te golpeo más fuerte perra.   \n",
       "1  9187  twitter  @wthxtme @GOLDENMXM Castigado tres meses sin s...   \n",
       "2  9188  twitter  @MaricaIndomito jajajaj el me he topado con ta...   \n",
       "3  9189  twitter  Resulta que hoy es el día de la juventud y no ...   \n",
       "4  9190  twitter  @EstefMolina_ Los que dicen que creen en la ig...   \n",
       "\n",
       "        task1                         task2  \n",
       "0      sexist  misogyny-non-sexual-violence  \n",
       "1  non-sexist                    non-sexist  \n",
       "2      sexist        stereotyping-dominance  \n",
       "3  non-sexist                    non-sexist  \n",
       "4      sexist        ideological-inequality  "
      ]
     },
     "execution_count": 132,
     "metadata": {},
     "output_type": "execute_result"
    }
   ],
   "source": [
    "EXIST2021_test_labeled_data =  pd.read_csv('EXIST2021_test_labeled_es.csv',sep=';')\n",
    "EXIST2021_test_labeled_data.head()"
   ]
  },
  {
   "cell_type": "code",
   "execution_count": 133,
   "metadata": {},
   "outputs": [
    {
     "data": {
      "text/html": [
       "<div>\n",
       "<style scoped>\n",
       "    .dataframe tbody tr th:only-of-type {\n",
       "        vertical-align: middle;\n",
       "    }\n",
       "\n",
       "    .dataframe tbody tr th {\n",
       "        vertical-align: top;\n",
       "    }\n",
       "\n",
       "    .dataframe thead th {\n",
       "        text-align: right;\n",
       "    }\n",
       "</style>\n",
       "<table border=\"1\" class=\"dataframe\">\n",
       "  <thead>\n",
       "    <tr style=\"text-align: right;\">\n",
       "      <th></th>\n",
       "      <th>id</th>\n",
       "      <th>source</th>\n",
       "      <th>text</th>\n",
       "      <th>task1</th>\n",
       "    </tr>\n",
       "  </thead>\n",
       "  <tbody>\n",
       "    <tr>\n",
       "      <th>0</th>\n",
       "      <td>3437</td>\n",
       "      <td>twitter</td>\n",
       "      <td>Nadie te va a tratar tan bien como un hombre q...</td>\n",
       "      <td>sexist</td>\n",
       "    </tr>\n",
       "    <tr>\n",
       "      <th>1</th>\n",
       "      <td>3438</td>\n",
       "      <td>twitter</td>\n",
       "      <td>@lindagisela74 Que rica putita obediente, afor...</td>\n",
       "      <td>sexist</td>\n",
       "    </tr>\n",
       "    <tr>\n",
       "      <th>2</th>\n",
       "      <td>3439</td>\n",
       "      <td>twitter</td>\n",
       "      <td>@BicireporteraDF Yo lo hice a los 18 años por ...</td>\n",
       "      <td>non-sexist</td>\n",
       "    </tr>\n",
       "    <tr>\n",
       "      <th>3</th>\n",
       "      <td>3440</td>\n",
       "      <td>twitter</td>\n",
       "      <td>las cosas q sueño son indicios de que yo enrea...</td>\n",
       "      <td>non-sexist</td>\n",
       "    </tr>\n",
       "    <tr>\n",
       "      <th>4</th>\n",
       "      <td>3441</td>\n",
       "      <td>twitter</td>\n",
       "      <td>Pero a la niña le gustó desde que lo vió, así ...</td>\n",
       "      <td>non-sexist</td>\n",
       "    </tr>\n",
       "  </tbody>\n",
       "</table>\n",
       "</div>"
      ],
      "text/plain": [
       "     id   source                                               text  \\\n",
       "0  3437  twitter  Nadie te va a tratar tan bien como un hombre q...   \n",
       "1  3438  twitter  @lindagisela74 Que rica putita obediente, afor...   \n",
       "2  3439  twitter  @BicireporteraDF Yo lo hice a los 18 años por ...   \n",
       "3  3440  twitter  las cosas q sueño son indicios de que yo enrea...   \n",
       "4  3441  twitter  Pero a la niña le gustó desde que lo vió, así ...   \n",
       "\n",
       "        task1  \n",
       "0      sexist  \n",
       "1      sexist  \n",
       "2  non-sexist  \n",
       "3  non-sexist  \n",
       "4  non-sexist  "
      ]
     },
     "execution_count": 133,
     "metadata": {},
     "output_type": "execute_result"
    }
   ],
   "source": [
    "EXIST2021_training_data_task1 = EXIST2021_training_data.iloc[:,0:4]\n",
    "EXIST2021_training_data_task1.head()"
   ]
  },
  {
   "cell_type": "code",
   "execution_count": 134,
   "metadata": {},
   "outputs": [
    {
     "data": {
      "text/html": [
       "<div>\n",
       "<style scoped>\n",
       "    .dataframe tbody tr th:only-of-type {\n",
       "        vertical-align: middle;\n",
       "    }\n",
       "\n",
       "    .dataframe tbody tr th {\n",
       "        vertical-align: top;\n",
       "    }\n",
       "\n",
       "    .dataframe thead th {\n",
       "        text-align: right;\n",
       "    }\n",
       "</style>\n",
       "<table border=\"1\" class=\"dataframe\">\n",
       "  <thead>\n",
       "    <tr style=\"text-align: right;\">\n",
       "      <th></th>\n",
       "      <th>id</th>\n",
       "      <th>source</th>\n",
       "      <th>text</th>\n",
       "      <th>task1</th>\n",
       "    </tr>\n",
       "  </thead>\n",
       "  <tbody>\n",
       "    <tr>\n",
       "      <th>0</th>\n",
       "      <td>9186</td>\n",
       "      <td>gab</td>\n",
       "      <td>Y te golpeo más fuerte perra.</td>\n",
       "      <td>sexist</td>\n",
       "    </tr>\n",
       "    <tr>\n",
       "      <th>1</th>\n",
       "      <td>9187</td>\n",
       "      <td>twitter</td>\n",
       "      <td>@wthxtme @GOLDENMXM Castigado tres meses sin s...</td>\n",
       "      <td>non-sexist</td>\n",
       "    </tr>\n",
       "    <tr>\n",
       "      <th>2</th>\n",
       "      <td>9188</td>\n",
       "      <td>twitter</td>\n",
       "      <td>@MaricaIndomito jajajaj el me he topado con ta...</td>\n",
       "      <td>sexist</td>\n",
       "    </tr>\n",
       "    <tr>\n",
       "      <th>3</th>\n",
       "      <td>9189</td>\n",
       "      <td>twitter</td>\n",
       "      <td>Resulta que hoy es el día de la juventud y no ...</td>\n",
       "      <td>non-sexist</td>\n",
       "    </tr>\n",
       "    <tr>\n",
       "      <th>4</th>\n",
       "      <td>9190</td>\n",
       "      <td>twitter</td>\n",
       "      <td>@EstefMolina_ Los que dicen que creen en la ig...</td>\n",
       "      <td>sexist</td>\n",
       "    </tr>\n",
       "  </tbody>\n",
       "</table>\n",
       "</div>"
      ],
      "text/plain": [
       "     id   source                                               text  \\\n",
       "0  9186      gab                      Y te golpeo más fuerte perra.   \n",
       "1  9187  twitter  @wthxtme @GOLDENMXM Castigado tres meses sin s...   \n",
       "2  9188  twitter  @MaricaIndomito jajajaj el me he topado con ta...   \n",
       "3  9189  twitter  Resulta que hoy es el día de la juventud y no ...   \n",
       "4  9190  twitter  @EstefMolina_ Los que dicen que creen en la ig...   \n",
       "\n",
       "        task1  \n",
       "0      sexist  \n",
       "1  non-sexist  \n",
       "2      sexist  \n",
       "3  non-sexist  \n",
       "4      sexist  "
      ]
     },
     "execution_count": 134,
     "metadata": {},
     "output_type": "execute_result"
    }
   ],
   "source": [
    "EXIST2021_test_labeled_data_task1 = EXIST2021_test_labeled_data.iloc[:,0:4]\n",
    "EXIST2021_test_labeled_data_task1.head()"
   ]
  },
  {
   "cell_type": "markdown",
   "metadata": {},
   "source": [
    "**Creamos campo binario para la variable task1 (sexist-non sexist)**"
   ]
  },
  {
   "cell_type": "code",
   "execution_count": 135,
   "metadata": {},
   "outputs": [],
   "source": [
    "EXIST2021_training_data_task1['task1_bin'] = 0"
   ]
  },
  {
   "cell_type": "code",
   "execution_count": 136,
   "metadata": {},
   "outputs": [
    {
     "name": "stderr",
     "output_type": "stream",
     "text": [
      "C:\\ProgramData\\Anaconda3\\envs\\pec11\\lib\\site-packages\\ipykernel_launcher.py:1: SettingWithCopyWarning: \n",
      "A value is trying to be set on a copy of a slice from a DataFrame\n",
      "\n",
      "See the caveats in the documentation: https://pandas.pydata.org/pandas-docs/stable/user_guide/indexing.html#returning-a-view-versus-a-copy\n",
      "  \"\"\"Entry point for launching an IPython kernel.\n"
     ]
    },
    {
     "data": {
      "text/plain": [
       "0    0.508331\n",
       "1    0.491669\n",
       "Name: task1_bin, dtype: float64"
      ]
     },
     "execution_count": 136,
     "metadata": {},
     "output_type": "execute_result"
    }
   ],
   "source": [
    "EXIST2021_training_data_task1.task1_bin[EXIST2021_training_data_task1.task1.isin(['sexist'])] = 1\n",
    "EXIST2021_training_data_task1.task1_bin.value_counts(normalize=True)"
   ]
  },
  {
   "cell_type": "code",
   "execution_count": 137,
   "metadata": {},
   "outputs": [],
   "source": [
    "EXIST2021_test_labeled_data_task1['task1_bin'] = 0"
   ]
  },
  {
   "cell_type": "code",
   "execution_count": 138,
   "metadata": {},
   "outputs": [
    {
     "name": "stderr",
     "output_type": "stream",
     "text": [
      "C:\\ProgramData\\Anaconda3\\envs\\pec11\\lib\\site-packages\\ipykernel_launcher.py:1: SettingWithCopyWarning: \n",
      "A value is trying to be set on a copy of a slice from a DataFrame\n",
      "\n",
      "See the caveats in the documentation: https://pandas.pydata.org/pandas-docs/stable/user_guide/indexing.html#returning-a-view-versus-a-copy\n",
      "  \"\"\"Entry point for launching an IPython kernel.\n"
     ]
    },
    {
     "data": {
      "text/plain": [
       "1    0.519907\n",
       "0    0.480093\n",
       "Name: task1_bin, dtype: float64"
      ]
     },
     "execution_count": 138,
     "metadata": {},
     "output_type": "execute_result"
    }
   ],
   "source": [
    "EXIST2021_test_labeled_data_task1.task1_bin[EXIST2021_test_labeled_data_task1.task1.isin(['sexist'])] = 1\n",
    "EXIST2021_test_labeled_data_task1.task1_bin.value_counts(normalize=True)"
   ]
  },
  {
   "cell_type": "code",
   "execution_count": 139,
   "metadata": {},
   "outputs": [
    {
     "data": {
      "text/html": [
       "<div>\n",
       "<style scoped>\n",
       "    .dataframe tbody tr th:only-of-type {\n",
       "        vertical-align: middle;\n",
       "    }\n",
       "\n",
       "    .dataframe tbody tr th {\n",
       "        vertical-align: top;\n",
       "    }\n",
       "\n",
       "    .dataframe thead th {\n",
       "        text-align: right;\n",
       "    }\n",
       "</style>\n",
       "<table border=\"1\" class=\"dataframe\">\n",
       "  <thead>\n",
       "    <tr style=\"text-align: right;\">\n",
       "      <th></th>\n",
       "      <th>id</th>\n",
       "      <th>source</th>\n",
       "      <th>text</th>\n",
       "      <th>task1</th>\n",
       "      <th>task1_bin</th>\n",
       "    </tr>\n",
       "  </thead>\n",
       "  <tbody>\n",
       "    <tr>\n",
       "      <th>0</th>\n",
       "      <td>3437</td>\n",
       "      <td>twitter</td>\n",
       "      <td>Nadie te va a tratar tan bien como un hombre q...</td>\n",
       "      <td>sexist</td>\n",
       "      <td>1</td>\n",
       "    </tr>\n",
       "    <tr>\n",
       "      <th>1</th>\n",
       "      <td>3438</td>\n",
       "      <td>twitter</td>\n",
       "      <td>@lindagisela74 Que rica putita obediente, afor...</td>\n",
       "      <td>sexist</td>\n",
       "      <td>1</td>\n",
       "    </tr>\n",
       "    <tr>\n",
       "      <th>2</th>\n",
       "      <td>3439</td>\n",
       "      <td>twitter</td>\n",
       "      <td>@BicireporteraDF Yo lo hice a los 18 años por ...</td>\n",
       "      <td>non-sexist</td>\n",
       "      <td>0</td>\n",
       "    </tr>\n",
       "    <tr>\n",
       "      <th>3</th>\n",
       "      <td>3440</td>\n",
       "      <td>twitter</td>\n",
       "      <td>las cosas q sueño son indicios de que yo enrea...</td>\n",
       "      <td>non-sexist</td>\n",
       "      <td>0</td>\n",
       "    </tr>\n",
       "    <tr>\n",
       "      <th>4</th>\n",
       "      <td>3441</td>\n",
       "      <td>twitter</td>\n",
       "      <td>Pero a la niña le gustó desde que lo vió, así ...</td>\n",
       "      <td>non-sexist</td>\n",
       "      <td>0</td>\n",
       "    </tr>\n",
       "  </tbody>\n",
       "</table>\n",
       "</div>"
      ],
      "text/plain": [
       "     id   source                                               text  \\\n",
       "0  3437  twitter  Nadie te va a tratar tan bien como un hombre q...   \n",
       "1  3438  twitter  @lindagisela74 Que rica putita obediente, afor...   \n",
       "2  3439  twitter  @BicireporteraDF Yo lo hice a los 18 años por ...   \n",
       "3  3440  twitter  las cosas q sueño son indicios de que yo enrea...   \n",
       "4  3441  twitter  Pero a la niña le gustó desde que lo vió, así ...   \n",
       "\n",
       "        task1  task1_bin  \n",
       "0      sexist          1  \n",
       "1      sexist          1  \n",
       "2  non-sexist          0  \n",
       "3  non-sexist          0  \n",
       "4  non-sexist          0  "
      ]
     },
     "execution_count": 139,
     "metadata": {},
     "output_type": "execute_result"
    }
   ],
   "source": [
    "EXIST2021_training_data_task1.head()"
   ]
  },
  {
   "cell_type": "code",
   "execution_count": 140,
   "metadata": {},
   "outputs": [
    {
     "data": {
      "text/html": [
       "<div>\n",
       "<style scoped>\n",
       "    .dataframe tbody tr th:only-of-type {\n",
       "        vertical-align: middle;\n",
       "    }\n",
       "\n",
       "    .dataframe tbody tr th {\n",
       "        vertical-align: top;\n",
       "    }\n",
       "\n",
       "    .dataframe thead th {\n",
       "        text-align: right;\n",
       "    }\n",
       "</style>\n",
       "<table border=\"1\" class=\"dataframe\">\n",
       "  <thead>\n",
       "    <tr style=\"text-align: right;\">\n",
       "      <th></th>\n",
       "      <th>id</th>\n",
       "      <th>source</th>\n",
       "      <th>text</th>\n",
       "      <th>task1</th>\n",
       "      <th>task1_bin</th>\n",
       "    </tr>\n",
       "  </thead>\n",
       "  <tbody>\n",
       "    <tr>\n",
       "      <th>0</th>\n",
       "      <td>9186</td>\n",
       "      <td>gab</td>\n",
       "      <td>Y te golpeo más fuerte perra.</td>\n",
       "      <td>sexist</td>\n",
       "      <td>1</td>\n",
       "    </tr>\n",
       "    <tr>\n",
       "      <th>1</th>\n",
       "      <td>9187</td>\n",
       "      <td>twitter</td>\n",
       "      <td>@wthxtme @GOLDENMXM Castigado tres meses sin s...</td>\n",
       "      <td>non-sexist</td>\n",
       "      <td>0</td>\n",
       "    </tr>\n",
       "    <tr>\n",
       "      <th>2</th>\n",
       "      <td>9188</td>\n",
       "      <td>twitter</td>\n",
       "      <td>@MaricaIndomito jajajaj el me he topado con ta...</td>\n",
       "      <td>sexist</td>\n",
       "      <td>1</td>\n",
       "    </tr>\n",
       "    <tr>\n",
       "      <th>3</th>\n",
       "      <td>9189</td>\n",
       "      <td>twitter</td>\n",
       "      <td>Resulta que hoy es el día de la juventud y no ...</td>\n",
       "      <td>non-sexist</td>\n",
       "      <td>0</td>\n",
       "    </tr>\n",
       "    <tr>\n",
       "      <th>4</th>\n",
       "      <td>9190</td>\n",
       "      <td>twitter</td>\n",
       "      <td>@EstefMolina_ Los que dicen que creen en la ig...</td>\n",
       "      <td>sexist</td>\n",
       "      <td>1</td>\n",
       "    </tr>\n",
       "  </tbody>\n",
       "</table>\n",
       "</div>"
      ],
      "text/plain": [
       "     id   source                                               text  \\\n",
       "0  9186      gab                      Y te golpeo más fuerte perra.   \n",
       "1  9187  twitter  @wthxtme @GOLDENMXM Castigado tres meses sin s...   \n",
       "2  9188  twitter  @MaricaIndomito jajajaj el me he topado con ta...   \n",
       "3  9189  twitter  Resulta que hoy es el día de la juventud y no ...   \n",
       "4  9190  twitter  @EstefMolina_ Los que dicen que creen en la ig...   \n",
       "\n",
       "        task1  task1_bin  \n",
       "0      sexist          1  \n",
       "1  non-sexist          0  \n",
       "2      sexist          1  \n",
       "3  non-sexist          0  \n",
       "4      sexist          1  "
      ]
     },
     "execution_count": 140,
     "metadata": {},
     "output_type": "execute_result"
    }
   ],
   "source": [
    "EXIST2021_test_labeled_data_task1.head()"
   ]
  },
  {
   "cell_type": "code",
   "execution_count": 141,
   "metadata": {},
   "outputs": [
    {
     "data": {
      "text/plain": [
       "['!',\n",
       " '\"',\n",
       " '#',\n",
       " '$',\n",
       " '%',\n",
       " '&',\n",
       " \"'\",\n",
       " '(',\n",
       " ')',\n",
       " '*',\n",
       " '+',\n",
       " ',',\n",
       " '-',\n",
       " '.',\n",
       " '/',\n",
       " ':',\n",
       " ';',\n",
       " '<',\n",
       " '=',\n",
       " '>',\n",
       " '?',\n",
       " '@',\n",
       " '[',\n",
       " '\\\\',\n",
       " ']',\n",
       " '^',\n",
       " '_',\n",
       " '`',\n",
       " '{',\n",
       " '|',\n",
       " '}',\n",
       " '~',\n",
       " '¿',\n",
       " '¡',\n",
       " '0',\n",
       " '1',\n",
       " '2',\n",
       " '3',\n",
       " '4',\n",
       " '5',\n",
       " '6',\n",
       " '7',\n",
       " '8',\n",
       " '9']"
      ]
     },
     "execution_count": 141,
     "metadata": {},
     "output_type": "execute_result"
    }
   ],
   "source": [
    "non_words = list(punctuation)\n",
    "\n",
    "#we add spanish punctuation\n",
    "non_words.extend(['¿', '¡'])\n",
    "non_words.extend(map(str,range(10)))\n",
    "non_words\n"
   ]
  },
  {
   "cell_type": "markdown",
   "metadata": {},
   "source": [
    "**Filtrado de stopwords y dígitos**"
   ]
  },
  {
   "cell_type": "code",
   "execution_count": 143,
   "metadata": {},
   "outputs": [],
   "source": [
    "\n",
    "STOPWORDS = set(stopwords.words(\"spanish\"))\n",
    "\n",
    "def filtrar_stopword_digitos(tokens):\n",
    "    \"\"\"\n",
    "    Filtra stopwords y digitos de una lista de tokens.\n",
    "    \"\"\"\n",
    "    return [token for token in tokens if token not in STOPWORDS \n",
    "            and not token.isdigit()]\n",
    "\n"
   ]
  },
  {
   "cell_type": "markdown",
   "metadata": {},
   "source": [
    "**Funciones de limpieza y transformación de tweets**"
   ]
  },
  {
   "cell_type": "code",
   "execution_count": 144,
   "metadata": {},
   "outputs": [],
   "source": [
    "\n",
    "# Functions the mentioned text cleaning steps\n",
    "def lowercase_text(sentence):\n",
    "    return sentence.lower()\n",
    "\n",
    "def remove_usernames(sentence):\n",
    "    sentence = re.sub(r'@\\w+',' ', sentence)\n",
    "    return sentence\n",
    "\n",
    "def remove_hashtags(sentence):\n",
    "    sentence = re.sub(r\"#\\w+\",' ', sentence)\n",
    "    return sentence\n",
    "\n",
    "def remove_links(sentence):\n",
    "    sentence = re.sub(r'\\bhttps?://[^\\s]*',' ', sentence)\n",
    "    return sentence\n",
    "\n",
    "def remove_numbers(sentence):\n",
    "    sentence = re.sub(r'\\d+',' ', sentence)\n",
    "    return sentence\n",
    "\n",
    "def remove_punctuation_and_spaces(sentence):\n",
    "    sentence = re.sub(r'&', ' ', sentence) # Specific for &\n",
    "    sentence = re.sub(r'[^\\w\\s]',' ', sentence)\n",
    "    sentence = ' '.join(sentence.split())\n",
    "    return sentence\n",
    "\n",
    "def remove_1letter_words(sentence):\n",
    "    sentence = re.sub(r'\\b\\w{1}\\b', ' ', sentence)\n",
    "    return sentence\n",
    "\n",
    "def tokenize_split(sentence):\n",
    "    list_of_words = sentence.split(\" \")\n",
    "    return list_of_words"
   ]
  },
  {
   "cell_type": "code",
   "execution_count": 145,
   "metadata": {},
   "outputs": [],
   "source": [
    "\n",
    "# Function to apply all text tranformations\n",
    "def text_cleaning(df):\n",
    "    '''\n",
    "    Given a pandas dataframe with tweets returns a list of clean tweet texts\n",
    "    @input: pandas dataframe with tweets\n",
    "    @output: list of clean tweets (same order as in df)\n",
    "    '''\n",
    "    lists_of_text = []\n",
    "\n",
    "    for text in df['text']:\n",
    "        sentence = str(text)\n",
    "\n",
    "        # Text transformations\n",
    "        sentence = lowercase_text(sentence) # All in lowercase\n",
    "        sentence = remove_links(sentence) # Remove links\n",
    "        sentence = remove_hashtags(sentence) # Remove Hashtags\n",
    "        sentence = remove_usernames(sentence) # Remove usernames\n",
    "        sentence = remove_numbers(sentence) # Remove numbers\n",
    "        sentence = remove_punctuation_and_spaces(sentence) # Remove punctuation signs and multiple spaces\n",
    "        sentence = remove_1letter_words(sentence) # Remove words with len=1\n",
    "        sentence = remove_punctuation_and_spaces(sentence)\n",
    "        \n",
    "        list_of_words = tokenize_split(sentence) # Tokenization\n",
    "        #list_of_words = filtrar_stopword_digitos(list_of_words)\n",
    "    # list_of_words = remove_stopwords(list_of_words) # Remove stopwords\n",
    "       # list_of_words = lemmatize(list_of_words) # Lemmatization\n",
    "        \n",
    "        # Converting list of words to text again\n",
    "        lists_of_text.append(' '.join(list_of_words))\n",
    "\n",
    "    return lists_of_text"
   ]
  },
  {
   "cell_type": "markdown",
   "metadata": {},
   "source": [
    "**Limpieza del texto**"
   ]
  },
  {
   "cell_type": "code",
   "execution_count": 151,
   "metadata": {},
   "outputs": [
    {
     "data": {
      "text/plain": [
       "0    nadie te va tratar tan bien como un hombre que...\n",
       "1    que rica putita obediente afortunado tu marido...\n",
       "2    yo lo hice los años por la carretera libre ver...\n",
       "3    las cosas sueño son indicios de que yo enreali...\n",
       "4    pero la niña le gustó desde que lo vió así que...\n",
       "Name: Final_text, dtype: object"
      ]
     },
     "execution_count": 151,
     "metadata": {},
     "output_type": "execute_result"
    }
   ],
   "source": [
    "\n",
    "EXIST2021_training_data_task1['Final_text'] = text_cleaning(EXIST2021_training_data_task1)\n",
    "EXIST2021_training_data_task1['Final_text'].head()\n",
    "\n"
   ]
  },
  {
   "cell_type": "markdown",
   "metadata": {},
   "source": [
    "**Configuración del stemmer y definición de la función de tokenización**"
   ]
  },
  {
   "cell_type": "code",
   "execution_count": 147,
   "metadata": {},
   "outputs": [],
   "source": [
    "\n",
    "stemmer = SnowballStemmer('spanish')\n",
    "\n",
    "\n",
    "def stem_tokens(tokens, stemmer):\n",
    "    stemmed = []\n",
    "    for item in tokens:\n",
    "        stemmed.append(stemmer.stem(item))\n",
    "    return stemmed\n",
    "\n",
    "def tokenize(text):  \n",
    "    # remove non letters\n",
    "    text = ''.join([c for c in text if c not in non_words])\n",
    "    # tokenize\n",
    "    tokens =  word_tokenize(text)\n",
    "    tokens = filtrar_stopword_digitos(tokens)\n",
    "    # stem\n",
    "    try:\n",
    "        stems = stem_tokens(tokens, stemmer)\n",
    "    except Exception as e:\n",
    "        print(e)\n",
    "        print(text)\n",
    "        stems = ['']\n",
    "    return stems"
   ]
  },
  {
   "cell_type": "markdown",
   "metadata": {},
   "source": [
    "**Creación del vectorizador y del pipeline. Gridsearchcv sobre un clasificador SGD con scoring accuracy**"
   ]
  },
  {
   "cell_type": "code",
   "execution_count": 154,
   "metadata": {},
   "outputs": [
    {
     "data": {
      "text/plain": [
       "GridSearchCV(estimator=Pipeline(steps=[('vect',\n",
       "                                        CountVectorizer(tokenizer=<function tokenize at 0x0000000014783168>)),\n",
       "                                       ('cls', SGDClassifier())]),\n",
       "             n_jobs=-1,\n",
       "             param_grid={'cls__loss': ('hinge', 'squared_hinge',\n",
       "                                       'modified_huber', 'perceptron'),\n",
       "                         'cls__max_iter': (500, 1000),\n",
       "                         'cls__penalty': ('l1', 'l2'),\n",
       "                         'vect__max_df': (0.5, 1.9),\n",
       "                         'vect__max_features': (500, 1000),\n",
       "                         'vect__min_df': (10, 20, 50),\n",
       "                         'vect__ngram_range': ((1, 1), (1, 2))},\n",
       "             scoring='accuracy')"
      ]
     },
     "execution_count": 154,
     "metadata": {},
     "output_type": "execute_result"
    }
   ],
   "source": [
    "\n",
    "\n",
    "vectorizer = CountVectorizer(\n",
    "                analyzer = 'word',\n",
    "                tokenizer = tokenize,\n",
    "                lowercase = True\n",
    "                )\n",
    "\n",
    "pipeline = Pipeline([\n",
    "    ('vect', vectorizer),  \n",
    "    ('cls', SGDClassifier()),\n",
    "])\n",
    "\n",
    "\n",
    "\n",
    "parameters = {    \n",
    "    'vect__max_df': (0.5, 1.9),\n",
    "    'vect__min_df': (10, 20,50),\n",
    "    'vect__max_features': (500, 1000),\n",
    "    'vect__ngram_range': ((1, 1), (1, 2)),  # unigrams or bigrams  \n",
    "    'cls__loss': ('hinge', 'squared_hinge','modified_huber','perceptron'),\n",
    "    'cls__max_iter': (500, 1000),\n",
    "    'cls__penalty':('l1','l2')\n",
    "}\n",
    "\n",
    "\n",
    "grid_search = GridSearchCV(pipeline, parameters, n_jobs=-1 , scoring='accuracy')\n",
    "grid_search.fit(EXIST2021_training_data_task1.Final_text, EXIST2021_training_data_task1.task1_bin)"
   ]
  },
  {
   "cell_type": "markdown",
   "metadata": {},
   "source": [
    "**Obtención de los mejores parámetros, estimador y scoring**"
   ]
  },
  {
   "cell_type": "code",
   "execution_count": 155,
   "metadata": {},
   "outputs": [
    {
     "name": "stdout",
     "output_type": "stream",
     "text": [
      "0.7124963145354721\n",
      "{'cls__loss': 'hinge', 'cls__max_iter': 1000, 'cls__penalty': 'l1', 'vect__max_df': 1.9, 'vect__max_features': 1000, 'vect__min_df': 20, 'vect__ngram_range': (1, 2)}\n",
      "Pipeline(steps=[('vect',\n",
      "                 CountVectorizer(max_df=1.9, max_features=1000, min_df=20,\n",
      "                                 ngram_range=(1, 2),\n",
      "                                 tokenizer=<function tokenize at 0x0000000014783168>)),\n",
      "                ('cls', SGDClassifier(penalty='l1'))])\n"
     ]
    }
   ],
   "source": [
    "print(grid_search.best_score_)\n",
    "print(grid_search.best_params_)\n",
    "print(grid_search.best_estimator_)"
   ]
  },
  {
   "cell_type": "markdown",
   "metadata": {},
   "source": [
    "**Definimos modelo y vectorizador con los mejores parámetros. Creamos el corpus de features**"
   ]
  },
  {
   "cell_type": "code",
   "execution_count": 156,
   "metadata": {},
   "outputs": [],
   "source": [
    "model = SGDClassifier(loss='hinge',max_iter=1000,random_state=None,penalty='l1',tol=0.0001)\n",
    "\n",
    "vectorizer = CountVectorizer(\n",
    "    analyzer = 'word',\n",
    "    tokenizer = tokenize,\n",
    "    lowercase = True,   \n",
    "    min_df = 20,\n",
    "    max_df = 1.9,\n",
    "    ngram_range=(1, 2),\n",
    "    max_features=1000\n",
    ")\n",
    "\n",
    "corpus_data_features = vectorizer.fit_transform(EXIST2021_training_data_task1.Final_text)\n",
    "corpus_data_features_nd = corpus_data_features.toarray()"
   ]
  },
  {
   "cell_type": "markdown",
   "metadata": {},
   "source": [
    "**Aplicamos cross validation para el cálculo del scoring**"
   ]
  },
  {
   "cell_type": "code",
   "execution_count": 157,
   "metadata": {},
   "outputs": [
    {
     "data": {
      "text/plain": [
       "0.7068469954499454"
      ]
     },
     "execution_count": 157,
     "metadata": {},
     "output_type": "execute_result"
    }
   ],
   "source": [
    "scores = cross_val_score(\n",
    "    model,\n",
    "    corpus_data_features_nd[0:len(EXIST2021_training_data_task1.Final_text)],\n",
    "    y=EXIST2021_training_data_task1.task1_bin,\n",
    "    scoring='accuracy',\n",
    "    cv=5\n",
    "    )\n",
    "\n",
    "scores.mean()"
   ]
  },
  {
   "cell_type": "markdown",
   "metadata": {},
   "source": [
    "**Creamos el pipeline con los mejores parámetros para el vectorizador y para el modelo SGD**"
   ]
  },
  {
   "cell_type": "code",
   "execution_count": 158,
   "metadata": {},
   "outputs": [],
   "source": [
    "pipeline = Pipeline([\n",
    "    ('vect', CountVectorizer(\n",
    "            analyzer = 'word',\n",
    "            tokenizer = tokenize,\n",
    "            lowercase = True,          \n",
    "            min_df = 20,\n",
    "            max_df = 1.9,\n",
    "            ngram_range=(1, 2),\n",
    "            max_features=1000\n",
    "            )),\n",
    "    ('cls', SGDClassifier(loss='hinge',max_iter=1000,random_state=None,penalty='l1',tol=0.0001\n",
    "             )),\n",
    "])"
   ]
  },
  {
   "cell_type": "markdown",
   "metadata": {},
   "source": [
    "**Hacemos limpieza de los datos de test**"
   ]
  },
  {
   "cell_type": "code",
   "execution_count": 159,
   "metadata": {},
   "outputs": [
    {
     "data": {
      "text/plain": [
       "0                           te golpeo más fuerte perra\n",
       "1    castigado tres meses sin salir la chica no vie...\n",
       "2    jajajaj el me he topado con tantos de la onda ...\n",
       "3    resulta que hoy es el día de la juventud no me...\n",
       "4    los que dicen que creen en la igualdad pero qu...\n",
       "Name: Final_text, dtype: object"
      ]
     },
     "execution_count": 159,
     "metadata": {},
     "output_type": "execute_result"
    }
   ],
   "source": [
    "\n",
    "EXIST2021_test_labeled_data_task1['Final_text'] = text_cleaning(EXIST2021_test_labeled_data_task1)\n",
    "EXIST2021_test_labeled_data_task1['Final_text'].head()"
   ]
  },
  {
   "cell_type": "code",
   "execution_count": 160,
   "metadata": {},
   "outputs": [
    {
     "data": {
      "text/html": [
       "<div>\n",
       "<style scoped>\n",
       "    .dataframe tbody tr th:only-of-type {\n",
       "        vertical-align: middle;\n",
       "    }\n",
       "\n",
       "    .dataframe tbody tr th {\n",
       "        vertical-align: top;\n",
       "    }\n",
       "\n",
       "    .dataframe thead th {\n",
       "        text-align: right;\n",
       "    }\n",
       "</style>\n",
       "<table border=\"1\" class=\"dataframe\">\n",
       "  <thead>\n",
       "    <tr style=\"text-align: right;\">\n",
       "      <th></th>\n",
       "      <th>id</th>\n",
       "      <th>source</th>\n",
       "      <th>text</th>\n",
       "      <th>task1</th>\n",
       "      <th>task1_bin</th>\n",
       "      <th>Final_text</th>\n",
       "    </tr>\n",
       "  </thead>\n",
       "  <tbody>\n",
       "    <tr>\n",
       "      <th>0</th>\n",
       "      <td>9186</td>\n",
       "      <td>gab</td>\n",
       "      <td>Y te golpeo más fuerte perra.</td>\n",
       "      <td>sexist</td>\n",
       "      <td>1</td>\n",
       "      <td>te golpeo más fuerte perra</td>\n",
       "    </tr>\n",
       "    <tr>\n",
       "      <th>1</th>\n",
       "      <td>9187</td>\n",
       "      <td>twitter</td>\n",
       "      <td>@wthxtme @GOLDENMXM Castigado tres meses sin s...</td>\n",
       "      <td>non-sexist</td>\n",
       "      <td>0</td>\n",
       "      <td>castigado tres meses sin salir la chica no vie...</td>\n",
       "    </tr>\n",
       "    <tr>\n",
       "      <th>2</th>\n",
       "      <td>9188</td>\n",
       "      <td>twitter</td>\n",
       "      <td>@MaricaIndomito jajajaj el me he topado con ta...</td>\n",
       "      <td>sexist</td>\n",
       "      <td>1</td>\n",
       "      <td>jajajaj el me he topado con tantos de la onda ...</td>\n",
       "    </tr>\n",
       "    <tr>\n",
       "      <th>3</th>\n",
       "      <td>9189</td>\n",
       "      <td>twitter</td>\n",
       "      <td>Resulta que hoy es el día de la juventud y no ...</td>\n",
       "      <td>non-sexist</td>\n",
       "      <td>0</td>\n",
       "      <td>resulta que hoy es el día de la juventud no me...</td>\n",
       "    </tr>\n",
       "    <tr>\n",
       "      <th>4</th>\n",
       "      <td>9190</td>\n",
       "      <td>twitter</td>\n",
       "      <td>@EstefMolina_ Los que dicen que creen en la ig...</td>\n",
       "      <td>sexist</td>\n",
       "      <td>1</td>\n",
       "      <td>los que dicen que creen en la igualdad pero qu...</td>\n",
       "    </tr>\n",
       "  </tbody>\n",
       "</table>\n",
       "</div>"
      ],
      "text/plain": [
       "     id   source                                               text  \\\n",
       "0  9186      gab                      Y te golpeo más fuerte perra.   \n",
       "1  9187  twitter  @wthxtme @GOLDENMXM Castigado tres meses sin s...   \n",
       "2  9188  twitter  @MaricaIndomito jajajaj el me he topado con ta...   \n",
       "3  9189  twitter  Resulta que hoy es el día de la juventud y no ...   \n",
       "4  9190  twitter  @EstefMolina_ Los que dicen que creen en la ig...   \n",
       "\n",
       "        task1  task1_bin                                         Final_text  \n",
       "0      sexist          1                         te golpeo más fuerte perra  \n",
       "1  non-sexist          0  castigado tres meses sin salir la chica no vie...  \n",
       "2      sexist          1  jajajaj el me he topado con tantos de la onda ...  \n",
       "3  non-sexist          0  resulta que hoy es el día de la juventud no me...  \n",
       "4      sexist          1  los que dicen que creen en la igualdad pero qu...  "
      ]
     },
     "execution_count": 160,
     "metadata": {},
     "output_type": "execute_result"
    }
   ],
   "source": [
    "EXIST2021_test_labeled_data_task1.head()"
   ]
  },
  {
   "cell_type": "markdown",
   "metadata": {},
   "source": [
    "**Ejecutamos el pipeline con los datos de training y calculamos predicciones con los datos de test**"
   ]
  },
  {
   "cell_type": "code",
   "execution_count": 161,
   "metadata": {},
   "outputs": [],
   "source": [
    "pipeline.fit(EXIST2021_training_data_task1.Final_text,  EXIST2021_training_data_task1.task1_bin)\n",
    "\n",
    "EXIST2021_test_labeled_data_task1['task1_bin_predicted'] = pipeline.predict(EXIST2021_test_labeled_data_task1.Final_text)\n"
   ]
  },
  {
   "cell_type": "code",
   "execution_count": 162,
   "metadata": {},
   "outputs": [
    {
     "data": {
      "text/html": [
       "<div>\n",
       "<style scoped>\n",
       "    .dataframe tbody tr th:only-of-type {\n",
       "        vertical-align: middle;\n",
       "    }\n",
       "\n",
       "    .dataframe tbody tr th {\n",
       "        vertical-align: top;\n",
       "    }\n",
       "\n",
       "    .dataframe thead th {\n",
       "        text-align: right;\n",
       "    }\n",
       "</style>\n",
       "<table border=\"1\" class=\"dataframe\">\n",
       "  <thead>\n",
       "    <tr style=\"text-align: right;\">\n",
       "      <th></th>\n",
       "      <th>id</th>\n",
       "      <th>source</th>\n",
       "      <th>text</th>\n",
       "      <th>task1</th>\n",
       "      <th>task1_bin</th>\n",
       "      <th>Final_text</th>\n",
       "      <th>task1_bin_predicted</th>\n",
       "    </tr>\n",
       "  </thead>\n",
       "  <tbody>\n",
       "    <tr>\n",
       "      <th>0</th>\n",
       "      <td>9186</td>\n",
       "      <td>gab</td>\n",
       "      <td>Y te golpeo más fuerte perra.</td>\n",
       "      <td>sexist</td>\n",
       "      <td>1</td>\n",
       "      <td>te golpeo más fuerte perra</td>\n",
       "      <td>0</td>\n",
       "    </tr>\n",
       "    <tr>\n",
       "      <th>1</th>\n",
       "      <td>9187</td>\n",
       "      <td>twitter</td>\n",
       "      <td>@wthxtme @GOLDENMXM Castigado tres meses sin s...</td>\n",
       "      <td>non-sexist</td>\n",
       "      <td>0</td>\n",
       "      <td>castigado tres meses sin salir la chica no vie...</td>\n",
       "      <td>0</td>\n",
       "    </tr>\n",
       "    <tr>\n",
       "      <th>2</th>\n",
       "      <td>9188</td>\n",
       "      <td>twitter</td>\n",
       "      <td>@MaricaIndomito jajajaj el me he topado con ta...</td>\n",
       "      <td>sexist</td>\n",
       "      <td>1</td>\n",
       "      <td>jajajaj el me he topado con tantos de la onda ...</td>\n",
       "      <td>0</td>\n",
       "    </tr>\n",
       "    <tr>\n",
       "      <th>3</th>\n",
       "      <td>9189</td>\n",
       "      <td>twitter</td>\n",
       "      <td>Resulta que hoy es el día de la juventud y no ...</td>\n",
       "      <td>non-sexist</td>\n",
       "      <td>0</td>\n",
       "      <td>resulta que hoy es el día de la juventud no me...</td>\n",
       "      <td>0</td>\n",
       "    </tr>\n",
       "    <tr>\n",
       "      <th>4</th>\n",
       "      <td>9190</td>\n",
       "      <td>twitter</td>\n",
       "      <td>@EstefMolina_ Los que dicen que creen en la ig...</td>\n",
       "      <td>sexist</td>\n",
       "      <td>1</td>\n",
       "      <td>los que dicen que creen en la igualdad pero qu...</td>\n",
       "      <td>1</td>\n",
       "    </tr>\n",
       "  </tbody>\n",
       "</table>\n",
       "</div>"
      ],
      "text/plain": [
       "     id   source                                               text  \\\n",
       "0  9186      gab                      Y te golpeo más fuerte perra.   \n",
       "1  9187  twitter  @wthxtme @GOLDENMXM Castigado tres meses sin s...   \n",
       "2  9188  twitter  @MaricaIndomito jajajaj el me he topado con ta...   \n",
       "3  9189  twitter  Resulta que hoy es el día de la juventud y no ...   \n",
       "4  9190  twitter  @EstefMolina_ Los que dicen que creen en la ig...   \n",
       "\n",
       "        task1  task1_bin                                         Final_text  \\\n",
       "0      sexist          1                         te golpeo más fuerte perra   \n",
       "1  non-sexist          0  castigado tres meses sin salir la chica no vie...   \n",
       "2      sexist          1  jajajaj el me he topado con tantos de la onda ...   \n",
       "3  non-sexist          0  resulta que hoy es el día de la juventud no me...   \n",
       "4      sexist          1  los que dicen que creen en la igualdad pero qu...   \n",
       "\n",
       "   task1_bin_predicted  \n",
       "0                    0  \n",
       "1                    0  \n",
       "2                    0  \n",
       "3                    0  \n",
       "4                    1  "
      ]
     },
     "execution_count": 162,
     "metadata": {},
     "output_type": "execute_result"
    }
   ],
   "source": [
    "EXIST2021_test_labeled_data_task1.head()"
   ]
  },
  {
   "cell_type": "markdown",
   "metadata": {},
   "source": [
    "**Calculamos y graficamos la matriz de confusión**"
   ]
  },
  {
   "cell_type": "code",
   "execution_count": 163,
   "metadata": {},
   "outputs": [
    {
     "name": "stdout",
     "output_type": "stream",
     "text": [
      "[[841 196]\n",
      " [457 666]]\n"
     ]
    }
   ],
   "source": [
    "cm = confusion_matrix(EXIST2021_test_labeled_data_task1.task1_bin,EXIST2021_test_labeled_data_task1.task1_bin_predicted)\n",
    "print(cm)"
   ]
  },
  {
   "cell_type": "code",
   "execution_count": 164,
   "metadata": {},
   "outputs": [
    {
     "data": {
      "image/png": "[encoded data removed]",
      "text/plain": [
       "<Figure size 432x288 with 2 Axes>"
      ]
     },
     "metadata": {},
     "output_type": "display_data"
    }
   ],
   "source": [
    "\n",
    "ax = plt.subplot()\n",
    "df_cm = pd.DataFrame(cm, range(2))\n",
    "sns.set(font_scale=1.4)\n",
    "sns.heatmap(df_cm, annot=True, annot_kws={\"size\": 16},ax = ax,fmt=\".0f\")\n",
    "\n",
    "# labels, title and ticks\n",
    "ax.set_xlabel('Predicted labels');ax.set_ylabel('True labels'); \n",
    "ax.set_title('Confusion Matrix'); \n",
    "ax.xaxis.set_ticklabels(['sexist', 'non-sexist']); \n",
    "ax.yaxis.set_ticklabels(['sexist', 'non-sexist']);\n"
   ]
  },
  {
   "cell_type": "markdown",
   "metadata": {},
   "source": [
    "**Classification report y cálculo del score**"
   ]
  },
  {
   "cell_type": "code",
   "execution_count": 165,
   "metadata": {},
   "outputs": [
    {
     "name": "stdout",
     "output_type": "stream",
     "text": [
      "              precision    recall  f1-score   support\n",
      "\n",
      "      sexist       0.65      0.81      0.72      1037\n",
      "  non-sexist       0.77      0.59      0.67      1123\n",
      "\n",
      "    accuracy                           0.70      2160\n",
      "   macro avg       0.71      0.70      0.70      2160\n",
      "weighted avg       0.71      0.70      0.69      2160\n",
      "\n"
     ]
    }
   ],
   "source": [
    "# Estadísticas Relevantes\n",
    "\n",
    "label=['sexist','non-sexist']\n",
    "print(classification_report(EXIST2021_test_labeled_data_task1.task1_bin, EXIST2021_test_labeled_data_task1.task1_bin_predicted, target_names=label))"
   ]
  },
  {
   "cell_type": "code",
   "execution_count": 166,
   "metadata": {},
   "outputs": [
    {
     "data": {
      "text/plain": [
       "0.6976851851851852"
      ]
     },
     "execution_count": 166,
     "metadata": {},
     "output_type": "execute_result"
    }
   ],
   "source": [
    "pipeline.score(EXIST2021_test_labeled_data_task1.Final_text, EXIST2021_test_labeled_data_task1.task1_bin)\n",
    "  "
   ]
  },
  {
   "cell_type": "markdown",
   "metadata": {},
   "source": [
    "**Se sigue la misma metodología para para un clasificador LinearSVC con scoring accuracy**"
   ]
  },
  {
   "cell_type": "code",
   "execution_count": 66,
   "metadata": {},
   "outputs": [
    {
     "data": {
      "text/plain": [
       "GridSearchCV(estimator=Pipeline(steps=[('vect',\n",
       "                                        CountVectorizer(tokenizer=<function tokenize at 0x000000000E28D1F8>)),\n",
       "                                       ('cls', LinearSVC())]),\n",
       "             n_jobs=-1,\n",
       "             param_grid={'cls__C': (0.2, 0.5, 0.7),\n",
       "                         'cls__loss': ('hinge', 'squared_hinge'),\n",
       "                         'cls__max_iter': (500, 1000),\n",
       "                         'vect__max_df': (0.5, 1.9),\n",
       "                         'vect__max_features': (500, 1000),\n",
       "                         'vect__min_df': (10, 20, 50),\n",
       "                         'vect__ngram_range': ((1, 1), (1, 2))},\n",
       "             scoring='accuracy')"
      ]
     },
     "execution_count": 66,
     "metadata": {},
     "output_type": "execute_result"
    }
   ],
   "source": [
    "\n",
    "vectorizer = CountVectorizer(\n",
    "                analyzer = 'word',\n",
    "                tokenizer = tokenize,\n",
    "                lowercase = True\n",
    "                )\n",
    "\n",
    "pipeline = Pipeline([\n",
    "    ('vect', vectorizer),  \n",
    "    ('cls', LinearSVC()),\n",
    "])\n",
    "\n",
    "\n",
    "\n",
    "parameters = {    \n",
    "    'vect__max_df': (0.5, 1.9),\n",
    "    'vect__min_df': (10, 20,50),\n",
    "    'vect__max_features': (500, 1000),\n",
    "    'vect__ngram_range': ((1, 1), (1, 2)),  # unigrams or bigrams\n",
    "    'cls__C': (0.2, 0.5, 0.7),\n",
    "    'cls__loss': ('hinge', 'squared_hinge'),\n",
    "    'cls__max_iter': (500, 1000)\n",
    "}\n",
    "\n",
    "\n",
    "grid_search = GridSearchCV(pipeline, parameters, n_jobs=-1 , scoring='accuracy')\n",
    "grid_search.fit(EXIST2021_training_data_task1.Final_text, EXIST2021_training_data_task1.task1_bin)"
   ]
  },
  {
   "cell_type": "code",
   "execution_count": 67,
   "metadata": {},
   "outputs": [
    {
     "name": "stdout",
     "output_type": "stream",
     "text": [
      "0.7229451045078212\n",
      "{'cls__C': 0.2, 'cls__loss': 'hinge', 'cls__max_iter': 500, 'vect__max_df': 0.5, 'vect__max_features': 500, 'vect__min_df': 10, 'vect__ngram_range': (1, 2)}\n",
      "Pipeline(steps=[('vect',\n",
      "                 CountVectorizer(max_df=0.5, max_features=500, min_df=10,\n",
      "                                 ngram_range=(1, 2),\n",
      "                                 tokenizer=<function tokenize at 0x000000000E28D1F8>)),\n",
      "                ('cls', LinearSVC(C=0.2, loss='hinge', max_iter=500))])\n"
     ]
    }
   ],
   "source": [
    "print(grid_search.best_score_)\n",
    "print(grid_search.best_params_)\n",
    "print(grid_search.best_estimator_)"
   ]
  },
  {
   "cell_type": "code",
   "execution_count": 68,
   "metadata": {},
   "outputs": [],
   "source": [
    "model = LinearSVC(C=.2, loss='hinge',max_iter=500,multi_class='ovr',\n",
    "              random_state=None,\n",
    "              penalty='l2',\n",
    "              tol=0.0001\n",
    ")\n",
    "\n",
    "vectorizer = CountVectorizer(\n",
    "    analyzer = 'word',\n",
    "    tokenizer = tokenize,\n",
    "    lowercase = True,   \n",
    "    min_df = 10,\n",
    "    max_df = 0.5,\n",
    "    ngram_range=(1, 2),\n",
    "    max_features=500\n",
    ")\n",
    "\n",
    "corpus_data_features = vectorizer.fit_transform(EXIST2021_training_data_task1.Final_text)\n",
    "corpus_data_features_nd = corpus_data_features.toarray()"
   ]
  },
  {
   "cell_type": "code",
   "execution_count": 70,
   "metadata": {},
   "outputs": [
    {
     "data": {
      "text/plain": [
       "0.7192747802666284"
      ]
     },
     "execution_count": 70,
     "metadata": {},
     "output_type": "execute_result"
    }
   ],
   "source": [
    "scores = cross_val_score(\n",
    "    model,\n",
    "    corpus_data_features_nd[0:len(EXIST2021_training_data_task1.Final_text)],\n",
    "    y=EXIST2021_training_data_task1.task1_bin,\n",
    "    scoring='accuracy',\n",
    "    cv=5\n",
    "    )\n",
    "\n",
    "scores.mean()"
   ]
  },
  {
   "cell_type": "code",
   "execution_count": 71,
   "metadata": {},
   "outputs": [],
   "source": [
    "pipeline = Pipeline([\n",
    "    ('vect', CountVectorizer(\n",
    "            analyzer = 'word',\n",
    "            tokenizer = tokenize,\n",
    "            lowercase = True,          \n",
    "            min_df = 10,\n",
    "            max_df = 0.5,\n",
    "            ngram_range=(1, 2),\n",
    "            max_features=500\n",
    "            )),\n",
    "    ('cls', LinearSVC(C=.2, loss='hinge',max_iter=500,multi_class='ovr',\n",
    "             random_state=None,\n",
    "             penalty='l2',\n",
    "             tol=0.0001\n",
    "             )),\n",
    "])"
   ]
  },
  {
   "cell_type": "code",
   "execution_count": 72,
   "metadata": {},
   "outputs": [
    {
     "data": {
      "text/plain": [
       "0                           te golpeo más fuerte perra\n",
       "1    castigado tres meses sin salir la chica no vie...\n",
       "2    jajajaj el me he topado con tantos de la onda ...\n",
       "3    resulta que hoy es el día de la juventud no me...\n",
       "4    los que dicen que creen en la igualdad pero qu...\n",
       "Name: Final_text, dtype: object"
      ]
     },
     "execution_count": 72,
     "metadata": {},
     "output_type": "execute_result"
    }
   ],
   "source": [
    "\n",
    "EXIST2021_test_labeled_data_task1['Final_text'] = text_cleaning(EXIST2021_test_labeled_data_task1)\n",
    "EXIST2021_test_labeled_data_task1['Final_text'].head()"
   ]
  },
  {
   "cell_type": "code",
   "execution_count": 73,
   "metadata": {},
   "outputs": [
    {
     "data": {
      "text/html": [
       "<div>\n",
       "<style scoped>\n",
       "    .dataframe tbody tr th:only-of-type {\n",
       "        vertical-align: middle;\n",
       "    }\n",
       "\n",
       "    .dataframe tbody tr th {\n",
       "        vertical-align: top;\n",
       "    }\n",
       "\n",
       "    .dataframe thead th {\n",
       "        text-align: right;\n",
       "    }\n",
       "</style>\n",
       "<table border=\"1\" class=\"dataframe\">\n",
       "  <thead>\n",
       "    <tr style=\"text-align: right;\">\n",
       "      <th></th>\n",
       "      <th>id</th>\n",
       "      <th>source</th>\n",
       "      <th>text</th>\n",
       "      <th>task1</th>\n",
       "      <th>task1_bin</th>\n",
       "      <th>Final_text</th>\n",
       "    </tr>\n",
       "  </thead>\n",
       "  <tbody>\n",
       "    <tr>\n",
       "      <th>0</th>\n",
       "      <td>9186</td>\n",
       "      <td>gab</td>\n",
       "      <td>Y te golpeo más fuerte perra.</td>\n",
       "      <td>sexist</td>\n",
       "      <td>1</td>\n",
       "      <td>te golpeo más fuerte perra</td>\n",
       "    </tr>\n",
       "    <tr>\n",
       "      <th>1</th>\n",
       "      <td>9187</td>\n",
       "      <td>twitter</td>\n",
       "      <td>@wthxtme @GOLDENMXM Castigado tres meses sin s...</td>\n",
       "      <td>non-sexist</td>\n",
       "      <td>0</td>\n",
       "      <td>castigado tres meses sin salir la chica no vie...</td>\n",
       "    </tr>\n",
       "    <tr>\n",
       "      <th>2</th>\n",
       "      <td>9188</td>\n",
       "      <td>twitter</td>\n",
       "      <td>@MaricaIndomito jajajaj el me he topado con ta...</td>\n",
       "      <td>sexist</td>\n",
       "      <td>1</td>\n",
       "      <td>jajajaj el me he topado con tantos de la onda ...</td>\n",
       "    </tr>\n",
       "    <tr>\n",
       "      <th>3</th>\n",
       "      <td>9189</td>\n",
       "      <td>twitter</td>\n",
       "      <td>Resulta que hoy es el día de la juventud y no ...</td>\n",
       "      <td>non-sexist</td>\n",
       "      <td>0</td>\n",
       "      <td>resulta que hoy es el día de la juventud no me...</td>\n",
       "    </tr>\n",
       "    <tr>\n",
       "      <th>4</th>\n",
       "      <td>9190</td>\n",
       "      <td>twitter</td>\n",
       "      <td>@EstefMolina_ Los que dicen que creen en la ig...</td>\n",
       "      <td>sexist</td>\n",
       "      <td>1</td>\n",
       "      <td>los que dicen que creen en la igualdad pero qu...</td>\n",
       "    </tr>\n",
       "  </tbody>\n",
       "</table>\n",
       "</div>"
      ],
      "text/plain": [
       "     id   source                                               text  \\\n",
       "0  9186      gab                      Y te golpeo más fuerte perra.   \n",
       "1  9187  twitter  @wthxtme @GOLDENMXM Castigado tres meses sin s...   \n",
       "2  9188  twitter  @MaricaIndomito jajajaj el me he topado con ta...   \n",
       "3  9189  twitter  Resulta que hoy es el día de la juventud y no ...   \n",
       "4  9190  twitter  @EstefMolina_ Los que dicen que creen en la ig...   \n",
       "\n",
       "        task1  task1_bin                                         Final_text  \n",
       "0      sexist          1                         te golpeo más fuerte perra  \n",
       "1  non-sexist          0  castigado tres meses sin salir la chica no vie...  \n",
       "2      sexist          1  jajajaj el me he topado con tantos de la onda ...  \n",
       "3  non-sexist          0  resulta que hoy es el día de la juventud no me...  \n",
       "4      sexist          1  los que dicen que creen en la igualdad pero qu...  "
      ]
     },
     "execution_count": 73,
     "metadata": {},
     "output_type": "execute_result"
    }
   ],
   "source": [
    "EXIST2021_test_labeled_data_task1.head()"
   ]
  },
  {
   "cell_type": "code",
   "execution_count": 74,
   "metadata": {},
   "outputs": [],
   "source": [
    "pipeline.fit(EXIST2021_training_data_task1.Final_text,  EXIST2021_training_data_task1.task1_bin)\n",
    "\n",
    "EXIST2021_test_labeled_data_task1['task1_bin_predicted'] = pipeline.predict(EXIST2021_test_labeled_data_task1.Final_text)\n"
   ]
  },
  {
   "cell_type": "code",
   "execution_count": 76,
   "metadata": {},
   "outputs": [
    {
     "data": {
      "text/html": [
       "<div>\n",
       "<style scoped>\n",
       "    .dataframe tbody tr th:only-of-type {\n",
       "        vertical-align: middle;\n",
       "    }\n",
       "\n",
       "    .dataframe tbody tr th {\n",
       "        vertical-align: top;\n",
       "    }\n",
       "\n",
       "    .dataframe thead th {\n",
       "        text-align: right;\n",
       "    }\n",
       "</style>\n",
       "<table border=\"1\" class=\"dataframe\">\n",
       "  <thead>\n",
       "    <tr style=\"text-align: right;\">\n",
       "      <th></th>\n",
       "      <th>id</th>\n",
       "      <th>source</th>\n",
       "      <th>text</th>\n",
       "      <th>task1</th>\n",
       "      <th>task1_bin</th>\n",
       "      <th>Final_text</th>\n",
       "      <th>task1_bin_predicted</th>\n",
       "    </tr>\n",
       "  </thead>\n",
       "  <tbody>\n",
       "    <tr>\n",
       "      <th>0</th>\n",
       "      <td>9186</td>\n",
       "      <td>gab</td>\n",
       "      <td>Y te golpeo más fuerte perra.</td>\n",
       "      <td>sexist</td>\n",
       "      <td>1</td>\n",
       "      <td>te golpeo más fuerte perra</td>\n",
       "      <td>0</td>\n",
       "    </tr>\n",
       "    <tr>\n",
       "      <th>1</th>\n",
       "      <td>9187</td>\n",
       "      <td>twitter</td>\n",
       "      <td>@wthxtme @GOLDENMXM Castigado tres meses sin s...</td>\n",
       "      <td>non-sexist</td>\n",
       "      <td>0</td>\n",
       "      <td>castigado tres meses sin salir la chica no vie...</td>\n",
       "      <td>0</td>\n",
       "    </tr>\n",
       "    <tr>\n",
       "      <th>2</th>\n",
       "      <td>9188</td>\n",
       "      <td>twitter</td>\n",
       "      <td>@MaricaIndomito jajajaj el me he topado con ta...</td>\n",
       "      <td>sexist</td>\n",
       "      <td>1</td>\n",
       "      <td>jajajaj el me he topado con tantos de la onda ...</td>\n",
       "      <td>0</td>\n",
       "    </tr>\n",
       "    <tr>\n",
       "      <th>3</th>\n",
       "      <td>9189</td>\n",
       "      <td>twitter</td>\n",
       "      <td>Resulta que hoy es el día de la juventud y no ...</td>\n",
       "      <td>non-sexist</td>\n",
       "      <td>0</td>\n",
       "      <td>resulta que hoy es el día de la juventud no me...</td>\n",
       "      <td>0</td>\n",
       "    </tr>\n",
       "    <tr>\n",
       "      <th>4</th>\n",
       "      <td>9190</td>\n",
       "      <td>twitter</td>\n",
       "      <td>@EstefMolina_ Los que dicen que creen en la ig...</td>\n",
       "      <td>sexist</td>\n",
       "      <td>1</td>\n",
       "      <td>los que dicen que creen en la igualdad pero qu...</td>\n",
       "      <td>1</td>\n",
       "    </tr>\n",
       "  </tbody>\n",
       "</table>\n",
       "</div>"
      ],
      "text/plain": [
       "     id   source                                               text  \\\n",
       "0  9186      gab                      Y te golpeo más fuerte perra.   \n",
       "1  9187  twitter  @wthxtme @GOLDENMXM Castigado tres meses sin s...   \n",
       "2  9188  twitter  @MaricaIndomito jajajaj el me he topado con ta...   \n",
       "3  9189  twitter  Resulta que hoy es el día de la juventud y no ...   \n",
       "4  9190  twitter  @EstefMolina_ Los que dicen que creen en la ig...   \n",
       "\n",
       "        task1  task1_bin                                         Final_text  \\\n",
       "0      sexist          1                         te golpeo más fuerte perra   \n",
       "1  non-sexist          0  castigado tres meses sin salir la chica no vie...   \n",
       "2      sexist          1  jajajaj el me he topado con tantos de la onda ...   \n",
       "3  non-sexist          0  resulta que hoy es el día de la juventud no me...   \n",
       "4      sexist          1  los que dicen que creen en la igualdad pero qu...   \n",
       "\n",
       "   task1_bin_predicted  \n",
       "0                    0  \n",
       "1                    0  \n",
       "2                    0  \n",
       "3                    0  \n",
       "4                    1  "
      ]
     },
     "execution_count": 76,
     "metadata": {},
     "output_type": "execute_result"
    }
   ],
   "source": [
    "EXIST2021_test_labeled_data_task1.head()"
   ]
  },
  {
   "cell_type": "code",
   "execution_count": 77,
   "metadata": {},
   "outputs": [
    {
     "name": "stdout",
     "output_type": "stream",
     "text": [
      "[[845 192]\n",
      " [428 695]]\n"
     ]
    }
   ],
   "source": [
    "cm = confusion_matrix(EXIST2021_test_labeled_data_task1.task1_bin,EXIST2021_test_labeled_data_task1.task1_bin_predicted)\n",
    "print(cm)"
   ]
  },
  {
   "cell_type": "code",
   "execution_count": 78,
   "metadata": {},
   "outputs": [
    {
     "data": {
      "image/png": "[encoded data removed]",
      "text/plain": [
       "<Figure size 432x288 with 2 Axes>"
      ]
     },
     "metadata": {
      "needs_background": "light"
     },
     "output_type": "display_data"
    }
   ],
   "source": [
    "ax = plt.subplot()\n",
    "df_cm = pd.DataFrame(cm, range(2))\n",
    "sns.set(font_scale=1.4)\n",
    "sns.heatmap(df_cm, annot=True, annot_kws={\"size\": 16},ax = ax,fmt=\".0f\")\n",
    "\n",
    "# labels, title and ticks\n",
    "ax.set_xlabel('Predicted labels');ax.set_ylabel('True labels'); \n",
    "ax.set_title('Confusion Matrix'); \n",
    "ax.xaxis.set_ticklabels(['sexist', 'non-sexist']); \n",
    "ax.yaxis.set_ticklabels(['sexist', 'non-sexist']);\n"
   ]
  },
  {
   "cell_type": "code",
   "execution_count": 79,
   "metadata": {},
   "outputs": [
    {
     "name": "stdout",
     "output_type": "stream",
     "text": [
      "              precision    recall  f1-score   support\n",
      "\n",
      "      sexist       0.66      0.81      0.73      1037\n",
      "  non-sexist       0.78      0.62      0.69      1123\n",
      "\n",
      "    accuracy                           0.71      2160\n",
      "   macro avg       0.72      0.72      0.71      2160\n",
      "weighted avg       0.73      0.71      0.71      2160\n",
      "\n"
     ]
    }
   ],
   "source": [
    "# Estadísticas Relevantes\n",
    "\n",
    "label=['sexist','non-sexist']\n",
    "print(classification_report(EXIST2021_test_labeled_data_task1.task1_bin, EXIST2021_test_labeled_data_task1.task1_bin_predicted, target_names=label))"
   ]
  },
  {
   "cell_type": "code",
   "execution_count": 80,
   "metadata": {},
   "outputs": [
    {
     "data": {
      "text/plain": [
       "0.7129629629629629"
      ]
     },
     "execution_count": 80,
     "metadata": {},
     "output_type": "execute_result"
    }
   ],
   "source": [
    "pipeline.score(EXIST2021_test_labeled_data_task1.Final_text, EXIST2021_test_labeled_data_task1.task1_bin)\n",
    "  "
   ]
  },
  {
   "cell_type": "markdown",
   "metadata": {},
   "source": [
    "**En ambos casos vemos que ambos modelos son sensiblemente más precisos para identificar el sexismo que para identificar el no sexismo**"
   ]
  },
  {
   "cell_type": "markdown",
   "metadata": {},
   "source": [
    "**EXIST2021-TASK2. CATEGORIZACIÓN DEL SEXISMO. CLASIFICADORES MULTICLASE**"
   ]
  },
  {
   "cell_type": "markdown",
   "metadata": {},
   "source": [
    "**Selección de datos de training y test categorizados como Sexistas**"
   ]
  },
  {
   "cell_type": "code",
   "execution_count": 20,
   "metadata": {},
   "outputs": [
    {
     "data": {
      "text/html": [
       "<div>\n",
       "<style scoped>\n",
       "    .dataframe tbody tr th:only-of-type {\n",
       "        vertical-align: middle;\n",
       "    }\n",
       "\n",
       "    .dataframe tbody tr th {\n",
       "        vertical-align: top;\n",
       "    }\n",
       "\n",
       "    .dataframe thead th {\n",
       "        text-align: right;\n",
       "    }\n",
       "</style>\n",
       "<table border=\"1\" class=\"dataframe\">\n",
       "  <thead>\n",
       "    <tr style=\"text-align: right;\">\n",
       "      <th></th>\n",
       "      <th>id</th>\n",
       "      <th>source</th>\n",
       "      <th>text</th>\n",
       "      <th>task2</th>\n",
       "    </tr>\n",
       "  </thead>\n",
       "  <tbody>\n",
       "    <tr>\n",
       "      <th>0</th>\n",
       "      <td>3437</td>\n",
       "      <td>twitter</td>\n",
       "      <td>Nadie te va a tratar tan bien como un hombre q...</td>\n",
       "      <td>sexual-violence</td>\n",
       "    </tr>\n",
       "    <tr>\n",
       "      <th>1</th>\n",
       "      <td>3438</td>\n",
       "      <td>twitter</td>\n",
       "      <td>@lindagisela74 Que rica putita obediente, afor...</td>\n",
       "      <td>stereotyping-dominance</td>\n",
       "    </tr>\n",
       "    <tr>\n",
       "      <th>7</th>\n",
       "      <td>3444</td>\n",
       "      <td>twitter</td>\n",
       "      <td>@6Asca @ladycristall Sigues lloriqueando, no m...</td>\n",
       "      <td>misogyny-non-sexual-violence</td>\n",
       "    </tr>\n",
       "    <tr>\n",
       "      <th>10</th>\n",
       "      <td>3447</td>\n",
       "      <td>twitter</td>\n",
       "      <td>Perdonar lo no sólo es posible, es absolutamen...</td>\n",
       "      <td>ideological-inequality</td>\n",
       "    </tr>\n",
       "    <tr>\n",
       "      <th>11</th>\n",
       "      <td>3448</td>\n",
       "      <td>twitter</td>\n",
       "      <td>El odio que te tengo nunca se me va a quitar p...</td>\n",
       "      <td>misogyny-non-sexual-violence</td>\n",
       "    </tr>\n",
       "  </tbody>\n",
       "</table>\n",
       "</div>"
      ],
      "text/plain": [
       "      id   source                                               text  \\\n",
       "0   3437  twitter  Nadie te va a tratar tan bien como un hombre q...   \n",
       "1   3438  twitter  @lindagisela74 Que rica putita obediente, afor...   \n",
       "7   3444  twitter  @6Asca @ladycristall Sigues lloriqueando, no m...   \n",
       "10  3447  twitter  Perdonar lo no sólo es posible, es absolutamen...   \n",
       "11  3448  twitter  El odio que te tengo nunca se me va a quitar p...   \n",
       "\n",
       "                           task2  \n",
       "0                sexual-violence  \n",
       "1         stereotyping-dominance  \n",
       "7   misogyny-non-sexual-violence  \n",
       "10        ideological-inequality  \n",
       "11  misogyny-non-sexual-violence  "
      ]
     },
     "execution_count": 20,
     "metadata": {},
     "output_type": "execute_result"
    }
   ],
   "source": [
    "EXIST2021_training_data_task2 = EXIST2021_training_data.loc[EXIST2021_training_data['task1']== 'sexist']\n",
    "\n",
    "EXIST2021_training_data_task2 = EXIST2021_training_data_task2.loc[:,['id','source','text','task2']]\n",
    "\n",
    "EXIST2021_training_data_task2.head()\n"
   ]
  },
  {
   "cell_type": "code",
   "execution_count": 21,
   "metadata": {},
   "outputs": [
    {
     "data": {
      "text/html": [
       "<div>\n",
       "<style scoped>\n",
       "    .dataframe tbody tr th:only-of-type {\n",
       "        vertical-align: middle;\n",
       "    }\n",
       "\n",
       "    .dataframe tbody tr th {\n",
       "        vertical-align: top;\n",
       "    }\n",
       "\n",
       "    .dataframe thead th {\n",
       "        text-align: right;\n",
       "    }\n",
       "</style>\n",
       "<table border=\"1\" class=\"dataframe\">\n",
       "  <thead>\n",
       "    <tr style=\"text-align: right;\">\n",
       "      <th></th>\n",
       "      <th>id</th>\n",
       "      <th>source</th>\n",
       "      <th>text</th>\n",
       "      <th>task2</th>\n",
       "    </tr>\n",
       "  </thead>\n",
       "  <tbody>\n",
       "    <tr>\n",
       "      <th>0</th>\n",
       "      <td>9186</td>\n",
       "      <td>gab</td>\n",
       "      <td>Y te golpeo más fuerte perra.</td>\n",
       "      <td>misogyny-non-sexual-violence</td>\n",
       "    </tr>\n",
       "    <tr>\n",
       "      <th>2</th>\n",
       "      <td>9188</td>\n",
       "      <td>twitter</td>\n",
       "      <td>@MaricaIndomito jajajaj el me he topado con ta...</td>\n",
       "      <td>stereotyping-dominance</td>\n",
       "    </tr>\n",
       "    <tr>\n",
       "      <th>4</th>\n",
       "      <td>9190</td>\n",
       "      <td>twitter</td>\n",
       "      <td>@EstefMolina_ Los que dicen que creen en la ig...</td>\n",
       "      <td>ideological-inequality</td>\n",
       "    </tr>\n",
       "    <tr>\n",
       "      <th>7</th>\n",
       "      <td>9193</td>\n",
       "      <td>twitter</td>\n",
       "      <td>por dios como no podes querer a mis gatas conc...</td>\n",
       "      <td>objectification</td>\n",
       "    </tr>\n",
       "    <tr>\n",
       "      <th>10</th>\n",
       "      <td>9196</td>\n",
       "      <td>twitter</td>\n",
       "      <td>Mujer al volante causa terror (Video) - https:...</td>\n",
       "      <td>stereotyping-dominance</td>\n",
       "    </tr>\n",
       "  </tbody>\n",
       "</table>\n",
       "</div>"
      ],
      "text/plain": [
       "      id   source                                               text  \\\n",
       "0   9186      gab                      Y te golpeo más fuerte perra.   \n",
       "2   9188  twitter  @MaricaIndomito jajajaj el me he topado con ta...   \n",
       "4   9190  twitter  @EstefMolina_ Los que dicen que creen en la ig...   \n",
       "7   9193  twitter  por dios como no podes querer a mis gatas conc...   \n",
       "10  9196  twitter  Mujer al volante causa terror (Video) - https:...   \n",
       "\n",
       "                           task2  \n",
       "0   misogyny-non-sexual-violence  \n",
       "2         stereotyping-dominance  \n",
       "4         ideological-inequality  \n",
       "7                objectification  \n",
       "10        stereotyping-dominance  "
      ]
     },
     "execution_count": 21,
     "metadata": {},
     "output_type": "execute_result"
    }
   ],
   "source": [
    "EXIST2021_test_labeled_data_task2 = EXIST2021_test_labeled_data.loc[EXIST2021_test_labeled_data['task1']== 'sexist']\n",
    "\n",
    "EXIST2021_test_labeled_data_task2 = EXIST2021_test_labeled_data_task2.loc[:,['id','source','text','task2']]\n",
    "\n",
    "EXIST2021_test_labeled_data_task2.head()"
   ]
  },
  {
   "cell_type": "markdown",
   "metadata": {},
   "source": [
    "**Limpieza de datos de training**"
   ]
  },
  {
   "cell_type": "code",
   "execution_count": 22,
   "metadata": {},
   "outputs": [
    {
     "data": {
      "text/plain": [
       "0     nadie te va tratar tan bien como un hombre que...\n",
       "1     que rica putita obediente afortunado tu marido...\n",
       "7         sigues lloriqueando no me des la brasa nenaza\n",
       "10    perdonar lo no sólo es posible es absolutament...\n",
       "11    el odio que te tengo nunca se me va quitar pin...\n",
       "Name: Final_text, dtype: object"
      ]
     },
     "execution_count": 22,
     "metadata": {},
     "output_type": "execute_result"
    }
   ],
   "source": [
    "EXIST2021_training_data_task2['Final_text'] = text_cleaning(EXIST2021_training_data_task2)\n",
    "EXIST2021_training_data_task2['Final_text'].head()\n",
    "\n"
   ]
  },
  {
   "cell_type": "markdown",
   "metadata": {},
   "source": [
    "**Seguimos la misma metodología que para TASK1 pero aplicada a clasificadores multiclase**\n",
    "\n",
    "**LogisticRegression(),DecisionTreeClassifier() y SVC(). En este caso con scoring f1_macro**"
   ]
  },
  {
   "cell_type": "code",
   "execution_count": null,
   "metadata": {},
   "outputs": [],
   "source": [
    "vectorizer = CountVectorizer(\n",
    "                analyzer = 'word',\n",
    "                tokenizer = tokenize,\n",
    "                lowercase = True\n",
    "                )\n",
    "\n",
    "pipeline = Pipeline([\n",
    "    ('vect', vectorizer),\n",
    "    ('cls', LogisticRegression()),\n",
    "])\n",
    "\n",
    "\n",
    "\n",
    "parameters = {\n",
    "    'vect__max_df': (0.5, 1.9),\n",
    "    'vect__min_df': (10, 20,50),\n",
    "    'vect__max_features': (500, 1000),\n",
    "    'vect__ngram_range': ((1, 1), (1, 2)),  # unigrams or bigrams\n",
    "    'cls__max_iter': (500, 1000),\n",
    "    'cls__C':(0.1,1, 10, 100),\n",
    "    'cls__solver'  : ('newton-cg', 'lbfgs', 'liblinear'),\n",
    "    'cls__penalty' : ('l1','l2')\n",
    "    \n",
    "}\n",
    "\n",
    "\n",
    "grid_search = GridSearchCV(pipeline, parameters, n_jobs=-1 , scoring='f1_macro')\n",
    "grid_search.fit(EXIST2021_training_data_task2.Final_text, EXIST2021_training_data_task2.task2)"
   ]
  },
  {
   "cell_type": "code",
   "execution_count": 24,
   "metadata": {},
   "outputs": [
    {
     "name": "stdout",
     "output_type": "stream",
     "text": [
      "0.6060976906907178\n",
      "{'cls__C': 1, 'cls__max_iter': 1000, 'cls__penalty': 'l1', 'cls__solver': 'liblinear', 'vect__max_df': 1.9, 'vect__max_features': 500, 'vect__min_df': 10, 'vect__ngram_range': (1, 1)}\n",
      "Pipeline(steps=[('vect',\n",
      "                 CountVectorizer(max_df=1.9, max_features=500, min_df=10,\n",
      "                                 tokenizer=<function tokenize at 0x0000000006902678>)),\n",
      "                ('cls',\n",
      "                 LogisticRegression(C=1, max_iter=1000, penalty='l1',\n",
      "                                    solver='liblinear'))])\n"
     ]
    }
   ],
   "source": [
    "print(grid_search.best_score_)\n",
    "print(grid_search.best_params_)\n",
    "print(grid_search.best_estimator_)"
   ]
  },
  {
   "cell_type": "code",
   "execution_count": 26,
   "metadata": {},
   "outputs": [],
   "source": [
    "model = LogisticRegression(C=1.0,max_iter=1000,random_state=None,solver = 'liblinear',penalty='l1',multi_class = 'ovr')\n",
    "\n",
    "\n",
    "vectorizer = CountVectorizer(\n",
    "    analyzer = 'word',\n",
    "    tokenizer = tokenize,\n",
    "    lowercase = True,   \n",
    "    min_df = 10,\n",
    "    max_df = 1.9,\n",
    "    ngram_range=(1, 1),\n",
    "    max_features=500\n",
    ")\n",
    "\n",
    "corpus_data_features = vectorizer.fit_transform(EXIST2021_training_data_task2.Final_text)\n",
    "corpus_data_features_nd = corpus_data_features.toarray()"
   ]
  },
  {
   "cell_type": "code",
   "execution_count": 28,
   "metadata": {},
   "outputs": [
    {
     "data": {
      "text/plain": [
       "0.6143156385931396"
      ]
     },
     "execution_count": 28,
     "metadata": {},
     "output_type": "execute_result"
    }
   ],
   "source": [
    "scores = cross_val_score(\n",
    "    model,\n",
    "    corpus_data_features_nd[0:len(EXIST2021_training_data_task2)],\n",
    "    y=EXIST2021_training_data_task2.task2,\n",
    "    scoring='f1_macro',\n",
    "    cv=10\n",
    "    )\n",
    "\n",
    "scores.mean()"
   ]
  },
  {
   "cell_type": "code",
   "execution_count": 29,
   "metadata": {},
   "outputs": [],
   "source": [
    "pipeline = Pipeline([\n",
    "    ('vect', CountVectorizer(\n",
    "            analyzer = 'word',\n",
    "            tokenizer = tokenize,\n",
    "            lowercase = True,          \n",
    "            min_df = 10,\n",
    "            max_df = 1.9,\n",
    "            ngram_range=(1, 1),\n",
    "            max_features=500\n",
    "            )),\n",
    "    ('cls', LogisticRegression(C=1,max_iter=1000,solver = 'liblinear',multi_class='ovr',\n",
    "             random_state=None,\n",
    "             penalty='l1'             \n",
    "             )),\n",
    "])"
   ]
  },
  {
   "cell_type": "code",
   "execution_count": 30,
   "metadata": {},
   "outputs": [
    {
     "data": {
      "text/plain": [
       "0                            te golpeo más fuerte perra\n",
       "2     jajajaj el me he topado con tantos de la onda ...\n",
       "4     los que dicen que creen en la igualdad pero qu...\n",
       "7     por dios como no podes querer mis gatas concha...\n",
       "10                  mujer al volante causa terror video\n",
       "Name: Final_text, dtype: object"
      ]
     },
     "execution_count": 30,
     "metadata": {},
     "output_type": "execute_result"
    }
   ],
   "source": [
    "\n",
    "EXIST2021_test_labeled_data_task2['Final_text'] = text_cleaning(EXIST2021_test_labeled_data_task2)\n",
    "EXIST2021_test_labeled_data_task2['Final_text'].head()"
   ]
  },
  {
   "cell_type": "code",
   "execution_count": 31,
   "metadata": {},
   "outputs": [
    {
     "data": {
      "text/html": [
       "<div>\n",
       "<style scoped>\n",
       "    .dataframe tbody tr th:only-of-type {\n",
       "        vertical-align: middle;\n",
       "    }\n",
       "\n",
       "    .dataframe tbody tr th {\n",
       "        vertical-align: top;\n",
       "    }\n",
       "\n",
       "    .dataframe thead th {\n",
       "        text-align: right;\n",
       "    }\n",
       "</style>\n",
       "<table border=\"1\" class=\"dataframe\">\n",
       "  <thead>\n",
       "    <tr style=\"text-align: right;\">\n",
       "      <th></th>\n",
       "      <th>id</th>\n",
       "      <th>source</th>\n",
       "      <th>text</th>\n",
       "      <th>task2</th>\n",
       "      <th>Final_text</th>\n",
       "    </tr>\n",
       "  </thead>\n",
       "  <tbody>\n",
       "    <tr>\n",
       "      <th>0</th>\n",
       "      <td>9186</td>\n",
       "      <td>gab</td>\n",
       "      <td>Y te golpeo más fuerte perra.</td>\n",
       "      <td>misogyny-non-sexual-violence</td>\n",
       "      <td>te golpeo más fuerte perra</td>\n",
       "    </tr>\n",
       "    <tr>\n",
       "      <th>2</th>\n",
       "      <td>9188</td>\n",
       "      <td>twitter</td>\n",
       "      <td>@MaricaIndomito jajajaj el me he topado con ta...</td>\n",
       "      <td>stereotyping-dominance</td>\n",
       "      <td>jajajaj el me he topado con tantos de la onda ...</td>\n",
       "    </tr>\n",
       "    <tr>\n",
       "      <th>4</th>\n",
       "      <td>9190</td>\n",
       "      <td>twitter</td>\n",
       "      <td>@EstefMolina_ Los que dicen que creen en la ig...</td>\n",
       "      <td>ideological-inequality</td>\n",
       "      <td>los que dicen que creen en la igualdad pero qu...</td>\n",
       "    </tr>\n",
       "    <tr>\n",
       "      <th>7</th>\n",
       "      <td>9193</td>\n",
       "      <td>twitter</td>\n",
       "      <td>por dios como no podes querer a mis gatas conc...</td>\n",
       "      <td>objectification</td>\n",
       "      <td>por dios como no podes querer mis gatas concha...</td>\n",
       "    </tr>\n",
       "    <tr>\n",
       "      <th>10</th>\n",
       "      <td>9196</td>\n",
       "      <td>twitter</td>\n",
       "      <td>Mujer al volante causa terror (Video) - https:...</td>\n",
       "      <td>stereotyping-dominance</td>\n",
       "      <td>mujer al volante causa terror video</td>\n",
       "    </tr>\n",
       "  </tbody>\n",
       "</table>\n",
       "</div>"
      ],
      "text/plain": [
       "      id   source                                               text  \\\n",
       "0   9186      gab                      Y te golpeo más fuerte perra.   \n",
       "2   9188  twitter  @MaricaIndomito jajajaj el me he topado con ta...   \n",
       "4   9190  twitter  @EstefMolina_ Los que dicen que creen en la ig...   \n",
       "7   9193  twitter  por dios como no podes querer a mis gatas conc...   \n",
       "10  9196  twitter  Mujer al volante causa terror (Video) - https:...   \n",
       "\n",
       "                           task2  \\\n",
       "0   misogyny-non-sexual-violence   \n",
       "2         stereotyping-dominance   \n",
       "4         ideological-inequality   \n",
       "7                objectification   \n",
       "10        stereotyping-dominance   \n",
       "\n",
       "                                           Final_text  \n",
       "0                          te golpeo más fuerte perra  \n",
       "2   jajajaj el me he topado con tantos de la onda ...  \n",
       "4   los que dicen que creen en la igualdad pero qu...  \n",
       "7   por dios como no podes querer mis gatas concha...  \n",
       "10                mujer al volante causa terror video  "
      ]
     },
     "execution_count": 31,
     "metadata": {},
     "output_type": "execute_result"
    }
   ],
   "source": [
    "EXIST2021_test_labeled_data_task2.head()"
   ]
  },
  {
   "cell_type": "code",
   "execution_count": 32,
   "metadata": {},
   "outputs": [],
   "source": [
    "pipeline.fit(EXIST2021_training_data_task2.Final_text,  EXIST2021_training_data_task2.task2)\n",
    "\n",
    "\n",
    "EXIST2021_test_labeled_data_task2['task2_predicted'] = pipeline.predict(EXIST2021_test_labeled_data_task2.Final_text)"
   ]
  },
  {
   "cell_type": "code",
   "execution_count": 33,
   "metadata": {},
   "outputs": [
    {
     "data": {
      "text/html": [
       "<div>\n",
       "<style scoped>\n",
       "    .dataframe tbody tr th:only-of-type {\n",
       "        vertical-align: middle;\n",
       "    }\n",
       "\n",
       "    .dataframe tbody tr th {\n",
       "        vertical-align: top;\n",
       "    }\n",
       "\n",
       "    .dataframe thead th {\n",
       "        text-align: right;\n",
       "    }\n",
       "</style>\n",
       "<table border=\"1\" class=\"dataframe\">\n",
       "  <thead>\n",
       "    <tr style=\"text-align: right;\">\n",
       "      <th></th>\n",
       "      <th>id</th>\n",
       "      <th>source</th>\n",
       "      <th>text</th>\n",
       "      <th>task2</th>\n",
       "      <th>Final_text</th>\n",
       "      <th>task2_predicted</th>\n",
       "    </tr>\n",
       "  </thead>\n",
       "  <tbody>\n",
       "    <tr>\n",
       "      <th>0</th>\n",
       "      <td>9186</td>\n",
       "      <td>gab</td>\n",
       "      <td>Y te golpeo más fuerte perra.</td>\n",
       "      <td>misogyny-non-sexual-violence</td>\n",
       "      <td>te golpeo más fuerte perra</td>\n",
       "      <td>misogyny-non-sexual-violence</td>\n",
       "    </tr>\n",
       "    <tr>\n",
       "      <th>2</th>\n",
       "      <td>9188</td>\n",
       "      <td>twitter</td>\n",
       "      <td>@MaricaIndomito jajajaj el me he topado con ta...</td>\n",
       "      <td>stereotyping-dominance</td>\n",
       "      <td>jajajaj el me he topado con tantos de la onda ...</td>\n",
       "      <td>ideological-inequality</td>\n",
       "    </tr>\n",
       "    <tr>\n",
       "      <th>4</th>\n",
       "      <td>9190</td>\n",
       "      <td>twitter</td>\n",
       "      <td>@EstefMolina_ Los que dicen que creen en la ig...</td>\n",
       "      <td>ideological-inequality</td>\n",
       "      <td>los que dicen que creen en la igualdad pero qu...</td>\n",
       "      <td>ideological-inequality</td>\n",
       "    </tr>\n",
       "    <tr>\n",
       "      <th>7</th>\n",
       "      <td>9193</td>\n",
       "      <td>twitter</td>\n",
       "      <td>por dios como no podes querer a mis gatas conc...</td>\n",
       "      <td>objectification</td>\n",
       "      <td>por dios como no podes querer mis gatas concha...</td>\n",
       "      <td>misogyny-non-sexual-violence</td>\n",
       "    </tr>\n",
       "    <tr>\n",
       "      <th>10</th>\n",
       "      <td>9196</td>\n",
       "      <td>twitter</td>\n",
       "      <td>Mujer al volante causa terror (Video) - https:...</td>\n",
       "      <td>stereotyping-dominance</td>\n",
       "      <td>mujer al volante causa terror video</td>\n",
       "      <td>stereotyping-dominance</td>\n",
       "    </tr>\n",
       "  </tbody>\n",
       "</table>\n",
       "</div>"
      ],
      "text/plain": [
       "      id   source                                               text  \\\n",
       "0   9186      gab                      Y te golpeo más fuerte perra.   \n",
       "2   9188  twitter  @MaricaIndomito jajajaj el me he topado con ta...   \n",
       "4   9190  twitter  @EstefMolina_ Los que dicen que creen en la ig...   \n",
       "7   9193  twitter  por dios como no podes querer a mis gatas conc...   \n",
       "10  9196  twitter  Mujer al volante causa terror (Video) - https:...   \n",
       "\n",
       "                           task2  \\\n",
       "0   misogyny-non-sexual-violence   \n",
       "2         stereotyping-dominance   \n",
       "4         ideological-inequality   \n",
       "7                objectification   \n",
       "10        stereotyping-dominance   \n",
       "\n",
       "                                           Final_text  \\\n",
       "0                          te golpeo más fuerte perra   \n",
       "2   jajajaj el me he topado con tantos de la onda ...   \n",
       "4   los que dicen que creen en la igualdad pero qu...   \n",
       "7   por dios como no podes querer mis gatas concha...   \n",
       "10                mujer al volante causa terror video   \n",
       "\n",
       "                 task2_predicted  \n",
       "0   misogyny-non-sexual-violence  \n",
       "2         ideological-inequality  \n",
       "4         ideological-inequality  \n",
       "7   misogyny-non-sexual-violence  \n",
       "10        stereotyping-dominance  "
      ]
     },
     "execution_count": 33,
     "metadata": {},
     "output_type": "execute_result"
    }
   ],
   "source": [
    "EXIST2021_test_labeled_data_task2.head()"
   ]
  },
  {
   "cell_type": "code",
   "execution_count": 34,
   "metadata": {},
   "outputs": [
    {
     "name": "stdout",
     "output_type": "stream",
     "text": [
      "Accuracy: 0.6242208370436332\n"
     ]
    }
   ],
   "source": [
    " print('Accuracy:',pipeline.score(EXIST2021_test_labeled_data_task2.Final_text, EXIST2021_test_labeled_data_task2.task2))"
   ]
  },
  {
   "cell_type": "code",
   "execution_count": 35,
   "metadata": {},
   "outputs": [
    {
     "name": "stdout",
     "output_type": "stream",
     "text": [
      "F1-score: 0.6172915011455483\n"
     ]
    }
   ],
   "source": [
    "print('F1-score:',f1_score(EXIST2021_test_labeled_data_task2.task2,EXIST2021_test_labeled_data_task2['task2_predicted'],average=\"macro\"))"
   ]
  },
  {
   "cell_type": "code",
   "execution_count": 37,
   "metadata": {},
   "outputs": [
    {
     "name": "stdout",
     "output_type": "stream",
     "text": [
      "                              precision    recall  f1-score   support\n",
      "\n",
      "      ideological-inequality       0.68      0.76      0.72       288\n",
      "misogyny-non-sexual-violence       0.55      0.61      0.58       257\n",
      "             objectification       0.61      0.48      0.54       174\n",
      "             sexual-violence       0.86      0.59      0.70       202\n",
      "      stereotyping-dominance       0.51      0.60      0.55       202\n",
      "\n",
      "                    accuracy                           0.62      1123\n",
      "                   macro avg       0.64      0.61      0.62      1123\n",
      "                weighted avg       0.64      0.62      0.63      1123\n",
      "\n"
     ]
    }
   ],
   "source": [
    "print(classification_report(EXIST2021_test_labeled_data_task2.task2,EXIST2021_test_labeled_data_task2['task2_predicted']))"
   ]
  },
  {
   "cell_type": "code",
   "execution_count": 39,
   "metadata": {},
   "outputs": [
    {
     "name": "stdout",
     "output_type": "stream",
     "text": [
      "[[219  30   4   4  31]\n",
      " [ 41 158  16   6  36]\n",
      " [ 12  37  83   8  34]\n",
      " [ 14  38  15 120  15]\n",
      " [ 35  26  18   2 121]]\n"
     ]
    }
   ],
   "source": [
    "cm = confusion_matrix(EXIST2021_test_labeled_data_task2.task2,EXIST2021_test_labeled_data_task2['task2_predicted'])\n",
    "print(cm)"
   ]
  },
  {
   "cell_type": "code",
   "execution_count": 43,
   "metadata": {},
   "outputs": [
    {
     "data": {
      "image/png": "[encoded data removed]",
      "text/plain": [
       "<Figure size 432x288 with 2 Axes>"
      ]
     },
     "metadata": {},
     "output_type": "display_data"
    }
   ],
   "source": [
    "\n",
    "ax = plt.subplot()\n",
    "df_cm = pd.DataFrame(cm, range(5))\n",
    "sns.set(font_scale=1.4)\n",
    "sns.heatmap(df_cm, annot=True, annot_kws={\"size\": 16},ax = ax,fmt=\".0f\")\n",
    "\n",
    "\n",
    "# labels, title and ticks\n",
    "plt.xticks(rotation=45, ha=\"right\")\n",
    "plt.yticks(rotation=45, ha=\"right\")\n",
    "ax.set_xlabel('Predicted labels');ax.set_ylabel('True labels'); \n",
    "ax.set_title('Confusion Matrix'); \n",
    "ax.xaxis.set_ticklabels(['ideological-inequality', 'misogyny-non-sexual-violence','objectification','sexual-violence','stereotyping-dominance']); \n",
    "ax.yaxis.set_ticklabels(['ideological-inequality', 'misogyny-non-sexual-violence','objectification','sexual-violence','stereotyping-dominance']);\n"
   ]
  },
  {
   "cell_type": "code",
   "execution_count": null,
   "metadata": {},
   "outputs": [],
   "source": [
    "vectorizer = CountVectorizer(\n",
    "                analyzer = 'word',\n",
    "                tokenizer = tokenize,\n",
    "                lowercase = True\n",
    "                )\n",
    "\n",
    "pipeline = Pipeline([\n",
    "    ('vect', vectorizer),\n",
    "    ('cls', DecisionTreeClassifier()),\n",
    "])\n",
    "\n",
    "\n",
    "\n",
    "parameters = {\n",
    "    'vect__max_df': (0.5, 1.9),\n",
    "    'vect__min_df': (10, 20,50),\n",
    "    'vect__max_features': (500, 1000),\n",
    "    'vect__ngram_range': ((1, 1), (1, 2)),  # unigrams or bigrams\n",
    "    'cls__criterion':('gini', 'entropy', 'log_loss'),\n",
    "    'cls__max_depth':(2,4,6,8,10,12)\n",
    "  \n",
    "    \n",
    "}\n",
    "\n",
    "\n",
    "grid_search = GridSearchCV(pipeline, parameters, n_jobs=-1 , scoring='f1_macro')\n",
    "grid_search.fit(EXIST2021_training_data_task2.Final_text, EXIST2021_training_data_task2.task2)"
   ]
  },
  {
   "cell_type": "code",
   "execution_count": 45,
   "metadata": {},
   "outputs": [
    {
     "name": "stdout",
     "output_type": "stream",
     "text": [
      "0.5103599337327697\n",
      "{'cls__criterion': 'gini', 'cls__max_depth': 12, 'vect__max_df': 0.5, 'vect__max_features': 500, 'vect__min_df': 10, 'vect__ngram_range': (1, 1)}\n",
      "Pipeline(steps=[('vect',\n",
      "                 CountVectorizer(max_df=0.5, max_features=500, min_df=10,\n",
      "                                 tokenizer=<function tokenize at 0x0000000006902678>)),\n",
      "                ('cls', DecisionTreeClassifier(max_depth=12))])\n"
     ]
    }
   ],
   "source": [
    "print(grid_search.best_score_)\n",
    "print(grid_search.best_params_)\n",
    "print(grid_search.best_estimator_)"
   ]
  },
  {
   "cell_type": "code",
   "execution_count": 47,
   "metadata": {},
   "outputs": [],
   "source": [
    "model = DecisionTreeClassifier(criterion='gini',max_depth=12,random_state=None)\n",
    "\n",
    "\n",
    "vectorizer = CountVectorizer(\n",
    "    analyzer = 'word',\n",
    "    tokenizer = tokenize,\n",
    "    lowercase = True,   \n",
    "    min_df = 10,\n",
    "    max_df = 0.5,\n",
    "    ngram_range=(1, 1),\n",
    "    max_features=500\n",
    ")\n",
    "\n",
    "corpus_data_features = vectorizer.fit_transform(EXIST2021_training_data_task2.Final_text)\n",
    "corpus_data_features_nd = corpus_data_features.toarray()"
   ]
  },
  {
   "cell_type": "code",
   "execution_count": 48,
   "metadata": {},
   "outputs": [
    {
     "data": {
      "text/plain": [
       "0.5171088452820842"
      ]
     },
     "execution_count": 48,
     "metadata": {},
     "output_type": "execute_result"
    }
   ],
   "source": [
    "scores = cross_val_score(\n",
    "    model,\n",
    "    corpus_data_features_nd[0:len(EXIST2021_training_data_task2)],\n",
    "    y=EXIST2021_training_data_task2.task2,\n",
    "    scoring='f1_macro',\n",
    "    cv=10\n",
    "    )\n",
    "\n",
    "scores.mean()"
   ]
  },
  {
   "cell_type": "code",
   "execution_count": 49,
   "metadata": {},
   "outputs": [],
   "source": [
    "pipeline = Pipeline([\n",
    "    ('vect', CountVectorizer(\n",
    "            analyzer = 'word',\n",
    "            tokenizer = tokenize,\n",
    "            lowercase = True,          \n",
    "            min_df = 10,\n",
    "            max_df = 0.5,\n",
    "            ngram_range=(1, 1),\n",
    "            max_features=500\n",
    "            )),\n",
    "    ('cls', DecisionTreeClassifier(criterion='gini',max_depth=12,\n",
    "             random_state=None                         \n",
    "             )),\n",
    "])"
   ]
  },
  {
   "cell_type": "code",
   "execution_count": 50,
   "metadata": {},
   "outputs": [],
   "source": [
    "pipeline.fit(EXIST2021_training_data_task2.Final_text,  EXIST2021_training_data_task2.task2)\n",
    "\n",
    "\n",
    "EXIST2021_test_labeled_data_task2['task2_predicted'] = pipeline.predict(EXIST2021_test_labeled_data_task2.Final_text)"
   ]
  },
  {
   "cell_type": "code",
   "execution_count": 52,
   "metadata": {},
   "outputs": [
    {
     "data": {
      "text/html": [
       "<div>\n",
       "<style scoped>\n",
       "    .dataframe tbody tr th:only-of-type {\n",
       "        vertical-align: middle;\n",
       "    }\n",
       "\n",
       "    .dataframe tbody tr th {\n",
       "        vertical-align: top;\n",
       "    }\n",
       "\n",
       "    .dataframe thead th {\n",
       "        text-align: right;\n",
       "    }\n",
       "</style>\n",
       "<table border=\"1\" class=\"dataframe\">\n",
       "  <thead>\n",
       "    <tr style=\"text-align: right;\">\n",
       "      <th></th>\n",
       "      <th>id</th>\n",
       "      <th>source</th>\n",
       "      <th>text</th>\n",
       "      <th>task2</th>\n",
       "      <th>Final_text</th>\n",
       "      <th>task2_predicted</th>\n",
       "    </tr>\n",
       "  </thead>\n",
       "  <tbody>\n",
       "    <tr>\n",
       "      <th>0</th>\n",
       "      <td>9186</td>\n",
       "      <td>gab</td>\n",
       "      <td>Y te golpeo más fuerte perra.</td>\n",
       "      <td>misogyny-non-sexual-violence</td>\n",
       "      <td>te golpeo más fuerte perra</td>\n",
       "      <td>misogyny-non-sexual-violence</td>\n",
       "    </tr>\n",
       "    <tr>\n",
       "      <th>2</th>\n",
       "      <td>9188</td>\n",
       "      <td>twitter</td>\n",
       "      <td>@MaricaIndomito jajajaj el me he topado con ta...</td>\n",
       "      <td>stereotyping-dominance</td>\n",
       "      <td>jajajaj el me he topado con tantos de la onda ...</td>\n",
       "      <td>misogyny-non-sexual-violence</td>\n",
       "    </tr>\n",
       "    <tr>\n",
       "      <th>4</th>\n",
       "      <td>9190</td>\n",
       "      <td>twitter</td>\n",
       "      <td>@EstefMolina_ Los que dicen que creen en la ig...</td>\n",
       "      <td>ideological-inequality</td>\n",
       "      <td>los que dicen que creen en la igualdad pero qu...</td>\n",
       "      <td>ideological-inequality</td>\n",
       "    </tr>\n",
       "    <tr>\n",
       "      <th>7</th>\n",
       "      <td>9193</td>\n",
       "      <td>twitter</td>\n",
       "      <td>por dios como no podes querer a mis gatas conc...</td>\n",
       "      <td>objectification</td>\n",
       "      <td>por dios como no podes querer mis gatas concha...</td>\n",
       "      <td>misogyny-non-sexual-violence</td>\n",
       "    </tr>\n",
       "    <tr>\n",
       "      <th>10</th>\n",
       "      <td>9196</td>\n",
       "      <td>twitter</td>\n",
       "      <td>Mujer al volante causa terror (Video) - https:...</td>\n",
       "      <td>stereotyping-dominance</td>\n",
       "      <td>mujer al volante causa terror video</td>\n",
       "      <td>stereotyping-dominance</td>\n",
       "    </tr>\n",
       "  </tbody>\n",
       "</table>\n",
       "</div>"
      ],
      "text/plain": [
       "      id   source                                               text  \\\n",
       "0   9186      gab                      Y te golpeo más fuerte perra.   \n",
       "2   9188  twitter  @MaricaIndomito jajajaj el me he topado con ta...   \n",
       "4   9190  twitter  @EstefMolina_ Los que dicen que creen en la ig...   \n",
       "7   9193  twitter  por dios como no podes querer a mis gatas conc...   \n",
       "10  9196  twitter  Mujer al volante causa terror (Video) - https:...   \n",
       "\n",
       "                           task2  \\\n",
       "0   misogyny-non-sexual-violence   \n",
       "2         stereotyping-dominance   \n",
       "4         ideological-inequality   \n",
       "7                objectification   \n",
       "10        stereotyping-dominance   \n",
       "\n",
       "                                           Final_text  \\\n",
       "0                          te golpeo más fuerte perra   \n",
       "2   jajajaj el me he topado con tantos de la onda ...   \n",
       "4   los que dicen que creen en la igualdad pero qu...   \n",
       "7   por dios como no podes querer mis gatas concha...   \n",
       "10                mujer al volante causa terror video   \n",
       "\n",
       "                 task2_predicted  \n",
       "0   misogyny-non-sexual-violence  \n",
       "2   misogyny-non-sexual-violence  \n",
       "4         ideological-inequality  \n",
       "7   misogyny-non-sexual-violence  \n",
       "10        stereotyping-dominance  "
      ]
     },
     "execution_count": 52,
     "metadata": {},
     "output_type": "execute_result"
    }
   ],
   "source": [
    "EXIST2021_test_labeled_data_task2.head()"
   ]
  },
  {
   "cell_type": "code",
   "execution_count": 53,
   "metadata": {},
   "outputs": [
    {
     "name": "stdout",
     "output_type": "stream",
     "text": [
      "Accuracy: 0.5084594835262689\n"
     ]
    }
   ],
   "source": [
    " print('Accuracy:',pipeline.score(EXIST2021_test_labeled_data_task2.Final_text, EXIST2021_test_labeled_data_task2.task2))"
   ]
  },
  {
   "cell_type": "code",
   "execution_count": 54,
   "metadata": {},
   "outputs": [
    {
     "name": "stdout",
     "output_type": "stream",
     "text": [
      "F1-score: 0.49155387341454926\n"
     ]
    }
   ],
   "source": [
    "print('F1-score:',f1_score(EXIST2021_test_labeled_data_task2.task2,EXIST2021_test_labeled_data_task2['task2_predicted'],average=\"macro\"))"
   ]
  },
  {
   "cell_type": "code",
   "execution_count": 55,
   "metadata": {},
   "outputs": [
    {
     "name": "stdout",
     "output_type": "stream",
     "text": [
      "                              precision    recall  f1-score   support\n",
      "\n",
      "      ideological-inequality       0.76      0.55      0.64       288\n",
      "misogyny-non-sexual-violence       0.34      0.81      0.48       257\n",
      "             objectification       0.70      0.18      0.29       174\n",
      "             sexual-violence       0.86      0.48      0.61       202\n",
      "      stereotyping-dominance       0.51      0.38      0.44       202\n",
      "\n",
      "                    accuracy                           0.51      1123\n",
      "                   macro avg       0.63      0.48      0.49      1123\n",
      "                weighted avg       0.63      0.51      0.51      1123\n",
      "\n"
     ]
    }
   ],
   "source": [
    "print(classification_report(EXIST2021_test_labeled_data_task2.task2,EXIST2021_test_labeled_data_task2['task2_predicted']))"
   ]
  },
  {
   "cell_type": "code",
   "execution_count": 56,
   "metadata": {},
   "outputs": [
    {
     "name": "stdout",
     "output_type": "stream",
     "text": [
      "[[158 106   0   6  18]\n",
      " [ 18 208   6   2  23]\n",
      " [  6 111  32   6  19]\n",
      " [ 22  65   4  96  15]\n",
      " [  5 115   4   1  77]]\n"
     ]
    }
   ],
   "source": [
    "cm = confusion_matrix(EXIST2021_test_labeled_data_task2.task2,EXIST2021_test_labeled_data_task2['task2_predicted'])\n",
    "print(cm)"
   ]
  },
  {
   "cell_type": "code",
   "execution_count": 57,
   "metadata": {},
   "outputs": [
    {
     "data": {
      "image/png": "[encoded data removed]",
      "text/plain": [
       "<Figure size 432x288 with 2 Axes>"
      ]
     },
     "metadata": {},
     "output_type": "display_data"
    }
   ],
   "source": [
    "ax = plt.subplot()\n",
    "df_cm = pd.DataFrame(cm, range(5))\n",
    "sns.set(font_scale=1.4)\n",
    "sns.heatmap(df_cm, annot=True, annot_kws={\"size\": 16},ax = ax,fmt=\".0f\")\n",
    "\n",
    "\n",
    "# labels, title and ticks\n",
    "plt.xticks(rotation=45, ha=\"right\")\n",
    "plt.yticks(rotation=45, ha=\"right\")\n",
    "ax.set_xlabel('Predicted labels');ax.set_ylabel('True labels'); \n",
    "ax.set_title('Confusion Matrix'); \n",
    "ax.xaxis.set_ticklabels(['ideological-inequality', 'misogyny-non-sexual-violence','objectification','sexual-violence','stereotyping-dominance']); \n",
    "ax.yaxis.set_ticklabels(['ideological-inequality', 'misogyny-non-sexual-violence','objectification','sexual-violence','stereotyping-dominance']);\n"
   ]
  },
  {
   "cell_type": "code",
   "execution_count": null,
   "metadata": {},
   "outputs": [],
   "source": [
    "grid_search.cv_results_ "
   ]
  },
  {
   "cell_type": "code",
   "execution_count": 58,
   "metadata": {},
   "outputs": [
    {
     "name": "stderr",
     "output_type": "stream",
     "text": [
      "C:\\ProgramData\\Anaconda3\\envs\\pec11\\lib\\site-packages\\sklearn\\svm\\_base.py:258: ConvergenceWarning: Solver terminated early (max_iter=1000).  Consider pre-processing your data with StandardScaler or MinMaxScaler.\n",
      "  % self.max_iter, ConvergenceWarning)\n"
     ]
    },
    {
     "data": {
      "text/plain": [
       "GridSearchCV(estimator=Pipeline(steps=[('vect',\n",
       "                                        CountVectorizer(tokenizer=<function tokenize at 0x0000000006902678>)),\n",
       "                                       ('cls', SVC())]),\n",
       "             n_jobs=-1,\n",
       "             param_grid={'cls__C': (0.1, 1, 10, 100),\n",
       "                         'cls__gamma': (1, 0.1, 0.01, 0.001),\n",
       "                         'cls__kernel': ('linear', 'poly', 'rbf', 'sigmoid'),\n",
       "                         'cls__max_iter': (500, 1000),\n",
       "                         'vect__max_df': (0.5, 1.9),\n",
       "                         'vect__max_features': (500, 1000),\n",
       "                         'vect__min_df': (10, 20, 50),\n",
       "                         'vect__ngram_range': ((1, 1), (1, 2))},\n",
       "             scoring='f1_macro')"
      ]
     },
     "execution_count": 58,
     "metadata": {},
     "output_type": "execute_result"
    }
   ],
   "source": [
    "vectorizer = CountVectorizer(\n",
    "                analyzer = 'word',\n",
    "                tokenizer = tokenize,\n",
    "                lowercase = True\n",
    "                )\n",
    "\n",
    "pipeline = Pipeline([\n",
    "    ('vect', vectorizer),\n",
    "    ('cls', SVC()),\n",
    "])\n",
    "\n",
    "\n",
    "\n",
    "parameters = {\n",
    "    'vect__max_df': (0.5, 1.9),\n",
    "    'vect__min_df': (10, 20,50),\n",
    "    'vect__max_features': (500, 1000),\n",
    "    'vect__ngram_range': ((1, 1), (1, 2)),  # unigrams or bigrams\n",
    "    'cls__kernel':('linear','poly','rbf','sigmoid'),\n",
    "    'cls__gamma': (1,0.1,0.01,0.001),\n",
    "    'cls__max_iter': (500, 1000),\n",
    "    'cls__C':(0.1,1, 10, 100),\n",
    "    \n",
    "}\n",
    "\n",
    "\n",
    "grid_search = GridSearchCV(pipeline, parameters, n_jobs=-1 , scoring='f1_macro')\n",
    "grid_search.fit(EXIST2021_training_data_task2.Final_text, EXIST2021_training_data_task2.task2)"
   ]
  },
  {
   "cell_type": "code",
   "execution_count": 59,
   "metadata": {},
   "outputs": [
    {
     "name": "stdout",
     "output_type": "stream",
     "text": [
      "0.5947005567955699\n",
      "{'cls__C': 10, 'cls__gamma': 0.01, 'cls__kernel': 'rbf', 'cls__max_iter': 1000, 'vect__max_df': 0.5, 'vect__max_features': 500, 'vect__min_df': 10, 'vect__ngram_range': (1, 2)}\n",
      "Pipeline(steps=[('vect',\n",
      "                 CountVectorizer(max_df=0.5, max_features=500, min_df=10,\n",
      "                                 ngram_range=(1, 2),\n",
      "                                 tokenizer=<function tokenize at 0x0000000006902678>)),\n",
      "                ('cls', SVC(C=10, gamma=0.01, max_iter=1000))])\n"
     ]
    }
   ],
   "source": [
    "print(grid_search.best_score_)\n",
    "print(grid_search.best_params_)\n",
    "print(grid_search.best_estimator_)"
   ]
  },
  {
   "cell_type": "code",
   "execution_count": 60,
   "metadata": {},
   "outputs": [],
   "source": [
    "model = SVC(C=10,max_iter=1000,gamma=0.01,kernel='rbf',random_state=None,tol=0.0001)\n",
    "\n",
    "vectorizer = CountVectorizer(\n",
    "    analyzer = 'word',\n",
    "    tokenizer = tokenize,\n",
    "    lowercase = True,   \n",
    "    min_df = 10,\n",
    "    max_df = 0.5,\n",
    "    ngram_range=(1, 2),\n",
    "    max_features=500\n",
    ")\n",
    "\n",
    "corpus_data_features = vectorizer.fit_transform(EXIST2021_training_data_task2.Final_text)\n",
    "corpus_data_features_nd = corpus_data_features.toarray()"
   ]
  },
  {
   "cell_type": "code",
   "execution_count": 61,
   "metadata": {},
   "outputs": [
    {
     "name": "stderr",
     "output_type": "stream",
     "text": [
      "C:\\ProgramData\\Anaconda3\\envs\\pec11\\lib\\site-packages\\sklearn\\svm\\_base.py:258: ConvergenceWarning: Solver terminated early (max_iter=1000).  Consider pre-processing your data with StandardScaler or MinMaxScaler.\n",
      "  % self.max_iter, ConvergenceWarning)\n",
      "C:\\ProgramData\\Anaconda3\\envs\\pec11\\lib\\site-packages\\sklearn\\svm\\_base.py:258: ConvergenceWarning: Solver terminated early (max_iter=1000).  Consider pre-processing your data with StandardScaler or MinMaxScaler.\n",
      "  % self.max_iter, ConvergenceWarning)\n",
      "C:\\ProgramData\\Anaconda3\\envs\\pec11\\lib\\site-packages\\sklearn\\svm\\_base.py:258: ConvergenceWarning: Solver terminated early (max_iter=1000).  Consider pre-processing your data with StandardScaler or MinMaxScaler.\n",
      "  % self.max_iter, ConvergenceWarning)\n",
      "C:\\ProgramData\\Anaconda3\\envs\\pec11\\lib\\site-packages\\sklearn\\svm\\_base.py:258: ConvergenceWarning: Solver terminated early (max_iter=1000).  Consider pre-processing your data with StandardScaler or MinMaxScaler.\n",
      "  % self.max_iter, ConvergenceWarning)\n",
      "C:\\ProgramData\\Anaconda3\\envs\\pec11\\lib\\site-packages\\sklearn\\svm\\_base.py:258: ConvergenceWarning: Solver terminated early (max_iter=1000).  Consider pre-processing your data with StandardScaler or MinMaxScaler.\n",
      "  % self.max_iter, ConvergenceWarning)\n",
      "C:\\ProgramData\\Anaconda3\\envs\\pec11\\lib\\site-packages\\sklearn\\svm\\_base.py:258: ConvergenceWarning: Solver terminated early (max_iter=1000).  Consider pre-processing your data with StandardScaler or MinMaxScaler.\n",
      "  % self.max_iter, ConvergenceWarning)\n",
      "C:\\ProgramData\\Anaconda3\\envs\\pec11\\lib\\site-packages\\sklearn\\svm\\_base.py:258: ConvergenceWarning: Solver terminated early (max_iter=1000).  Consider pre-processing your data with StandardScaler or MinMaxScaler.\n",
      "  % self.max_iter, ConvergenceWarning)\n",
      "C:\\ProgramData\\Anaconda3\\envs\\pec11\\lib\\site-packages\\sklearn\\svm\\_base.py:258: ConvergenceWarning: Solver terminated early (max_iter=1000).  Consider pre-processing your data with StandardScaler or MinMaxScaler.\n",
      "  % self.max_iter, ConvergenceWarning)\n",
      "C:\\ProgramData\\Anaconda3\\envs\\pec11\\lib\\site-packages\\sklearn\\svm\\_base.py:258: ConvergenceWarning: Solver terminated early (max_iter=1000).  Consider pre-processing your data with StandardScaler or MinMaxScaler.\n",
      "  % self.max_iter, ConvergenceWarning)\n",
      "C:\\ProgramData\\Anaconda3\\envs\\pec11\\lib\\site-packages\\sklearn\\svm\\_base.py:258: ConvergenceWarning: Solver terminated early (max_iter=1000).  Consider pre-processing your data with StandardScaler or MinMaxScaler.\n",
      "  % self.max_iter, ConvergenceWarning)\n"
     ]
    },
    {
     "data": {
      "text/plain": [
       "0.6135120767585704"
      ]
     },
     "execution_count": 61,
     "metadata": {},
     "output_type": "execute_result"
    }
   ],
   "source": [
    "scores = cross_val_score(\n",
    "    model,\n",
    "    corpus_data_features_nd[0:len(EXIST2021_training_data_task2)],\n",
    "    y=EXIST2021_training_data_task2.task2,\n",
    "    scoring='f1_macro',\n",
    "    cv=10\n",
    "    )\n",
    "\n",
    "scores.mean()"
   ]
  },
  {
   "cell_type": "code",
   "execution_count": 62,
   "metadata": {},
   "outputs": [],
   "source": [
    "pipeline = Pipeline([\n",
    "    ('vect', CountVectorizer(\n",
    "            analyzer = 'word',\n",
    "            tokenizer = tokenize,\n",
    "            lowercase = True,          \n",
    "            min_df = 10,\n",
    "            max_df = 0.5,\n",
    "            ngram_range=(1, 2),\n",
    "            max_features=500\n",
    "            )),\n",
    "    ('cls', SVC(C=10,max_iter=1000,gamma=0.01,kernel='rbf',random_state=None,tol=0.0001)),\n",
    "])"
   ]
  },
  {
   "cell_type": "code",
   "execution_count": 63,
   "metadata": {},
   "outputs": [
    {
     "name": "stderr",
     "output_type": "stream",
     "text": [
      "C:\\ProgramData\\Anaconda3\\envs\\pec11\\lib\\site-packages\\sklearn\\svm\\_base.py:258: ConvergenceWarning: Solver terminated early (max_iter=1000).  Consider pre-processing your data with StandardScaler or MinMaxScaler.\n",
      "  % self.max_iter, ConvergenceWarning)\n"
     ]
    }
   ],
   "source": [
    "pipeline.fit(EXIST2021_training_data_task2.Final_text,  EXIST2021_training_data_task2.task2)\n",
    "\n",
    "\n",
    "EXIST2021_test_labeled_data_task2['task2_predicted'] = pipeline.predict(EXIST2021_test_labeled_data_task2.Final_text)"
   ]
  },
  {
   "cell_type": "code",
   "execution_count": 64,
   "metadata": {},
   "outputs": [
    {
     "data": {
      "text/html": [
       "<div>\n",
       "<style scoped>\n",
       "    .dataframe tbody tr th:only-of-type {\n",
       "        vertical-align: middle;\n",
       "    }\n",
       "\n",
       "    .dataframe tbody tr th {\n",
       "        vertical-align: top;\n",
       "    }\n",
       "\n",
       "    .dataframe thead th {\n",
       "        text-align: right;\n",
       "    }\n",
       "</style>\n",
       "<table border=\"1\" class=\"dataframe\">\n",
       "  <thead>\n",
       "    <tr style=\"text-align: right;\">\n",
       "      <th></th>\n",
       "      <th>id</th>\n",
       "      <th>source</th>\n",
       "      <th>text</th>\n",
       "      <th>task2</th>\n",
       "      <th>Final_text</th>\n",
       "      <th>task2_predicted</th>\n",
       "    </tr>\n",
       "  </thead>\n",
       "  <tbody>\n",
       "    <tr>\n",
       "      <th>0</th>\n",
       "      <td>9186</td>\n",
       "      <td>gab</td>\n",
       "      <td>Y te golpeo más fuerte perra.</td>\n",
       "      <td>misogyny-non-sexual-violence</td>\n",
       "      <td>te golpeo más fuerte perra</td>\n",
       "      <td>misogyny-non-sexual-violence</td>\n",
       "    </tr>\n",
       "    <tr>\n",
       "      <th>2</th>\n",
       "      <td>9188</td>\n",
       "      <td>twitter</td>\n",
       "      <td>@MaricaIndomito jajajaj el me he topado con ta...</td>\n",
       "      <td>stereotyping-dominance</td>\n",
       "      <td>jajajaj el me he topado con tantos de la onda ...</td>\n",
       "      <td>ideological-inequality</td>\n",
       "    </tr>\n",
       "    <tr>\n",
       "      <th>4</th>\n",
       "      <td>9190</td>\n",
       "      <td>twitter</td>\n",
       "      <td>@EstefMolina_ Los que dicen que creen en la ig...</td>\n",
       "      <td>ideological-inequality</td>\n",
       "      <td>los que dicen que creen en la igualdad pero qu...</td>\n",
       "      <td>ideological-inequality</td>\n",
       "    </tr>\n",
       "    <tr>\n",
       "      <th>7</th>\n",
       "      <td>9193</td>\n",
       "      <td>twitter</td>\n",
       "      <td>por dios como no podes querer a mis gatas conc...</td>\n",
       "      <td>objectification</td>\n",
       "      <td>por dios como no podes querer mis gatas concha...</td>\n",
       "      <td>misogyny-non-sexual-violence</td>\n",
       "    </tr>\n",
       "    <tr>\n",
       "      <th>10</th>\n",
       "      <td>9196</td>\n",
       "      <td>twitter</td>\n",
       "      <td>Mujer al volante causa terror (Video) - https:...</td>\n",
       "      <td>stereotyping-dominance</td>\n",
       "      <td>mujer al volante causa terror video</td>\n",
       "      <td>stereotyping-dominance</td>\n",
       "    </tr>\n",
       "  </tbody>\n",
       "</table>\n",
       "</div>"
      ],
      "text/plain": [
       "      id   source                                               text  \\\n",
       "0   9186      gab                      Y te golpeo más fuerte perra.   \n",
       "2   9188  twitter  @MaricaIndomito jajajaj el me he topado con ta...   \n",
       "4   9190  twitter  @EstefMolina_ Los que dicen que creen en la ig...   \n",
       "7   9193  twitter  por dios como no podes querer a mis gatas conc...   \n",
       "10  9196  twitter  Mujer al volante causa terror (Video) - https:...   \n",
       "\n",
       "                           task2  \\\n",
       "0   misogyny-non-sexual-violence   \n",
       "2         stereotyping-dominance   \n",
       "4         ideological-inequality   \n",
       "7                objectification   \n",
       "10        stereotyping-dominance   \n",
       "\n",
       "                                           Final_text  \\\n",
       "0                          te golpeo más fuerte perra   \n",
       "2   jajajaj el me he topado con tantos de la onda ...   \n",
       "4   los que dicen que creen en la igualdad pero qu...   \n",
       "7   por dios como no podes querer mis gatas concha...   \n",
       "10                mujer al volante causa terror video   \n",
       "\n",
       "                 task2_predicted  \n",
       "0   misogyny-non-sexual-violence  \n",
       "2         ideological-inequality  \n",
       "4         ideological-inequality  \n",
       "7   misogyny-non-sexual-violence  \n",
       "10        stereotyping-dominance  "
      ]
     },
     "execution_count": 64,
     "metadata": {},
     "output_type": "execute_result"
    }
   ],
   "source": [
    "EXIST2021_test_labeled_data_task2.head()"
   ]
  },
  {
   "cell_type": "code",
   "execution_count": 65,
   "metadata": {},
   "outputs": [
    {
     "name": "stdout",
     "output_type": "stream",
     "text": [
      "Accuracy: 0.5966162065894924\n"
     ]
    }
   ],
   "source": [
    " print('Accuracy:',pipeline.score(EXIST2021_test_labeled_data_task2.Final_text, EXIST2021_test_labeled_data_task2.task2))"
   ]
  },
  {
   "cell_type": "code",
   "execution_count": 66,
   "metadata": {},
   "outputs": [
    {
     "name": "stdout",
     "output_type": "stream",
     "text": [
      "F1-score: 0.5864125725971073\n"
     ]
    }
   ],
   "source": [
    "print('F1-score:',f1_score(EXIST2021_test_labeled_data_task2.task2,EXIST2021_test_labeled_data_task2['task2_predicted'],average=\"macro\"))"
   ]
  },
  {
   "cell_type": "code",
   "execution_count": 67,
   "metadata": {},
   "outputs": [
    {
     "name": "stdout",
     "output_type": "stream",
     "text": [
      "                              precision    recall  f1-score   support\n",
      "\n",
      "      ideological-inequality       0.68      0.74      0.71       288\n",
      "misogyny-non-sexual-violence       0.50      0.60      0.55       257\n",
      "             objectification       0.59      0.40      0.47       174\n",
      "             sexual-violence       0.84      0.54      0.66       202\n",
      "      stereotyping-dominance       0.49      0.61      0.55       202\n",
      "\n",
      "                    accuracy                           0.60      1123\n",
      "                   macro avg       0.62      0.58      0.59      1123\n",
      "                weighted avg       0.62      0.60      0.60      1123\n",
      "\n"
     ]
    }
   ],
   "source": [
    "print(classification_report(EXIST2021_test_labeled_data_task2.task2,EXIST2021_test_labeled_data_task2['task2_predicted']))"
   ]
  },
  {
   "cell_type": "code",
   "execution_count": 68,
   "metadata": {},
   "outputs": [
    {
     "name": "stdout",
     "output_type": "stream",
     "text": [
      "[[213  34   1   8  32]\n",
      " [ 39 155  13   4  46]\n",
      " [ 15  51  69   6  33]\n",
      " [ 18  39  18 109  18]\n",
      " [ 30  30  16   2 124]]\n"
     ]
    }
   ],
   "source": [
    "cm = confusion_matrix(EXIST2021_test_labeled_data_task2.task2,EXIST2021_test_labeled_data_task2['task2_predicted'])\n",
    "print(cm)"
   ]
  },
  {
   "cell_type": "code",
   "execution_count": 69,
   "metadata": {},
   "outputs": [
    {
     "data": {
      "image/png": "[encoded data removed]",
      "text/plain": [
       "<Figure size 432x288 with 2 Axes>"
      ]
     },
     "metadata": {},
     "output_type": "display_data"
    }
   ],
   "source": [
    "ax = plt.subplot()\n",
    "df_cm = pd.DataFrame(cm, range(5))\n",
    "sns.set(font_scale=1.4)\n",
    "sns.heatmap(df_cm, annot=True, annot_kws={\"size\": 16},ax = ax,fmt=\".0f\")\n",
    "\n",
    "\n",
    "# labels, title and ticks\n",
    "plt.xticks(rotation=45, ha=\"right\")\n",
    "plt.yticks(rotation=45, ha=\"right\")\n",
    "ax.set_xlabel('Predicted labels');ax.set_ylabel('True labels'); \n",
    "ax.set_title('Confusion Matrix'); \n",
    "ax.xaxis.set_ticklabels(['ideological-inequality', 'misogyny-non-sexual-violence','objectification','sexual-violence','stereotyping-dominance']); \n",
    "ax.yaxis.set_ticklabels(['ideological-inequality', 'misogyny-non-sexual-violence','objectification','sexual-violence','stereotyping-dominance']);\n"
   ]
  },
  {
   "cell_type": "markdown",
   "metadata": {},
   "source": [
    "**Comentar que, en relación al ranking de EXISTS2021, nos hemos aproximado bastante al accuracy en TASK1 y hemos conseguido mejores resultados en el caso del F1 score para TASK2**\n",
    "\n",
    "**Indicar también que de forma general para TASK2, vemos que la categoría más problemática para identificar es la objetización y las menos problemáticas la misoginia sin violencia sexual y la ideológica-desigualdad**"
   ]
  },
  {
   "cell_type": "markdown",
   "metadata": {
    "id": "1aJFY7fthShR"
   },
   "source": [
    "# 2.  Topic Modelling con LDA\n"
   ]
  },
  {
   "cell_type": "markdown",
   "metadata": {},
   "source": [
    "**Lectura y concatenación de ficheros de training y test**"
   ]
  },
  {
   "cell_type": "code",
   "execution_count": 2,
   "metadata": {},
   "outputs": [
    {
     "data": {
      "text/html": [
       "<div>\n",
       "<style scoped>\n",
       "    .dataframe tbody tr th:only-of-type {\n",
       "        vertical-align: middle;\n",
       "    }\n",
       "\n",
       "    .dataframe tbody tr th {\n",
       "        vertical-align: top;\n",
       "    }\n",
       "\n",
       "    .dataframe thead th {\n",
       "        text-align: right;\n",
       "    }\n",
       "</style>\n",
       "<table border=\"1\" class=\"dataframe\">\n",
       "  <thead>\n",
       "    <tr style=\"text-align: right;\">\n",
       "      <th></th>\n",
       "      <th>id</th>\n",
       "      <th>source</th>\n",
       "      <th>text</th>\n",
       "      <th>task1</th>\n",
       "      <th>task2</th>\n",
       "    </tr>\n",
       "  </thead>\n",
       "  <tbody>\n",
       "    <tr>\n",
       "      <th>0</th>\n",
       "      <td>3437</td>\n",
       "      <td>twitter</td>\n",
       "      <td>Nadie te va a tratar tan bien como un hombre q...</td>\n",
       "      <td>sexist</td>\n",
       "      <td>sexual-violence</td>\n",
       "    </tr>\n",
       "    <tr>\n",
       "      <th>1</th>\n",
       "      <td>3438</td>\n",
       "      <td>twitter</td>\n",
       "      <td>@lindagisela74 Que rica putita obediente, afor...</td>\n",
       "      <td>sexist</td>\n",
       "      <td>stereotyping-dominance</td>\n",
       "    </tr>\n",
       "    <tr>\n",
       "      <th>2</th>\n",
       "      <td>3439</td>\n",
       "      <td>twitter</td>\n",
       "      <td>@BicireporteraDF Yo lo hice a los 18 años por ...</td>\n",
       "      <td>non-sexist</td>\n",
       "      <td>non-sexist</td>\n",
       "    </tr>\n",
       "    <tr>\n",
       "      <th>3</th>\n",
       "      <td>3440</td>\n",
       "      <td>twitter</td>\n",
       "      <td>las cosas q sueño son indicios de que yo enrea...</td>\n",
       "      <td>non-sexist</td>\n",
       "      <td>non-sexist</td>\n",
       "    </tr>\n",
       "    <tr>\n",
       "      <th>4</th>\n",
       "      <td>3441</td>\n",
       "      <td>twitter</td>\n",
       "      <td>Pero a la niña le gustó desde que lo vió, así ...</td>\n",
       "      <td>non-sexist</td>\n",
       "      <td>non-sexist</td>\n",
       "    </tr>\n",
       "  </tbody>\n",
       "</table>\n",
       "</div>"
      ],
      "text/plain": [
       "     id   source                                               text  \\\n",
       "0  3437  twitter  Nadie te va a tratar tan bien como un hombre q...   \n",
       "1  3438  twitter  @lindagisela74 Que rica putita obediente, afor...   \n",
       "2  3439  twitter  @BicireporteraDF Yo lo hice a los 18 años por ...   \n",
       "3  3440  twitter  las cosas q sueño son indicios de que yo enrea...   \n",
       "4  3441  twitter  Pero a la niña le gustó desde que lo vió, así ...   \n",
       "\n",
       "        task1                   task2  \n",
       "0      sexist         sexual-violence  \n",
       "1      sexist  stereotyping-dominance  \n",
       "2  non-sexist              non-sexist  \n",
       "3  non-sexist              non-sexist  \n",
       "4  non-sexist              non-sexist  "
      ]
     },
     "execution_count": 2,
     "metadata": {},
     "output_type": "execute_result"
    }
   ],
   "source": [
    "EXIST2021_training_data =  pd.read_csv('EXIST2021_training_es.csv',sep=';')\n",
    "EXIST2021_training_data.head()\n"
   ]
  },
  {
   "cell_type": "code",
   "execution_count": 3,
   "metadata": {},
   "outputs": [
    {
     "data": {
      "text/html": [
       "<div>\n",
       "<style scoped>\n",
       "    .dataframe tbody tr th:only-of-type {\n",
       "        vertical-align: middle;\n",
       "    }\n",
       "\n",
       "    .dataframe tbody tr th {\n",
       "        vertical-align: top;\n",
       "    }\n",
       "\n",
       "    .dataframe thead th {\n",
       "        text-align: right;\n",
       "    }\n",
       "</style>\n",
       "<table border=\"1\" class=\"dataframe\">\n",
       "  <thead>\n",
       "    <tr style=\"text-align: right;\">\n",
       "      <th></th>\n",
       "      <th>id</th>\n",
       "      <th>source</th>\n",
       "      <th>text</th>\n",
       "      <th>task1</th>\n",
       "      <th>task2</th>\n",
       "    </tr>\n",
       "  </thead>\n",
       "  <tbody>\n",
       "    <tr>\n",
       "      <th>0</th>\n",
       "      <td>9186</td>\n",
       "      <td>gab</td>\n",
       "      <td>Y te golpeo más fuerte perra.</td>\n",
       "      <td>sexist</td>\n",
       "      <td>misogyny-non-sexual-violence</td>\n",
       "    </tr>\n",
       "    <tr>\n",
       "      <th>1</th>\n",
       "      <td>9187</td>\n",
       "      <td>twitter</td>\n",
       "      <td>@wthxtme @GOLDENMXM Castigado tres meses sin s...</td>\n",
       "      <td>non-sexist</td>\n",
       "      <td>non-sexist</td>\n",
       "    </tr>\n",
       "    <tr>\n",
       "      <th>2</th>\n",
       "      <td>9188</td>\n",
       "      <td>twitter</td>\n",
       "      <td>@MaricaIndomito jajajaj el me he topado con ta...</td>\n",
       "      <td>sexist</td>\n",
       "      <td>stereotyping-dominance</td>\n",
       "    </tr>\n",
       "    <tr>\n",
       "      <th>3</th>\n",
       "      <td>9189</td>\n",
       "      <td>twitter</td>\n",
       "      <td>Resulta que hoy es el día de la juventud y no ...</td>\n",
       "      <td>non-sexist</td>\n",
       "      <td>non-sexist</td>\n",
       "    </tr>\n",
       "    <tr>\n",
       "      <th>4</th>\n",
       "      <td>9190</td>\n",
       "      <td>twitter</td>\n",
       "      <td>@EstefMolina_ Los que dicen que creen en la ig...</td>\n",
       "      <td>sexist</td>\n",
       "      <td>ideological-inequality</td>\n",
       "    </tr>\n",
       "  </tbody>\n",
       "</table>\n",
       "</div>"
      ],
      "text/plain": [
       "     id   source                                               text  \\\n",
       "0  9186      gab                      Y te golpeo más fuerte perra.   \n",
       "1  9187  twitter  @wthxtme @GOLDENMXM Castigado tres meses sin s...   \n",
       "2  9188  twitter  @MaricaIndomito jajajaj el me he topado con ta...   \n",
       "3  9189  twitter  Resulta que hoy es el día de la juventud y no ...   \n",
       "4  9190  twitter  @EstefMolina_ Los que dicen que creen en la ig...   \n",
       "\n",
       "        task1                         task2  \n",
       "0      sexist  misogyny-non-sexual-violence  \n",
       "1  non-sexist                    non-sexist  \n",
       "2      sexist        stereotyping-dominance  \n",
       "3  non-sexist                    non-sexist  \n",
       "4      sexist        ideological-inequality  "
      ]
     },
     "execution_count": 3,
     "metadata": {},
     "output_type": "execute_result"
    }
   ],
   "source": [
    "EXIST2021_test_labeled_data =  pd.read_csv('EXIST2021_test_labeled_es.csv',sep=';')\n",
    "EXIST2021_test_labeled_data.head()"
   ]
  },
  {
   "cell_type": "code",
   "execution_count": 4,
   "metadata": {},
   "outputs": [
    {
     "data": {
      "text/html": [
       "<div>\n",
       "<style scoped>\n",
       "    .dataframe tbody tr th:only-of-type {\n",
       "        vertical-align: middle;\n",
       "    }\n",
       "\n",
       "    .dataframe tbody tr th {\n",
       "        vertical-align: top;\n",
       "    }\n",
       "\n",
       "    .dataframe thead th {\n",
       "        text-align: right;\n",
       "    }\n",
       "</style>\n",
       "<table border=\"1\" class=\"dataframe\">\n",
       "  <thead>\n",
       "    <tr style=\"text-align: right;\">\n",
       "      <th></th>\n",
       "      <th>id</th>\n",
       "      <th>source</th>\n",
       "      <th>text</th>\n",
       "      <th>task1</th>\n",
       "    </tr>\n",
       "  </thead>\n",
       "  <tbody>\n",
       "    <tr>\n",
       "      <th>0</th>\n",
       "      <td>3437</td>\n",
       "      <td>twitter</td>\n",
       "      <td>Nadie te va a tratar tan bien como un hombre q...</td>\n",
       "      <td>sexist</td>\n",
       "    </tr>\n",
       "    <tr>\n",
       "      <th>1</th>\n",
       "      <td>3438</td>\n",
       "      <td>twitter</td>\n",
       "      <td>@lindagisela74 Que rica putita obediente, afor...</td>\n",
       "      <td>sexist</td>\n",
       "    </tr>\n",
       "    <tr>\n",
       "      <th>2</th>\n",
       "      <td>3439</td>\n",
       "      <td>twitter</td>\n",
       "      <td>@BicireporteraDF Yo lo hice a los 18 años por ...</td>\n",
       "      <td>non-sexist</td>\n",
       "    </tr>\n",
       "    <tr>\n",
       "      <th>3</th>\n",
       "      <td>3440</td>\n",
       "      <td>twitter</td>\n",
       "      <td>las cosas q sueño son indicios de que yo enrea...</td>\n",
       "      <td>non-sexist</td>\n",
       "    </tr>\n",
       "    <tr>\n",
       "      <th>4</th>\n",
       "      <td>3441</td>\n",
       "      <td>twitter</td>\n",
       "      <td>Pero a la niña le gustó desde que lo vió, así ...</td>\n",
       "      <td>non-sexist</td>\n",
       "    </tr>\n",
       "  </tbody>\n",
       "</table>\n",
       "</div>"
      ],
      "text/plain": [
       "     id   source                                               text  \\\n",
       "0  3437  twitter  Nadie te va a tratar tan bien como un hombre q...   \n",
       "1  3438  twitter  @lindagisela74 Que rica putita obediente, afor...   \n",
       "2  3439  twitter  @BicireporteraDF Yo lo hice a los 18 años por ...   \n",
       "3  3440  twitter  las cosas q sueño son indicios de que yo enrea...   \n",
       "4  3441  twitter  Pero a la niña le gustó desde que lo vió, así ...   \n",
       "\n",
       "        task1  \n",
       "0      sexist  \n",
       "1      sexist  \n",
       "2  non-sexist  \n",
       "3  non-sexist  \n",
       "4  non-sexist  "
      ]
     },
     "execution_count": 4,
     "metadata": {},
     "output_type": "execute_result"
    }
   ],
   "source": [
    "EXIST2021_training_data_task1 = EXIST2021_training_data.iloc[:,0:4]\n",
    "EXIST2021_training_data_task1.head()"
   ]
  },
  {
   "cell_type": "code",
   "execution_count": 5,
   "metadata": {},
   "outputs": [
    {
     "data": {
      "text/html": [
       "<div>\n",
       "<style scoped>\n",
       "    .dataframe tbody tr th:only-of-type {\n",
       "        vertical-align: middle;\n",
       "    }\n",
       "\n",
       "    .dataframe tbody tr th {\n",
       "        vertical-align: top;\n",
       "    }\n",
       "\n",
       "    .dataframe thead th {\n",
       "        text-align: right;\n",
       "    }\n",
       "</style>\n",
       "<table border=\"1\" class=\"dataframe\">\n",
       "  <thead>\n",
       "    <tr style=\"text-align: right;\">\n",
       "      <th></th>\n",
       "      <th>id</th>\n",
       "      <th>source</th>\n",
       "      <th>text</th>\n",
       "      <th>task1</th>\n",
       "    </tr>\n",
       "  </thead>\n",
       "  <tbody>\n",
       "    <tr>\n",
       "      <th>0</th>\n",
       "      <td>9186</td>\n",
       "      <td>gab</td>\n",
       "      <td>Y te golpeo más fuerte perra.</td>\n",
       "      <td>sexist</td>\n",
       "    </tr>\n",
       "    <tr>\n",
       "      <th>1</th>\n",
       "      <td>9187</td>\n",
       "      <td>twitter</td>\n",
       "      <td>@wthxtme @GOLDENMXM Castigado tres meses sin s...</td>\n",
       "      <td>non-sexist</td>\n",
       "    </tr>\n",
       "    <tr>\n",
       "      <th>2</th>\n",
       "      <td>9188</td>\n",
       "      <td>twitter</td>\n",
       "      <td>@MaricaIndomito jajajaj el me he topado con ta...</td>\n",
       "      <td>sexist</td>\n",
       "    </tr>\n",
       "    <tr>\n",
       "      <th>3</th>\n",
       "      <td>9189</td>\n",
       "      <td>twitter</td>\n",
       "      <td>Resulta que hoy es el día de la juventud y no ...</td>\n",
       "      <td>non-sexist</td>\n",
       "    </tr>\n",
       "    <tr>\n",
       "      <th>4</th>\n",
       "      <td>9190</td>\n",
       "      <td>twitter</td>\n",
       "      <td>@EstefMolina_ Los que dicen que creen en la ig...</td>\n",
       "      <td>sexist</td>\n",
       "    </tr>\n",
       "  </tbody>\n",
       "</table>\n",
       "</div>"
      ],
      "text/plain": [
       "     id   source                                               text  \\\n",
       "0  9186      gab                      Y te golpeo más fuerte perra.   \n",
       "1  9187  twitter  @wthxtme @GOLDENMXM Castigado tres meses sin s...   \n",
       "2  9188  twitter  @MaricaIndomito jajajaj el me he topado con ta...   \n",
       "3  9189  twitter  Resulta que hoy es el día de la juventud y no ...   \n",
       "4  9190  twitter  @EstefMolina_ Los que dicen que creen en la ig...   \n",
       "\n",
       "        task1  \n",
       "0      sexist  \n",
       "1  non-sexist  \n",
       "2      sexist  \n",
       "3  non-sexist  \n",
       "4      sexist  "
      ]
     },
     "execution_count": 5,
     "metadata": {},
     "output_type": "execute_result"
    }
   ],
   "source": [
    "EXIST2021_test_labeled_data_task1 = EXIST2021_test_labeled_data.iloc[:,0:4]\n",
    "EXIST2021_test_labeled_data_task1.head()\n"
   ]
  },
  {
   "cell_type": "code",
   "execution_count": 6,
   "metadata": {},
   "outputs": [
    {
     "data": {
      "text/html": [
       "<div>\n",
       "<style scoped>\n",
       "    .dataframe tbody tr th:only-of-type {\n",
       "        vertical-align: middle;\n",
       "    }\n",
       "\n",
       "    .dataframe tbody tr th {\n",
       "        vertical-align: top;\n",
       "    }\n",
       "\n",
       "    .dataframe thead th {\n",
       "        text-align: right;\n",
       "    }\n",
       "</style>\n",
       "<table border=\"1\" class=\"dataframe\">\n",
       "  <thead>\n",
       "    <tr style=\"text-align: right;\">\n",
       "      <th></th>\n",
       "      <th>id</th>\n",
       "      <th>source</th>\n",
       "      <th>text</th>\n",
       "      <th>task1</th>\n",
       "    </tr>\n",
       "  </thead>\n",
       "  <tbody>\n",
       "    <tr>\n",
       "      <th>0</th>\n",
       "      <td>3437</td>\n",
       "      <td>twitter</td>\n",
       "      <td>Nadie te va a tratar tan bien como un hombre q...</td>\n",
       "      <td>sexist</td>\n",
       "    </tr>\n",
       "    <tr>\n",
       "      <th>1</th>\n",
       "      <td>3438</td>\n",
       "      <td>twitter</td>\n",
       "      <td>@lindagisela74 Que rica putita obediente, afor...</td>\n",
       "      <td>sexist</td>\n",
       "    </tr>\n",
       "    <tr>\n",
       "      <th>2</th>\n",
       "      <td>3439</td>\n",
       "      <td>twitter</td>\n",
       "      <td>@BicireporteraDF Yo lo hice a los 18 años por ...</td>\n",
       "      <td>non-sexist</td>\n",
       "    </tr>\n",
       "    <tr>\n",
       "      <th>3</th>\n",
       "      <td>3440</td>\n",
       "      <td>twitter</td>\n",
       "      <td>las cosas q sueño son indicios de que yo enrea...</td>\n",
       "      <td>non-sexist</td>\n",
       "    </tr>\n",
       "    <tr>\n",
       "      <th>4</th>\n",
       "      <td>3441</td>\n",
       "      <td>twitter</td>\n",
       "      <td>Pero a la niña le gustó desde que lo vió, así ...</td>\n",
       "      <td>non-sexist</td>\n",
       "    </tr>\n",
       "  </tbody>\n",
       "</table>\n",
       "</div>"
      ],
      "text/plain": [
       "     id   source                                               text  \\\n",
       "0  3437  twitter  Nadie te va a tratar tan bien como un hombre q...   \n",
       "1  3438  twitter  @lindagisela74 Que rica putita obediente, afor...   \n",
       "2  3439  twitter  @BicireporteraDF Yo lo hice a los 18 años por ...   \n",
       "3  3440  twitter  las cosas q sueño son indicios de que yo enrea...   \n",
       "4  3441  twitter  Pero a la niña le gustó desde que lo vió, así ...   \n",
       "\n",
       "        task1  \n",
       "0      sexist  \n",
       "1      sexist  \n",
       "2  non-sexist  \n",
       "3  non-sexist  \n",
       "4  non-sexist  "
      ]
     },
     "execution_count": 6,
     "metadata": {},
     "output_type": "execute_result"
    }
   ],
   "source": [
    "EXIST2021_all_text = pd.DataFrame()\n",
    "EXIST2021_all_text = pd.concat([EXIST2021_training_data_task1,EXIST2021_test_labeled_data_task1],ignore_index=True)\n",
    "EXIST2021_all_text.head()"
   ]
  },
  {
   "cell_type": "code",
   "execution_count": 7,
   "metadata": {},
   "outputs": [],
   "source": [
    "# Functions the mentioned text cleaning steps\n",
    "def lowercase_text(sentence):\n",
    "    return sentence.lower()\n",
    "\n",
    "def remove_usernames(sentence):\n",
    "    sentence = re.sub(r'@\\w+',' ', sentence)\n",
    "    return sentence\n",
    "\n",
    "def remove_hashtags(sentence):\n",
    "    sentence = re.sub(r\"#\\w+\",' ', sentence)\n",
    "    return sentence\n",
    "\n",
    "def remove_links(sentence):\n",
    "    sentence = re.sub(r'\\bhttps?://[^\\s]*',' ', sentence)\n",
    "    return sentence\n",
    "\n",
    "def remove_numbers(sentence):\n",
    "    sentence = re.sub(r'\\d+',' ', sentence)\n",
    "    return sentence\n",
    "\n",
    "def remove_punctuation_and_spaces(sentence):\n",
    "    sentence = re.sub(r'&', ' ', sentence) # Specific for &\n",
    "    sentence = re.sub(r'[^\\w\\s]',' ', sentence)\n",
    "    sentence = ' '.join(sentence.split())\n",
    "    return sentence\n",
    "\n",
    "def remove_1letter_words(sentence):\n",
    "    sentence = re.sub(r'\\b\\w{1}\\b', ' ', sentence)\n",
    "    return sentence\n",
    "\n",
    "def tokenize_clean(sentence):\n",
    "    list_of_words = sentence.split(\" \")\n",
    "    return list_of_words"
   ]
  },
  {
   "cell_type": "code",
   "execution_count": 8,
   "metadata": {},
   "outputs": [],
   "source": [
    "# Function to apply all text tranformations\n",
    "def text_cleaning(df):\n",
    "   \n",
    "    lists_of_text = []\n",
    "\n",
    "    for text in df['text']:\n",
    "        sentence = str(text)\n",
    "\n",
    "        # Text transformations\n",
    "        sentence = lowercase_text(sentence) # All in lowercase\n",
    "        sentence = remove_links(sentence) # Remove links\n",
    "        sentence = remove_hashtags(sentence) # Remove Hashtags\n",
    "        sentence = remove_usernames(sentence) # Remove usernames\n",
    "        sentence = remove_numbers(sentence) # Remove numbers\n",
    "        sentence = remove_punctuation_and_spaces(sentence) # Remove punctuation signs and multiple spaces\n",
    "        sentence = remove_1letter_words(sentence) # Remove words with len=1\n",
    "        sentence = remove_punctuation_and_spaces(sentence)\n",
    "        \n",
    "        list_of_words = tokenize_clean(sentence) # Tokenization     \n",
    "        \n",
    "        # Converting list of words to text again\n",
    "        lists_of_text.append(' '.join(list_of_words))\n",
    "\n",
    "    return lists_of_text"
   ]
  },
  {
   "cell_type": "markdown",
   "metadata": {},
   "source": [
    "**Limpieza del texto**"
   ]
  },
  {
   "cell_type": "code",
   "execution_count": 9,
   "metadata": {},
   "outputs": [
    {
     "data": {
      "text/plain": [
       "0    nadie te va tratar tan bien como un hombre que...\n",
       "1    que rica putita obediente afortunado tu marido...\n",
       "2    yo lo hice los años por la carretera libre ver...\n",
       "3    las cosas sueño son indicios de que yo enreali...\n",
       "4    pero la niña le gustó desde que lo vió así que...\n",
       "Name: Final_text, dtype: object"
      ]
     },
     "execution_count": 9,
     "metadata": {},
     "output_type": "execute_result"
    }
   ],
   "source": [
    "EXIST2021_all_text['Final_text'] = text_cleaning(EXIST2021_all_text)\n",
    "EXIST2021_all_text['Final_text'].head()"
   ]
  },
  {
   "cell_type": "markdown",
   "metadata": {},
   "source": [
    "**Tokenización**"
   ]
  },
  {
   "cell_type": "code",
   "execution_count": 10,
   "metadata": {},
   "outputs": [
    {
     "data": {
      "text/html": [
       "<div>\n",
       "<style scoped>\n",
       "    .dataframe tbody tr th:only-of-type {\n",
       "        vertical-align: middle;\n",
       "    }\n",
       "\n",
       "    .dataframe tbody tr th {\n",
       "        vertical-align: top;\n",
       "    }\n",
       "\n",
       "    .dataframe thead th {\n",
       "        text-align: right;\n",
       "    }\n",
       "</style>\n",
       "<table border=\"1\" class=\"dataframe\">\n",
       "  <thead>\n",
       "    <tr style=\"text-align: right;\">\n",
       "      <th></th>\n",
       "      <th>id</th>\n",
       "      <th>source</th>\n",
       "      <th>text</th>\n",
       "      <th>task1</th>\n",
       "      <th>Final_text</th>\n",
       "      <th>Tokens</th>\n",
       "    </tr>\n",
       "  </thead>\n",
       "  <tbody>\n",
       "    <tr>\n",
       "      <th>0</th>\n",
       "      <td>3437</td>\n",
       "      <td>twitter</td>\n",
       "      <td>Nadie te va a tratar tan bien como un hombre q...</td>\n",
       "      <td>sexist</td>\n",
       "      <td>nadie te va tratar tan bien como un hombre que...</td>\n",
       "      <td>[nadie, te, va, tratar, tan, bien, como, un, h...</td>\n",
       "    </tr>\n",
       "    <tr>\n",
       "      <th>1</th>\n",
       "      <td>3438</td>\n",
       "      <td>twitter</td>\n",
       "      <td>@lindagisela74 Que rica putita obediente, afor...</td>\n",
       "      <td>sexist</td>\n",
       "      <td>que rica putita obediente afortunado tu marido...</td>\n",
       "      <td>[que, rica, putita, obediente, afortunado, tu,...</td>\n",
       "    </tr>\n",
       "    <tr>\n",
       "      <th>2</th>\n",
       "      <td>3439</td>\n",
       "      <td>twitter</td>\n",
       "      <td>@BicireporteraDF Yo lo hice a los 18 años por ...</td>\n",
       "      <td>non-sexist</td>\n",
       "      <td>yo lo hice los años por la carretera libre ver...</td>\n",
       "      <td>[yo, lo, hice, los, años, por, la, carretera, ...</td>\n",
       "    </tr>\n",
       "    <tr>\n",
       "      <th>3</th>\n",
       "      <td>3440</td>\n",
       "      <td>twitter</td>\n",
       "      <td>las cosas q sueño son indicios de que yo enrea...</td>\n",
       "      <td>non-sexist</td>\n",
       "      <td>las cosas sueño son indicios de que yo enreali...</td>\n",
       "      <td>[las, cosas, sueño, son, indicios, de, que, yo...</td>\n",
       "    </tr>\n",
       "    <tr>\n",
       "      <th>4</th>\n",
       "      <td>3441</td>\n",
       "      <td>twitter</td>\n",
       "      <td>Pero a la niña le gustó desde que lo vió, así ...</td>\n",
       "      <td>non-sexist</td>\n",
       "      <td>pero la niña le gustó desde que lo vió así que...</td>\n",
       "      <td>[pero, la, niña, le, gustó, desde, que, lo, vi...</td>\n",
       "    </tr>\n",
       "  </tbody>\n",
       "</table>\n",
       "</div>"
      ],
      "text/plain": [
       "     id   source                                               text  \\\n",
       "0  3437  twitter  Nadie te va a tratar tan bien como un hombre q...   \n",
       "1  3438  twitter  @lindagisela74 Que rica putita obediente, afor...   \n",
       "2  3439  twitter  @BicireporteraDF Yo lo hice a los 18 años por ...   \n",
       "3  3440  twitter  las cosas q sueño son indicios de que yo enrea...   \n",
       "4  3441  twitter  Pero a la niña le gustó desde que lo vió, así ...   \n",
       "\n",
       "        task1                                         Final_text  \\\n",
       "0      sexist  nadie te va tratar tan bien como un hombre que...   \n",
       "1      sexist  que rica putita obediente afortunado tu marido...   \n",
       "2  non-sexist  yo lo hice los años por la carretera libre ver...   \n",
       "3  non-sexist  las cosas sueño son indicios de que yo enreali...   \n",
       "4  non-sexist  pero la niña le gustó desde que lo vió así que...   \n",
       "\n",
       "                                              Tokens  \n",
       "0  [nadie, te, va, tratar, tan, bien, como, un, h...  \n",
       "1  [que, rica, putita, obediente, afortunado, tu,...  \n",
       "2  [yo, lo, hice, los, años, por, la, carretera, ...  \n",
       "3  [las, cosas, sueño, son, indicios, de, que, yo...  \n",
       "4  [pero, la, niña, le, gustó, desde, que, lo, vi...  "
      ]
     },
     "execution_count": 10,
     "metadata": {},
     "output_type": "execute_result"
    }
   ],
   "source": [
    "tokenizer = ToktokTokenizer() \n",
    "\n",
    "EXIST2021_all_text['Tokens'] = EXIST2021_all_text.Final_text.apply(tokenizer.tokenize)\n",
    "EXIST2021_all_text.head()"
   ]
  },
  {
   "cell_type": "markdown",
   "metadata": {},
   "source": [
    "**Filtrado de stopwords y dígitos**"
   ]
  },
  {
   "cell_type": "code",
   "execution_count": 11,
   "metadata": {},
   "outputs": [],
   "source": [
    "STOPWORDS = set(stopwords.words(\"spanish\"))\n",
    "\n",
    "def filtrar_stopword_digitos(tokens):\n",
    "    \"\"\"\n",
    "    Filtra stopwords y digitos de una lista de tokens.\n",
    "    \"\"\"\n",
    "    return [token for token in tokens if token not in STOPWORDS \n",
    "            and not token.isdigit()]\n",
    "\n"
   ]
  },
  {
   "cell_type": "code",
   "execution_count": 12,
   "metadata": {},
   "outputs": [
    {
     "data": {
      "text/html": [
       "<div>\n",
       "<style scoped>\n",
       "    .dataframe tbody tr th:only-of-type {\n",
       "        vertical-align: middle;\n",
       "    }\n",
       "\n",
       "    .dataframe tbody tr th {\n",
       "        vertical-align: top;\n",
       "    }\n",
       "\n",
       "    .dataframe thead th {\n",
       "        text-align: right;\n",
       "    }\n",
       "</style>\n",
       "<table border=\"1\" class=\"dataframe\">\n",
       "  <thead>\n",
       "    <tr style=\"text-align: right;\">\n",
       "      <th></th>\n",
       "      <th>id</th>\n",
       "      <th>source</th>\n",
       "      <th>text</th>\n",
       "      <th>task1</th>\n",
       "      <th>Final_text</th>\n",
       "      <th>Tokens</th>\n",
       "    </tr>\n",
       "  </thead>\n",
       "  <tbody>\n",
       "    <tr>\n",
       "      <th>0</th>\n",
       "      <td>3437</td>\n",
       "      <td>twitter</td>\n",
       "      <td>Nadie te va a tratar tan bien como un hombre q...</td>\n",
       "      <td>sexist</td>\n",
       "      <td>nadie te va tratar tan bien como un hombre que...</td>\n",
       "      <td>[nadie, va, tratar, tan, bien, hombre, quiere,...</td>\n",
       "    </tr>\n",
       "    <tr>\n",
       "      <th>1</th>\n",
       "      <td>3438</td>\n",
       "      <td>twitter</td>\n",
       "      <td>@lindagisela74 Que rica putita obediente, afor...</td>\n",
       "      <td>sexist</td>\n",
       "      <td>que rica putita obediente afortunado tu marido...</td>\n",
       "      <td>[rica, putita, obediente, afortunado, marido, ...</td>\n",
       "    </tr>\n",
       "    <tr>\n",
       "      <th>2</th>\n",
       "      <td>3439</td>\n",
       "      <td>twitter</td>\n",
       "      <td>@BicireporteraDF Yo lo hice a los 18 años por ...</td>\n",
       "      <td>non-sexist</td>\n",
       "      <td>yo lo hice los años por la carretera libre ver...</td>\n",
       "      <td>[hice, años, carretera, libre, veracruz, ahora...</td>\n",
       "    </tr>\n",
       "    <tr>\n",
       "      <th>3</th>\n",
       "      <td>3440</td>\n",
       "      <td>twitter</td>\n",
       "      <td>las cosas q sueño son indicios de que yo enrea...</td>\n",
       "      <td>non-sexist</td>\n",
       "      <td>las cosas sueño son indicios de que yo enreali...</td>\n",
       "      <td>[cosas, sueño, indicios, enrealidad, lesbiana,...</td>\n",
       "    </tr>\n",
       "    <tr>\n",
       "      <th>4</th>\n",
       "      <td>3441</td>\n",
       "      <td>twitter</td>\n",
       "      <td>Pero a la niña le gustó desde que lo vió, así ...</td>\n",
       "      <td>non-sexist</td>\n",
       "      <td>pero la niña le gustó desde que lo vió así que...</td>\n",
       "      <td>[niña, gustó, vió, así, dije, hola, bien, día,...</td>\n",
       "    </tr>\n",
       "  </tbody>\n",
       "</table>\n",
       "</div>"
      ],
      "text/plain": [
       "     id   source                                               text  \\\n",
       "0  3437  twitter  Nadie te va a tratar tan bien como un hombre q...   \n",
       "1  3438  twitter  @lindagisela74 Que rica putita obediente, afor...   \n",
       "2  3439  twitter  @BicireporteraDF Yo lo hice a los 18 años por ...   \n",
       "3  3440  twitter  las cosas q sueño son indicios de que yo enrea...   \n",
       "4  3441  twitter  Pero a la niña le gustó desde que lo vió, así ...   \n",
       "\n",
       "        task1                                         Final_text  \\\n",
       "0      sexist  nadie te va tratar tan bien como un hombre que...   \n",
       "1      sexist  que rica putita obediente afortunado tu marido...   \n",
       "2  non-sexist  yo lo hice los años por la carretera libre ver...   \n",
       "3  non-sexist  las cosas sueño son indicios de que yo enreali...   \n",
       "4  non-sexist  pero la niña le gustó desde que lo vió así que...   \n",
       "\n",
       "                                              Tokens  \n",
       "0  [nadie, va, tratar, tan, bien, hombre, quiere,...  \n",
       "1  [rica, putita, obediente, afortunado, marido, ...  \n",
       "2  [hice, años, carretera, libre, veracruz, ahora...  \n",
       "3  [cosas, sueño, indicios, enrealidad, lesbiana,...  \n",
       "4  [niña, gustó, vió, así, dije, hola, bien, día,...  "
      ]
     },
     "execution_count": 12,
     "metadata": {},
     "output_type": "execute_result"
    }
   ],
   "source": [
    "EXIST2021_all_text[\"Tokens\"] = EXIST2021_all_text.Tokens.apply(filtrar_stopword_digitos)\n",
    "EXIST2021_all_text.head()"
   ]
  },
  {
   "cell_type": "markdown",
   "metadata": {},
   "source": [
    "**Proceso de stemming: Reducción de cada palabra a su raíz**\n",
    "\n",
    "**Se utiliza el algoritmo de Porter incluído en la librería NLTK**"
   ]
  },
  {
   "cell_type": "code",
   "execution_count": 13,
   "metadata": {},
   "outputs": [],
   "source": [
    "stemmer = SnowballStemmer(\"spanish\")\n",
    "\n",
    "def stem_palabras(tokens):\n",
    "    \"\"\"\n",
    "    Reduce cada palabra de una lista dada a su raíz.\n",
    "    \"\"\"\n",
    "    return [stemmer.stem(token) for token in tokens]\n",
    "\n"
   ]
  },
  {
   "cell_type": "code",
   "execution_count": 14,
   "metadata": {},
   "outputs": [
    {
     "data": {
      "text/html": [
       "<div>\n",
       "<style scoped>\n",
       "    .dataframe tbody tr th:only-of-type {\n",
       "        vertical-align: middle;\n",
       "    }\n",
       "\n",
       "    .dataframe tbody tr th {\n",
       "        vertical-align: top;\n",
       "    }\n",
       "\n",
       "    .dataframe thead th {\n",
       "        text-align: right;\n",
       "    }\n",
       "</style>\n",
       "<table border=\"1\" class=\"dataframe\">\n",
       "  <thead>\n",
       "    <tr style=\"text-align: right;\">\n",
       "      <th></th>\n",
       "      <th>id</th>\n",
       "      <th>source</th>\n",
       "      <th>text</th>\n",
       "      <th>task1</th>\n",
       "      <th>Final_text</th>\n",
       "      <th>Tokens</th>\n",
       "      <th>Stemmed</th>\n",
       "    </tr>\n",
       "  </thead>\n",
       "  <tbody>\n",
       "    <tr>\n",
       "      <th>0</th>\n",
       "      <td>3437</td>\n",
       "      <td>twitter</td>\n",
       "      <td>Nadie te va a tratar tan bien como un hombre q...</td>\n",
       "      <td>sexist</td>\n",
       "      <td>nadie te va tratar tan bien como un hombre que...</td>\n",
       "      <td>[nadie, va, tratar, tan, bien, hombre, quiere,...</td>\n",
       "      <td>[nadi, va, trat, tan, bien, hombr, quier, met,...</td>\n",
       "    </tr>\n",
       "    <tr>\n",
       "      <th>1</th>\n",
       "      <td>3438</td>\n",
       "      <td>twitter</td>\n",
       "      <td>@lindagisela74 Que rica putita obediente, afor...</td>\n",
       "      <td>sexist</td>\n",
       "      <td>que rica putita obediente afortunado tu marido...</td>\n",
       "      <td>[rica, putita, obediente, afortunado, marido, ...</td>\n",
       "      <td>[ric, putit, obedient, afortun, mar, ten, muj,...</td>\n",
       "    </tr>\n",
       "    <tr>\n",
       "      <th>2</th>\n",
       "      <td>3439</td>\n",
       "      <td>twitter</td>\n",
       "      <td>@BicireporteraDF Yo lo hice a los 18 años por ...</td>\n",
       "      <td>non-sexist</td>\n",
       "      <td>yo lo hice los años por la carretera libre ver...</td>\n",
       "      <td>[hice, años, carretera, libre, veracruz, ahora...</td>\n",
       "      <td>[hic, años, carreter, libr, veracruz, ahor, ca...</td>\n",
       "    </tr>\n",
       "    <tr>\n",
       "      <th>3</th>\n",
       "      <td>3440</td>\n",
       "      <td>twitter</td>\n",
       "      <td>las cosas q sueño son indicios de que yo enrea...</td>\n",
       "      <td>non-sexist</td>\n",
       "      <td>las cosas sueño son indicios de que yo enreali...</td>\n",
       "      <td>[cosas, sueño, indicios, enrealidad, lesbiana,...</td>\n",
       "      <td>[cos, sueñ, indici, enreal, lesbian, reprim, n...</td>\n",
       "    </tr>\n",
       "    <tr>\n",
       "      <th>4</th>\n",
       "      <td>3441</td>\n",
       "      <td>twitter</td>\n",
       "      <td>Pero a la niña le gustó desde que lo vió, así ...</td>\n",
       "      <td>non-sexist</td>\n",
       "      <td>pero la niña le gustó desde que lo vió así que...</td>\n",
       "      <td>[niña, gustó, vió, así, dije, hola, bien, día,...</td>\n",
       "      <td>[niñ, gust, vio, asi, dij, hol, bien, dia, sol...</td>\n",
       "    </tr>\n",
       "  </tbody>\n",
       "</table>\n",
       "</div>"
      ],
      "text/plain": [
       "     id   source                                               text  \\\n",
       "0  3437  twitter  Nadie te va a tratar tan bien como un hombre q...   \n",
       "1  3438  twitter  @lindagisela74 Que rica putita obediente, afor...   \n",
       "2  3439  twitter  @BicireporteraDF Yo lo hice a los 18 años por ...   \n",
       "3  3440  twitter  las cosas q sueño son indicios de que yo enrea...   \n",
       "4  3441  twitter  Pero a la niña le gustó desde que lo vió, así ...   \n",
       "\n",
       "        task1                                         Final_text  \\\n",
       "0      sexist  nadie te va tratar tan bien como un hombre que...   \n",
       "1      sexist  que rica putita obediente afortunado tu marido...   \n",
       "2  non-sexist  yo lo hice los años por la carretera libre ver...   \n",
       "3  non-sexist  las cosas sueño son indicios de que yo enreali...   \n",
       "4  non-sexist  pero la niña le gustó desde que lo vió así que...   \n",
       "\n",
       "                                              Tokens  \\\n",
       "0  [nadie, va, tratar, tan, bien, hombre, quiere,...   \n",
       "1  [rica, putita, obediente, afortunado, marido, ...   \n",
       "2  [hice, años, carretera, libre, veracruz, ahora...   \n",
       "3  [cosas, sueño, indicios, enrealidad, lesbiana,...   \n",
       "4  [niña, gustó, vió, así, dije, hola, bien, día,...   \n",
       "\n",
       "                                             Stemmed  \n",
       "0  [nadi, va, trat, tan, bien, hombr, quier, met,...  \n",
       "1  [ric, putit, obedient, afortun, mar, ten, muj,...  \n",
       "2  [hic, años, carreter, libr, veracruz, ahor, ca...  \n",
       "3  [cos, sueñ, indici, enreal, lesbian, reprim, n...  \n",
       "4  [niñ, gust, vio, asi, dij, hol, bien, dia, sol...  "
      ]
     },
     "execution_count": 14,
     "metadata": {},
     "output_type": "execute_result"
    }
   ],
   "source": [
    "EXIST2021_all_text[\"Stemmed\"] = EXIST2021_all_text.Tokens.apply(stem_palabras)\n",
    "\n",
    "EXIST2021_all_text.head()"
   ]
  },
  {
   "cell_type": "markdown",
   "metadata": {},
   "source": [
    "**Generación del diccionario (Gensim)**"
   ]
  },
  {
   "cell_type": "code",
   "execution_count": 15,
   "metadata": {},
   "outputs": [
    {
     "name": "stdout",
     "output_type": "stream",
     "text": [
      "Número de tokens: 11142\n"
     ]
    }
   ],
   "source": [
    "diccionario = Dictionary(EXIST2021_all_text.Stemmed)\n",
    "print(f'Número de tokens: {len(diccionario)}')"
   ]
  },
  {
   "cell_type": "markdown",
   "metadata": {},
   "source": [
    "**Inicialización del corpus: Cada documento se transforma en una bolsa de palabras BOW con las frecuencias de aparición**"
   ]
  },
  {
   "cell_type": "code",
   "execution_count": 16,
   "metadata": {},
   "outputs": [
    {
     "name": "stdout",
     "output_type": "stream",
     "text": [
      "[(2, 1), (70, 1), (71, 1), (72, 1), (73, 1), (74, 2), (75, 2), (76, 1), (77, 1), (78, 1), (79, 1), (80, 1), (81, 1), (82, 2), (83, 1)]\n"
     ]
    }
   ],
   "source": [
    "# Creamos el corpus \n",
    "corpus = [diccionario.doc2bow(tweet) for tweet in EXIST2021_all_text.Stemmed]\n",
    "\n",
    "# Mostramos el BOW de un tweet\n",
    "print(corpus[6])"
   ]
  },
  {
   "cell_type": "markdown",
   "metadata": {},
   "source": [
    "**Construcción del modelo LDA**"
   ]
  },
  {
   "cell_type": "code",
   "execution_count": 17,
   "metadata": {},
   "outputs": [],
   "source": [
    "lda = LdaModel(corpus=corpus, id2word=diccionario, \n",
    "               num_topics=50, random_state=42, \n",
    "               chunksize=1000, passes=10, alpha='auto')"
   ]
  },
  {
   "cell_type": "markdown",
   "metadata": {},
   "source": [
    "**Visualización de tópicos. Nube de palabras (WordCloud)**"
   ]
  },
  {
   "cell_type": "code",
   "execution_count": 18,
   "metadata": {},
   "outputs": [
    {
     "name": "stdout",
     "output_type": "stream",
     "text": [
      "(47, '0.089*\"aunqu\" + 0.072*\"nenaz\" + 0.044*\"total\" + 0.044*\"acept\" + 0.035*\"particip\"')\n",
      "(30, '0.124*\"tip\" + 0.063*\"manspreading\" + 0.061*\"vas\" + 0.044*\"ultim\" + 0.037*\"drog\"')\n",
      "(3, '0.113*\"cort\" + 0.070*\"fald\" + 0.053*\"frent\" + 0.050*\"larg\" + 0.031*\"ment\"')\n",
      "(40, '0.121*\"violacion\" + 0.072*\"fot\" + 0.049*\"conden\" + 0.040*\"segun\" + 0.034*\"nacional\"')\n",
      "(14, '0.128*\"nuev\" + 0.120*\"llev\" + 0.095*\"man\" + 0.078*\"mam\" + 0.042*\"quien\"')\n",
      "(19, '0.059*\"parej\" + 0.055*\"final\" + 0.041*\"inclus\" + 0.031*\"año\" + 0.030*\"san\"')\n",
      "(34, '0.048*\"consider\" + 0.044*\"vien\" + 0.034*\"gobiern\" + 0.027*\"trump\" + 0.027*\"pedaz\"')\n",
      "(32, '0.079*\"vist\" + 0.072*\"car\" + 0.043*\"pag\" + 0.035*\"sirv\" + 0.033*\"ojal\"')\n",
      "(49, '0.097*\"clar\" + 0.072*\"vec\" + 0.036*\"violador\" + 0.034*\"poc\" + 0.029*\"dond\"')\n",
      "(17, '0.106*\"abort\" + 0.092*\"public\" + 0.049*\"dar\" + 0.040*\"mor\" + 0.034*\"celebr\"')\n",
      "(37, '0.126*\"tan\" + 0.119*\"bien\" + 0.066*\"mund\" + 0.045*\"hombr\" + 0.040*\"conoc\"')\n",
      "(39, '0.117*\"dia\" + 0.091*\"mujer\" + 0.080*\"hoy\" + 0.039*\"pod\" + 0.035*\"ver\"')\n",
      "(22, '0.240*\"put\" + 0.142*\"hij\" + 0.114*\"parec\" + 0.038*\"respet\" + 0.034*\"hermos\"')\n",
      "(29, '0.126*\"buen\" + 0.081*\"va\" + 0.058*\"tet\" + 0.058*\"not\" + 0.055*\"gord\"')\n",
      "(33, '0.170*\"chic\" + 0.070*\"mas\" + 0.052*\"cos\" + 0.041*\"hac\" + 0.039*\"ser\"')\n",
      "(25, '0.252*\"muj\" + 0.101*\"ser\" + 0.045*\"gan\" + 0.026*\"quier\" + 0.024*\"florer\"')\n",
      "(18, '0.068*\"nunc\" + 0.051*\"hag\" + 0.047*\"pens\" + 0.041*\"muj\" + 0.036*\"pon\"')\n",
      "(1, '0.087*\"asi\" + 0.051*\"nadi\" + 0.049*\"cul\" + 0.042*\"cambi\" + 0.041*\"pued\"')\n",
      "(41, '0.090*\"dic\" + 0.088*\"habl\" + 0.065*\"si\" + 0.042*\"pues\" + 0.034*\"embaraz\"')\n",
      "(5, '0.138*\"femin\" + 0.114*\"mujer\" + 0.051*\"hac\" + 0.044*\"hombr\" + 0.033*\"derech\"')\n"
     ]
    }
   ],
   "source": [
    "topicos = lda.print_topics(num_words=5, num_topics=20)\n",
    "for topico in topicos:\n",
    "    print(topico)"
   ]
  },
  {
   "cell_type": "code",
   "execution_count": 19,
   "metadata": {},
   "outputs": [
    {
     "data": {
      "image/png": "[encoded data removed]",
      "text/plain": [
       "<Figure size 432x288 with 1 Axes>"
      ]
     },
     "metadata": {
      "needs_background": "light"
     },
     "output_type": "display_data"
    },
    {
     "data": {
      "image/png": "[encoded data removed]",
      "text/plain": [
       "<Figure size 432x288 with 1 Axes>"
      ]
     },
     "metadata": {
      "needs_background": "light"
     },
     "output_type": "display_data"
    },
    {
     "data": {
      "image/png": "[encoded data removed]",
      "text/plain": [
       "<Figure size 432x288 with 1 Axes>"
      ]
     },
     "metadata": {
      "needs_background": "light"
     },
     "output_type": "display_data"
    },
    {
     "data": {
      "image/png": "[encoded data removed]",
      "text/plain": [
       "<Figure size 432x288 with 1 Axes>"
      ]
     },
     "metadata": {
      "needs_background": "light"
     },
     "output_type": "display_data"
    }
   ],
   "source": [
    "for i in range(1, 5):\n",
    "    plt.figure()\n",
    "    plt.imshow(WordCloud(background_color='white', prefer_horizontal=1.0)\n",
    "               .fit_words(dict(lda.show_topic(i, 20))))\n",
    "    plt.axis(\"off\")\n",
    "    plt.title(\"Tópico \" + str(i))\n",
    "    plt.show()"
   ]
  },
  {
   "cell_type": "markdown",
   "metadata": {},
   "source": [
    "**Evaluación del modelo con una tweet del conjunto**"
   ]
  },
  {
   "cell_type": "code",
   "execution_count": 43,
   "metadata": {},
   "outputs": [
    {
     "name": "stdout",
     "output_type": "stream",
     "text": [
      "Tweet: hasta una feminazi se va dejar maltratar por un hombre la hora de coger porque cuando una mujer anda con ganas de que le metan la verga se olvida de cualquier ideal principio hasta que se le baje la calentura\n"
     ]
    }
   ],
   "source": [
    "indice_tweet = random.randint(0,len(EXIST2021_all_text))\n",
    "tweet = EXIST2021_all_text.iloc[indice_tweet]\n",
    "print(\"Tweet: \" + tweet.Final_text)\n"
   ]
  },
  {
   "cell_type": "markdown",
   "metadata": {},
   "source": [
    "**Representación BOW y distribución de tópicos del documento**"
   ]
  },
  {
   "cell_type": "code",
   "execution_count": 44,
   "metadata": {
    "scrolled": true
   },
   "outputs": [
    {
     "name": "stdout",
     "output_type": "stream",
     "text": [
      "[(1, 1), (2, 1), (8, 1), (12, 1), (165, 1), (201, 1), (233, 1), (356, 1), (603, 1), (708, 1), (818, 1), (879, 1), (1146, 1), (1194, 1), (1296, 1), (1655, 1), (1802, 1), (2710, 1)]\n",
      "[(2, 0.0509694), (4, 0.0379818), (11, 0.05833467), (22, 0.051842775), (24, 0.05105242), (25, 0.11538702), (26, 0.09862312), (29, 0.052431647), (32, 0.050195925), (33, 0.061706264), (37, 0.07299206), (38, 0.050780836), (41, 0.10672502), (44, 0.051318105)]\n"
     ]
    }
   ],
   "source": [
    "bow_tweet = corpus[indice_tweet]\n",
    "distribucion_tweet = lda[bow_tweet]\n",
    "\n",
    "print(bow_tweet)\n",
    "print(distribucion_tweet)"
   ]
  },
  {
   "cell_type": "markdown",
   "metadata": {},
   "source": [
    "**Indices y contribución de los tópicos más significativos**"
   ]
  },
  {
   "cell_type": "code",
   "execution_count": 45,
   "metadata": {},
   "outputs": [],
   "source": [
    "# Indices de los topicos mas significativos\n",
    "dist_indices = [topico[0] for topico in lda[bow_tweet]]\n",
    "# Contribución de los topicos mas significativos\n",
    "dist_contrib = [topico[1] for topico in lda[bow_tweet]]"
   ]
  },
  {
   "cell_type": "code",
   "execution_count": 46,
   "metadata": {},
   "outputs": [
    {
     "data": {
      "image/png": "[encoded data removed]",
      "text/plain": [
       "<Figure size 432x288 with 1 Axes>"
      ]
     },
     "metadata": {
      "needs_background": "light"
     },
     "output_type": "display_data"
    }
   ],
   "source": [
    "distribucion_topicos = pd.DataFrame({'Topico':dist_indices,\n",
    "                                     'Contribucion':dist_contrib })\n",
    "distribucion_topicos.sort_values('Contribucion', \n",
    "                                 ascending=False, inplace=True)\n",
    "ax = distribucion_topicos.plot.bar(y='Contribucion',x='Topico', \n",
    "                                   rot=0, color=\"orange\",\n",
    "                                   title = 'Tópicos mas importantes del tweet ' + str(indice_tweet))"
   ]
  },
  {
   "cell_type": "code",
   "execution_count": 47,
   "metadata": {},
   "outputs": [
    {
     "name": "stdout",
     "output_type": "stream",
     "text": [
      "*** Tópico: 25 ***\n",
      "muj, ser, gan, quier, florer, hombr, diner, rebeld, pas, mar \n",
      "\n",
      "*** Tópico: 41 ***\n",
      "dic, habl, si, pues, embaraz, ser, hac, pued, feminazi, señorit \n",
      "\n",
      "*** Tópico: 26 ***\n",
      "hech, denunci, met, intent, baj, vari, ello, mir, top, articul \n",
      "\n",
      "*** Tópico: 37 ***\n",
      "tan, bien, mund, hombr, conoc, sient, peor, moment, sufr, ser \n",
      "\n",
      "*** Tópico: 33 ***\n",
      "chic, mas, cos, hac, ser, tont, esper, masculin, rubi, veo \n",
      "\n",
      "*** Tópico: 11 ***\n",
      "cuent, mierd, tir, cag, padr, si, vez, relacion, hab, entonc \n",
      "\n",
      "*** Tópico: 29 ***\n",
      "buen, va, tet, not, gord, siempr, niñat, perd, encant, llor \n",
      "\n",
      "*** Tópico: 22 ***\n",
      "put, hij, parec, respet, hermos, hiz, salg, mil, sep, increibl \n",
      "\n",
      "*** Tópico: 44 ***\n",
      "quier, peg, mujer, rob, carcel, respons, pequeñ, recuerd, real, maltrat \n",
      "\n",
      "*** Tópico: 24 ***\n",
      "ningun, vide, comentari, izquierd, inform, olvid, deten, via, compart, radical \n",
      "\n",
      "*** Tópico: 2 ***\n",
      "madr, ahor, amig, mientr, novi, androcentr, hor, prefier, libert, mach \n",
      "\n",
      "*** Tópico: 38 ***\n",
      "tom, comun, sex, famili, sos, si, demas, twitt, jamas, anda \n",
      "\n",
      "*** Tópico: 32 ***\n",
      "vist, car, pag, sirv, ojal, golp, pur, disfrut, atencion, complet \n",
      "\n",
      "*** Tópico: 4 ***\n",
      "dej, segu, vam, sol, sodomiz, carg, mes, toc, perdon, si \n",
      "\n"
     ]
    }
   ],
   "source": [
    "for ind, topico in distribucion_topicos.iterrows():\n",
    "    print(\"*** Tópico: \" + str(int(topico.Topico)) + \" ***\")\n",
    "    palabras = [palabra[0] for palabra in lda.show_topic(\n",
    "        topicid=int(topico.Topico))]\n",
    "    palabras = ', '.join(palabras)\n",
    "    print(palabras, \"\\n\")"
   ]
  },
  {
   "cell_type": "markdown",
   "metadata": {},
   "source": [
    "**Evaluación del modelo con un tweet nuevo**"
   ]
  },
  {
   "cell_type": "code",
   "execution_count": 48,
   "metadata": {},
   "outputs": [
    {
     "data": {
      "text/html": [
       "<div>\n",
       "<style scoped>\n",
       "    .dataframe tbody tr th:only-of-type {\n",
       "        vertical-align: middle;\n",
       "    }\n",
       "\n",
       "    .dataframe tbody tr th {\n",
       "        vertical-align: top;\n",
       "    }\n",
       "\n",
       "    .dataframe thead th {\n",
       "        text-align: right;\n",
       "    }\n",
       "</style>\n",
       "<table border=\"1\" class=\"dataframe\">\n",
       "  <thead>\n",
       "    <tr style=\"text-align: right;\">\n",
       "      <th></th>\n",
       "      <th>text</th>\n",
       "    </tr>\n",
       "  </thead>\n",
       "  <tbody>\n",
       "    <tr>\n",
       "      <th>0</th>\n",
       "      <td>@test. Una feminazi maltratada por un hombre o...</td>\n",
       "    </tr>\n",
       "  </tbody>\n",
       "</table>\n",
       "</div>"
      ],
      "text/plain": [
       "                                                text\n",
       "0  @test. Una feminazi maltratada por un hombre o..."
      ]
     },
     "execution_count": 48,
     "metadata": {},
     "output_type": "execute_result"
    }
   ],
   "source": [
    "texto_tweet =pd.DataFrame()\n",
    "texto_tweet['text'] =  ['@test. Una feminazi maltratada por un hombre olvida ideales si quiere que se la metan']\n",
    "texto_tweet\n"
   ]
  },
  {
   "cell_type": "markdown",
   "metadata": {},
   "source": [
    "**Preprocesamos el tweet al igual que hicimos con el corpus y después realizamos las estimaciones**"
   ]
  },
  {
   "cell_type": "code",
   "execution_count": 49,
   "metadata": {},
   "outputs": [
    {
     "data": {
      "text/plain": [
       "['feminazi', 'maltrat', 'hombr', 'olvid', 'ideal', 'si', 'quier', 'met']"
      ]
     },
     "execution_count": 49,
     "metadata": {},
     "output_type": "execute_result"
    }
   ],
   "source": [
    "\n",
    "texto_tweet_c = text_cleaning(texto_tweet)\n",
    "\n",
    "chars = ['[', ']', \"''\"]\n",
    " \n",
    "texto_tweet_c = texto_tweet_c[0].translate(str.maketrans('', '', ''.join(chars)))\n",
    "texto_tweet_c\n",
    "   \n",
    "texto_tweet_t = tokenizer.tokenize(texto_tweet_c)\n",
    "texto_tweet_t\n",
    "texto_tweet_sw = filtrar_stopword_digitos(texto_tweet_t)\n",
    "texto_tweet_sw\n",
    "texto_tweet_st = stem_palabras(texto_tweet_sw)\n",
    "texto_tweet_st"
   ]
  },
  {
   "cell_type": "code",
   "execution_count": 50,
   "metadata": {},
   "outputs": [
    {
     "name": "stdout",
     "output_type": "stream",
     "text": [
      "[(1, 1), (2, 1), (5, 1), (24, 1), (233, 1), (356, 1), (1194, 1), (1802, 1)]\n"
     ]
    }
   ],
   "source": [
    "bow_tweet_nuevo = diccionario.doc2bow(texto_tweet_st)\n",
    "print(bow_tweet_nuevo)"
   ]
  },
  {
   "cell_type": "code",
   "execution_count": 51,
   "metadata": {},
   "outputs": [],
   "source": [
    "# Indices de los topicos mas significativos\n",
    "dist_indices_new = [topico[0] for topico in lda[bow_tweet_nuevo]]\n",
    "# Contribucion de los topicos mas significativos\n",
    "dist_contrib_new = [topico[1] for topico in lda[bow_tweet_nuevo]]"
   ]
  },
  {
   "cell_type": "code",
   "execution_count": 52,
   "metadata": {},
   "outputs": [
    {
     "data": {
      "image/png": "[encoded data removed]",
      "text/plain": [
       "<Figure size 432x288 with 1 Axes>"
      ]
     },
     "metadata": {
      "needs_background": "light"
     },
     "output_type": "display_data"
    }
   ],
   "source": [
    "distribucion_topicos_new = pd.DataFrame({'Topico':dist_indices_new,\n",
    "                                     'Contribucion':dist_contrib_new })\n",
    "distribucion_topicos_new.sort_values('Contribucion', \n",
    "                                 ascending=False, inplace=True)\n",
    "ax = distribucion_topicos_new.plot.bar(y='Contribucion',x='Topico', \n",
    "                                   rot=0, color=\"green\",\n",
    "                                   title = 'Tópicos más importantes para tweet nuevo')"
   ]
  },
  {
   "cell_type": "code",
   "execution_count": 53,
   "metadata": {},
   "outputs": [
    {
     "name": "stdout",
     "output_type": "stream",
     "text": [
      "*** Tópico: 41 ***\n",
      "dic, habl, si, pues, embaraz, ser, hac, pued, feminazi, señorit \n",
      "\n",
      "*** Tópico: 37 ***\n",
      "tan, bien, mund, hombr, conoc, sient, peor, moment, sufr, ser \n",
      "\n",
      "*** Tópico: 44 ***\n",
      "quier, peg, mujer, rob, carcel, respons, pequeñ, recuerd, real, maltrat \n",
      "\n",
      "*** Tópico: 24 ***\n",
      "ningun, vide, comentari, izquierd, inform, olvid, deten, via, compart, radical \n",
      "\n",
      "*** Tópico: 26 ***\n",
      "hech, denunci, met, intent, baj, vari, ello, mir, top, articul \n",
      "\n",
      "*** Tópico: 5 ***\n",
      "femin, mujer, hac, hombr, derech, gener, odi, dañ, iguald, luch \n",
      "\n"
     ]
    }
   ],
   "source": [
    "for ind, topico in distribucion_topicos_new.iterrows():\n",
    "    print(\"*** Tópico: \" + str(int(topico.Topico)) + \" ***\")\n",
    "    palabras = [palabra[0] for palabra in lda.show_topic(\n",
    "        topicid=int(topico.Topico))]\n",
    "    palabras = ', '.join(palabras)\n",
    "    print(palabras, \"\\n\")"
   ]
  },
  {
   "cell_type": "markdown",
   "metadata": {},
   "source": [
    "**Como vemos, los tópicos más relevantes del tweet analizado son el 41, el 37 y el 44. En ellos podemos ver que aparecen los términos feminazi, hombre**\n",
    "\n",
    "**Vemos que es posible también utilizar esta técnica de detección de tópicos para detectar sexismo y trazas de violencia de género en las publicaciones en redes sociales**"
   ]
  },
  {
   "cell_type": "markdown",
   "metadata": {},
   "source": [
    "**SIMILITUD ENTRE TEXTOS**"
   ]
  },
  {
   "cell_type": "markdown",
   "metadata": {},
   "source": [
    "**Primero obtenemos la distribución de tópicos del texto nuevo del cual queremos obtener los textos más similares. Después,  calculamos la distancia entre ese texto nuevo y el resto comparando sus distribuciones de tópicos.**\n",
    "\n",
    "**Para calcular la distancia entre dos distribuciones utilizaremos la métrica de distancia de Jensen-Shannon, una medida de distancia estadística entre distribuciones de probabilidad. Esta métrica nos devolverá un valor comprendido entre 0 y 1, donde cuanto menor sea este valor significa una mayor similitud entre las dos distribuciones.**"
   ]
  },
  {
   "cell_type": "code",
   "execution_count": 54,
   "metadata": {},
   "outputs": [],
   "source": [
    "from gensim.matutils import jensen_shannon"
   ]
  },
  {
   "cell_type": "code",
   "execution_count": 55,
   "metadata": {},
   "outputs": [
    {
     "data": {
      "text/html": [
       "<div>\n",
       "<style scoped>\n",
       "    .dataframe tbody tr th:only-of-type {\n",
       "        vertical-align: middle;\n",
       "    }\n",
       "\n",
       "    .dataframe tbody tr th {\n",
       "        vertical-align: top;\n",
       "    }\n",
       "\n",
       "    .dataframe thead th {\n",
       "        text-align: right;\n",
       "    }\n",
       "</style>\n",
       "<table border=\"1\" class=\"dataframe\">\n",
       "  <thead>\n",
       "    <tr style=\"text-align: right;\">\n",
       "      <th></th>\n",
       "      <th>text</th>\n",
       "    </tr>\n",
       "  </thead>\n",
       "  <tbody>\n",
       "    <tr>\n",
       "      <th>0</th>\n",
       "      <td>@test. Todas las feminazis son iguales. Se olv...</td>\n",
       "    </tr>\n",
       "  </tbody>\n",
       "</table>\n",
       "</div>"
      ],
      "text/plain": [
       "                                                text\n",
       "0  @test. Todas las feminazis son iguales. Se olv..."
      ]
     },
     "execution_count": 55,
     "metadata": {},
     "output_type": "execute_result"
    }
   ],
   "source": [
    "texto_tweet =pd.DataFrame()\n",
    "texto_tweet['text'] =  ['@test. Todas las feminazis son iguales. Se olvidan pronto de los ideales si conviene']\n",
    "texto_tweet\n"
   ]
  },
  {
   "cell_type": "code",
   "execution_count": 56,
   "metadata": {},
   "outputs": [
    {
     "data": {
      "text/plain": [
       "['tod', 'feminazis', 'igual', 'olvid', 'pront', 'ideal', 'si', 'convien']"
      ]
     },
     "execution_count": 56,
     "metadata": {},
     "output_type": "execute_result"
    }
   ],
   "source": [
    "\n",
    "texto_tweet_c = text_cleaning(texto_tweet)\n",
    "\n",
    "chars = ['[', ']', \"''\"]\n",
    " \n",
    "texto_tweet_c = texto_tweet_c[0].translate(str.maketrans('', '', ''.join(chars)))\n",
    "texto_tweet_c\n",
    "   \n",
    "texto_tweet_t = tokenizer.tokenize(texto_tweet_c)\n",
    "texto_tweet_t\n",
    "texto_tweet_sw = filtrar_stopword_digitos(texto_tweet_t)\n",
    "texto_tweet_sw\n",
    "texto_tweet_st = stem_palabras(texto_tweet_sw)\n",
    "texto_tweet_st"
   ]
  },
  {
   "cell_type": "code",
   "execution_count": 50,
   "metadata": {},
   "outputs": [
    {
     "name": "stdout",
     "output_type": "stream",
     "text": [
      "[(1, 1), (2, 1), (5, 1), (24, 1), (233, 1), (356, 1), (1194, 1), (1802, 1)]\n"
     ]
    }
   ],
   "source": [
    "bow_tweet_nuevo = diccionario.doc2bow(texto_tweet_st)\n",
    "print(bow_tweet_nuevo)"
   ]
  },
  {
   "cell_type": "markdown",
   "metadata": {},
   "source": [
    "**Con el método get_document_topics de Gensim obtenemos la distribución de tópicos y ajustando el parámetro minimum_probability a 0 nos aseguraremos de que ningún tópico sea descartado.**"
   ]
  },
  {
   "cell_type": "code",
   "execution_count": 63,
   "metadata": {},
   "outputs": [],
   "source": [
    "distribucion_tweet = lda.get_document_topics(bow_tweet_nuevo, \n",
    "                                               minimum_probability=0)"
   ]
  },
  {
   "cell_type": "markdown",
   "metadata": {},
   "source": [
    "**Calculamos la distancia entre dos distribuciones**"
   ]
  },
  {
   "cell_type": "code",
   "execution_count": 64,
   "metadata": {},
   "outputs": [],
   "source": [
    "def calcular_jensen_shannon_sim_doc_doc(doc_dist1, doc_dist2):   \n",
    "    return jensen_shannon(doc_dist1, doc_dist2)"
   ]
  },
  {
   "cell_type": "markdown",
   "metadata": {},
   "source": [
    "**Implementamos un método para calcular las distancias entre las distribuciones de tópicos de nuestro tweet con los del resto y mostrar el texto de aquellos más similares, es decir, los que tengan la distancia más baja, junto con el valor de esta**"
   ]
  },
  {
   "cell_type": "code",
   "execution_count": 65,
   "metadata": {},
   "outputs": [],
   "source": [
    "def mostrar_n_mas_similares(distribucion_tweet, n):   \n",
    "    distancias = [calcular_jensen_shannon_sim_doc_doc(\n",
    "        distribucion_tweet, lda[noticia]) for noticia in corpus]\n",
    "    mas_similares = np.argsort(distancias)\n",
    "    for i in range(0,n):\n",
    "        titular = EXIST2021_all_text.iloc[int(mas_similares[i])].Final_text\n",
    "        print(f'{i + 1}: {titular} ({distancias[mas_similares[i]]})')"
   ]
  },
  {
   "cell_type": "code",
   "execution_count": 66,
   "metadata": {},
   "outputs": [
    {
     "name": "stdout",
     "output_type": "stream",
     "text": [
      "1: los que quieran mencionar (0.1583302915096283)\n",
      "2: imagino que esta feminazi es boba (0.17766991257667542)\n",
      "3: kokichi se le subió la fama (0.18915718793869019)\n",
      "4: feminazi tóxica endeluego (0.21620112657546997)\n",
      "5: la izquierda feminazi no dirá nada de esto (0.2162017822265625)\n"
     ]
    }
   ],
   "source": [
    "mostrar_n_mas_similares(distribucion_tweet, 5)"
   ]
  },
  {
   "cell_type": "markdown",
   "metadata": {},
   "source": [
    "**Como podemos ver, los 5 tweets más similares calculados mediante la distancia Jensen-Shannon son, bastante similares a nuestro tweet.**"
   ]
  },
  {
   "cell_type": "markdown",
   "metadata": {},
   "source": [
    "**NOTA: En el contexto del TFM, con este apartado no se ha pretendido profundizar por ejemplo en el tema mediante la creación de modelos para determinar el número óptimo de temas a considerar etc...**\n",
    "\n",
    "**El objetivo es mostrar que existen diferentes técnicas para poder extraer de manera automática relaciones semánticas latentes de grandes volúmenes de información y buscar información similar, y que esto puede ser aplicable al objetivo del trabajo**\n"
   ]
  },
  {
   "cell_type": "markdown",
   "metadata": {},
   "source": [
    "**REFERENCIAS**\n",
    "\n",
    "**GENSIM: Word2Vec Model. https://radimrehurek.com/gensim/auto_examples/tutorials/run_word2vec.html**\n",
    "\n",
    "**GENSIM: models.keyedvectors – Store and query word vectors https://radimrehurek.com/gensim_3.8.3/models/keyedvectors.html**\n",
    "\n",
    "**https://web.stanford.edu/: Gensim word vector visualization of various word vectors.https://web.stanford.edu/class/cs224n/materials/Gensim%20word%20vector%20visualization.html**\n",
    "\n",
    "**Quora: What is the difference between wordnet and word2vec?. https://www.quora.com/What-is-the-difference-between-wordnet-and-word2vec**\n",
    "\n",
    "**Developer Twitter: https://developer.twitter.com/en/apps**\n",
    "\n",
    "**Towardsdatascience: Khuyen Tran Feb 15, 2020. How to Tokenize Tweets with Python https://towardsdatascience.com/an-introduction-to-tweettokenizer-for-processing-tweets-9879389f8fe7**\n",
    "\n",
    "**Towards AI. Buse Yaren Tekin Sentiment Analysis with Logistic Regression https://towardsai.net/p/nlp/sentiment-analysis-with-logistic-regression**\n",
    "\n",
    "**sklearn.svm.LinearSVC https://scikit-learn.org/stable/modules/generated/sklearn.svm.LinearSVC.html**\n",
    "\n",
    "**Medium.com Vasista Reddy Nov 12, 2018. Sentiment Analysis using SVM https://medium.com/@vasista/sentiment-analysis-using-svm-338d418e3ff1#:~:text=Sentiment%20Analysis%20is%20the%20NLP%20technique%20that%20performs%20on%20the,positive%2C%20negative%2C%20or%20neutral.**\n",
    "\n",
    "\n"
   ]
  },
  {
   "cell_type": "code",
   "execution_count": null,
   "metadata": {},
   "outputs": [],
   "source": []
  }
 ],
 "metadata": {
  "colab": {
   "collapsed_sections": [],
   "name": "Copia de PRA2_ES.ipynb",
   "provenance": [
    {
     "file_id": "1Lb0VvQpwg70mRjfO7u_oHFQQO3jWgPvL",
     "timestamp": 1649024909187
    }
   ]
  },
  "kernelspec": {
   "display_name": "Python 3 (ipykernel)",
   "language": "python",
   "name": "python3"
  },
  "language_info": {
   "codemirror_mode": {
    "name": "ipython",
    "version": 3
   },
   "file_extension": ".py",
   "mimetype": "text/x-python",
   "name": "python",
   "nbconvert_exporter": "python",
   "pygments_lexer": "ipython3",
   "version": "3.7.10"
  },
  "varInspector": {
   "cols": {
    "lenName": 16,
    "lenType": 16,
    "lenVar": 40
   },
   "kernels_config": {
    "python": {
     "delete_cmd_postfix": "",
     "delete_cmd_prefix": "del ",
     "library": "var_list.py",
     "varRefreshCmd": "print(var_dic_list())"
    },
    "r": {
     "delete_cmd_postfix": ") ",
     "delete_cmd_prefix": "rm(",
     "library": "var_list.r",
     "varRefreshCmd": "cat(var_dic_list()) "
    }
   },
   "types_to_exclude": [
    "module",
    "function",
    "builtin_function_or_method",
    "instance",
    "_Feature"
   ],
   "window_display": false
  }
 },
 "nbformat": 4,
 "nbformat_minor": 1
}
